{
 "cells": [
  {
   "cell_type": "markdown",
   "metadata": {},
   "source": [
    "# Condicionais (if e else)\n"
   ]
  },
  {
   "cell_type": "markdown",
   "metadata": {},
   "source": [
    "## Condicional if\n",
    "\n",
    "O condicional if é utilizado para passar uma instrução condicionada ao computador, no caso da condição ser verdadeira. A estrutura do condicional if é sempre a seguinte\n",
    "\n",
    "* if declaração:\n",
    "* ------ instrução 01\n",
    "* ------ instrução 02\n",
    "* ------ .\n",
    "* ------ .\n",
    "* ------ .m"
   ]
  },
  {
   "cell_type": "code",
   "execution_count": 4,
   "metadata": {
    "ExecuteTime": {
     "end_time": "2020-11-27T14:05:06.338408Z",
     "start_time": "2020-11-27T14:05:04.260937Z"
    }
   },
   "outputs": [
    {
     "name": "stdout",
     "output_type": "stream",
     "text": [
      "digite um número:7\n",
      "7.0 é um número positivo.\n"
     ]
    },
    {
     "data": {
      "text/plain": [
       "7.0"
      ]
     },
     "execution_count": 4,
     "metadata": {},
     "output_type": "execute_result"
    }
   ],
   "source": [
    "num = float(input('digite um número:'))\n",
    "\n",
    "# Após a condição sempre deve haver os dois pontos :\n",
    "if num > 0:\n",
    "    # Todo bloco de código identado se encontra dentro do condicional if\n",
    "    print(num, 'é um número positivo.')\n",
    "    \n",
    "# Note que este bloco não indentado está fora do condicional\n",
    "num"
   ]
  },
  {
   "cell_type": "code",
   "execution_count": 5,
   "metadata": {
    "ExecuteTime": {
     "end_time": "2020-11-27T14:05:54.164125Z",
     "start_time": "2020-11-27T14:05:51.302981Z"
    }
   },
   "outputs": [
    {
     "name": "stdout",
     "output_type": "stream",
     "text": [
      "Digite um número inteiro: 3\n",
      "Número ímpar\n"
     ]
    }
   ],
   "source": [
    "a = int(input(\"Digite um número inteiro: \"))\n",
    "\n",
    "if (a % 2) == 1:\n",
    "    print(\"Número ímpar\")"
   ]
  },
  {
   "cell_type": "code",
   "execution_count": 6,
   "metadata": {
    "ExecuteTime": {
     "end_time": "2020-11-27T14:06:44.105639Z",
     "start_time": "2020-11-27T14:06:42.290194Z"
    }
   },
   "outputs": [
    {
     "name": "stdout",
     "output_type": "stream",
     "text": [
      "Digite um número inteiro: 2\n",
      "Número par\n"
     ]
    }
   ],
   "source": [
    "a = int(input(\"Digite um número inteiro: \"))\n",
    "\n",
    "if (a % 2) == 0:\n",
    "    print(\"Número par\")\n",
    "if (a % 2) == 1:\n",
    "    print(\"Número ímpar\")"
   ]
  },
  {
   "cell_type": "markdown",
   "metadata": {},
   "source": [
    "## Condicional else\n",
    "\n",
    "A estrutura do condicional if com o condicional else é sempre a seguinte\n",
    "\n",
    "* if declaração:\n",
    "* ------ instrução 01\n",
    "* ------ instrução 02\n",
    "* ------ .\n",
    "* ------ .\n",
    "* ------ .\n",
    "* else:\n",
    "* ------ .\n",
    "* ------ .\n",
    "* ------ ."
   ]
  },
  {
   "cell_type": "code",
   "execution_count": 8,
   "metadata": {
    "ExecuteTime": {
     "end_time": "2020-11-27T14:08:50.860340Z",
     "start_time": "2020-11-27T14:08:48.258563Z"
    }
   },
   "outputs": [
    {
     "name": "stdout",
     "output_type": "stream",
     "text": [
      "Digite um número inteiro: 3\n",
      "Número ímpar\n"
     ]
    }
   ],
   "source": [
    "a = int(input(\"Digite um número inteiro: \"))\n",
    "\n",
    "if (a % 2) == 0:\n",
    "    print(\"Número par\")\n",
    "else:\n",
    "    print(\"Número ímpar\")"
   ]
  },
  {
   "cell_type": "code",
   "execution_count": 9,
   "metadata": {
    "ExecuteTime": {
     "end_time": "2020-11-27T14:09:20.323456Z",
     "start_time": "2020-11-27T14:09:17.855019Z"
    }
   },
   "outputs": [
    {
     "name": "stdout",
     "output_type": "stream",
     "text": [
      "Digite o primeiro número: 3\n",
      "Digite o segundo número: 5\n",
      "O maior número é 5.0\n"
     ]
    }
   ],
   "source": [
    "a = float(input(\"Digite o primeiro número: \"))\n",
    "b = float(input(\"Digite o segundo número: \"))\n",
    "\n",
    "if a > b:\n",
    "    print(\"O maior número é\", a)\n",
    "else:\n",
    "    print(\"O maior número é\", b)"
   ]
  },
  {
   "cell_type": "code",
   "execution_count": 11,
   "metadata": {
    "ExecuteTime": {
     "end_time": "2020-11-27T14:10:08.442897Z",
     "start_time": "2020-11-27T14:10:05.639640Z"
    }
   },
   "outputs": [
    {
     "name": "stdout",
     "output_type": "stream",
     "text": [
      "Digite o primeiro número: 3\n",
      "Digite o segundo número: 4\n",
      "O maior número é o segundo\n"
     ]
    }
   ],
   "source": [
    "a = float(input(\"Digite o primeiro número: \"))\n",
    "b = float(input(\"Digite o segundo número: \"))\n",
    "\n",
    "if a == b:\n",
    "    print(\"Os dois números são iguais\")\n",
    "else:\n",
    "    # Podemos aninhar condicional if dentro de else\n",
    "    if a > b:\n",
    "        print(\"O maior número é o primeiro\")\n",
    "    # Podemos aninhar condicional else dentro de else\n",
    "    else:\n",
    "        print(\"O maior número é o segundo\")"
   ]
  },
  {
   "cell_type": "markdown",
   "metadata": {},
   "source": [
    "## Condicional elif\n",
    "\n",
    "O condicional elif é equivalente a um else + if."
   ]
  },
  {
   "cell_type": "code",
   "execution_count": 12,
   "metadata": {
    "ExecuteTime": {
     "end_time": "2020-11-27T14:12:33.513493Z",
     "start_time": "2020-11-27T14:12:29.938191Z"
    }
   },
   "outputs": [
    {
     "name": "stdout",
     "output_type": "stream",
     "text": [
      "Digite o primeiro número: 0\n",
      "Digite o segundo número: 9\n",
      "O maior número é o segundo\n"
     ]
    }
   ],
   "source": [
    "a = float(input(\"Digite o primeiro número: \"))\n",
    "b = float(input(\"Digite o segundo número: \"))\n",
    "\n",
    "if a == b:\n",
    "    print(\"Os dois números são iguais\")\n",
    "elif a > b:\n",
    "    print(\"O maior número é o primeiro\")\n",
    "else:\n",
    "    print(\"O maior número é o segundo\")"
   ]
  },
  {
   "cell_type": "code",
   "execution_count": 15,
   "metadata": {
    "ExecuteTime": {
     "end_time": "2020-11-27T14:19:47.730924Z",
     "start_time": "2020-11-27T14:19:43.636641Z"
    }
   },
   "outputs": [
    {
     "name": "stdout",
     "output_type": "stream",
     "text": [
      "Digite um valor para a:1\n",
      "Digite um valor para b:4\n",
      "Digite um valor para c:1\n",
      "delta é maior que zero\n",
      "O valor de delta é 12.0\n"
     ]
    }
   ],
   "source": [
    "a = float(input('Digite um valor para a:'))\n",
    "b = float(input('Digite um valor para b:'))\n",
    "c = float(input('Digite um valor para c:'))\n",
    "\n",
    "delta = b**2 - 4*a*c\n",
    "\n",
    "if delta  == 0:\n",
    "    print('delta é igual a zer0')\n",
    "elif delta > 0:\n",
    "    print('delta é maior que zero')\n",
    "elif delta < 0:\n",
    "    print('delta é menor que zero')\n",
    "\n",
    "print('O valor de delta é', delta)"
   ]
  },
  {
   "cell_type": "code",
   "execution_count": 17,
   "metadata": {
    "ExecuteTime": {
     "end_time": "2020-11-27T14:24:53.483830Z",
     "start_time": "2020-11-27T14:24:50.852551Z"
    }
   },
   "outputs": [
    {
     "name": "stdout",
     "output_type": "stream",
     "text": [
      "Digite um valor para a:1\n",
      "Digite um valor para b:2\n",
      "Digite um valor para c:1\n",
      "delta maior ou igual a zero, a equação quadrática possui raízes reais.\n",
      "O valor de delta é 0.0\n"
     ]
    }
   ],
   "source": [
    "a = float(input('Digite um valor para a:'))\n",
    "b = float(input('Digite um valor para b:'))\n",
    "c = float(input('Digite um valor para c:'))\n",
    "\n",
    "delta = b**2 - 4*a*c\n",
    "\n",
    "if delta  >= 0:\n",
    "    print('delta maior ou igual a zero, a equação quadrática possui raízes reais.')\n",
    "elif delta < 0:\n",
    "    print('delta é menor que zero, a equação quadrática não possui raízes reais.')\n",
    "\n",
    "print('O valor de delta é', delta)"
   ]
  },
  {
   "cell_type": "markdown",
   "metadata": {},
   "source": [
    "## Desafio\n",
    "\n",
    "Neste exemplo vamos criar um solucionador de equações do segundo grau\n",
    "\n",
    "\\begin{equation}\n",
    "\\nonumber ax^2 + bx + c = 0\n",
    "\\end{equation}\n",
    "\n",
    "Lembrando que devemos ter a condição de que $a \\neq 0$ para que a equação seja do\n",
    "segundo grau. A solução para esta equação é dada por\n",
    "\n",
    "\\begin{equation}\n",
    "\\nonumber x = \\frac{-b \\pm \\sqrt{b^2 - 4ac}}{2a}\n",
    "\\end{equation}\n",
    "\n",
    "Lembrando que para que as raízes sejam reais é necessário que o termo dentro da raiz quadrada seja sempre maior ou igual a zero. Este termo dentro da raíz quadrada é conhecido por discriminante e representado pela letra grega maiúscula delta $\\Delta$.\n",
    "\n",
    "\\begin{equation}\n",
    "\\nonumber \\Delta = b^2 - 4ac\n",
    "\\end{equation}"
   ]
  },
  {
   "cell_type": "code",
   "execution_count": 20,
   "metadata": {
    "ExecuteTime": {
     "end_time": "2020-11-27T14:28:51.314636Z",
     "start_time": "2020-11-27T14:28:49.010348Z"
    }
   },
   "outputs": [
    {
     "name": "stdout",
     "output_type": "stream",
     "text": [
      "Digite um valor para a:1\n",
      "Digite um valor para b:2\n",
      "Digite um valor para c:1\n",
      "delta maior ou igual a zero, a equação quadrática possui raízes reais.\n",
      "delta = 0.0\n",
      "x1 =  -1.0\n",
      "x2 =  -1.0\n"
     ]
    }
   ],
   "source": [
    "a = float(input('Digite um valor para a:'))\n",
    "b = float(input('Digite um valor para b:'))\n",
    "c = float(input('Digite um valor para c:'))\n",
    "\n",
    "if delta >= 0:\n",
    "    print('delta maior ou igual a zero, a equação quadrática possui raízes reais.')\n",
    "    delta = b**2 - 4*a*c\n",
    "    print('delta =', delta)\n",
    "    x1 = (-b + np.sqrt(delta))/(2*a)\n",
    "    print('x1 = ',x1)\n",
    "    x2 = (-b - np.sqrt(delta))/(2*a)\n",
    "    print('x2 = ',x2)\n",
    "elif delta < 0:\n",
    "    print('delta é menor que zero, a equação quadrática não possui raízes reais.')"
   ]
  },
  {
   "cell_type": "markdown",
   "metadata": {},
   "source": [
    "## Shorthand if e else"
   ]
  },
  {
   "cell_type": "code",
   "execution_count": 26,
   "metadata": {
    "ExecuteTime": {
     "end_time": "2020-11-27T15:16:20.293131Z",
     "start_time": "2020-11-27T15:16:17.607552Z"
    }
   },
   "outputs": [
    {
     "name": "stdout",
     "output_type": "stream",
     "text": [
      "Digite um valor para a:1\n",
      "Digite um valor para b:2\n",
      "Digite um valor para c:1\n",
      "a é maior que b\n"
     ]
    }
   ],
   "source": [
    "a = float(input('Digite um valor para a:'))\n",
    "b = float(input('Digite um valor para b:'))\n",
    "c = float(input('Digite um valor para c:'))\n",
    "delta = b**2 - 4*a*c\n",
    "\n",
    "if delta >= 0: print(\"delta é maior ou igual a zero\")"
   ]
  },
  {
   "cell_type": "code",
   "execution_count": 27,
   "metadata": {
    "ExecuteTime": {
     "end_time": "2020-11-27T15:17:55.437473Z",
     "start_time": "2020-11-27T15:17:53.118865Z"
    }
   },
   "outputs": [
    {
     "name": "stdout",
     "output_type": "stream",
     "text": [
      "Digite um valor para a:1\n",
      "Digite um valor para b:2\n",
      "b é maior\n"
     ]
    }
   ],
   "source": [
    "a = float(input('Digite um valor para a:'))\n",
    "b = float(input('Digite um valor para b:'))\n",
    "\n",
    "print(\"a é maior que b\") if a > b else print(\"b é maior que a\")"
   ]
  },
  {
   "cell_type": "code",
   "execution_count": 28,
   "metadata": {
    "ExecuteTime": {
     "end_time": "2020-11-27T15:19:28.373131Z",
     "start_time": "2020-11-27T15:19:26.151638Z"
    }
   },
   "outputs": [
    {
     "name": "stdout",
     "output_type": "stream",
     "text": [
      "Digite um valor para a:3\n",
      "Digite um valor para b:6\n",
      "b é maior que a\n"
     ]
    }
   ],
   "source": [
    "a = float(input('Digite um valor para a:'))\n",
    "b = float(input('Digite um valor para b:'))\n",
    "\n",
    "print(\"a é maior que b\") if a > b else print(\"a é igual à b\") if a == b else print(\"b é maior que a\")"
   ]
  },
  {
   "cell_type": "markdown",
   "metadata": {},
   "source": [
    "## Condicionais compostos"
   ]
  },
  {
   "cell_type": "code",
   "execution_count": 34,
   "metadata": {
    "ExecuteTime": {
     "end_time": "2020-11-27T15:44:52.854184Z",
     "start_time": "2020-11-27T15:44:49.237877Z"
    }
   },
   "outputs": [
    {
     "name": "stdout",
     "output_type": "stream",
     "text": [
      "Digite um valor para a:3\n",
      "Digite um valor para b:5\n",
      "Digite um valor para c:2\n",
      "a < b e a > c\n"
     ]
    }
   ],
   "source": [
    "a = float(input('Digite um valor para a:'))\n",
    "b = float(input('Digite um valor para b:'))\n",
    "c = float(input('Digite um valor para c:'))\n",
    "\n",
    "if a > b and b > c:\n",
    "    print('a > c')\n",
    "elif a < b and b < c:\n",
    "    print('a < c')\n",
    "elif a < b and b > c and a > c:\n",
    "    print('a < b e a > c')"
   ]
  },
  {
   "cell_type": "code",
   "execution_count": 45,
   "metadata": {
    "ExecuteTime": {
     "end_time": "2020-11-27T15:53:04.998312Z",
     "start_time": "2020-11-27T15:52:59.913102Z"
    }
   },
   "outputs": [
    {
     "name": "stdout",
     "output_type": "stream",
     "text": [
      "Digite um número entre 1 e 10:11\n",
      "Digite um número entre 1 e 10:\n",
      "Digite um número entre 1 e 10:10\n",
      "par\n"
     ]
    }
   ],
   "source": [
    "numero = float(input('Digite um número entre 1 e 10:'))\n",
    "\n",
    "impares = [1,3,5,7,9]\n",
    "\n",
    "pares = [2,4,6,8,10]\n",
    "\n",
    "if numero > 10 or numero < 0:\n",
    "    print('Digite um número entre 1 e 10:')\n",
    "    numero = float(input('Digite um número entre 1 e 10:'))\n",
    "    if numero in pares:\n",
    "        print('par')\n",
    "    elif numero in impares:\n",
    "        print('impar')"
   ]
  }
 ],
 "metadata": {
  "hide_input": false,
  "kernelspec": {
   "display_name": "Python 3 (ipykernel)",
   "language": "python",
   "name": "python3"
  },
  "language_info": {
   "codemirror_mode": {
    "name": "ipython",
    "version": 3
   },
   "file_extension": ".py",
   "mimetype": "text/x-python",
   "name": "python",
   "nbconvert_exporter": "python",
   "pygments_lexer": "ipython3",
   "version": "3.9.13"
  },
  "latex_envs": {
   "LaTeX_envs_menu_present": true,
   "autoclose": false,
   "autocomplete": true,
   "bibliofile": "biblio.bib",
   "cite_by": "apalike",
   "current_citInitial": 1,
   "eqLabelWithNumbers": true,
   "eqNumInitial": 1,
   "hotkeys": {
    "equation": "Ctrl-E",
    "itemize": "Ctrl-I"
   },
   "labels_anchors": false,
   "latex_user_defs": false,
   "report_style_numbering": false,
   "user_envs_cfg": false
  },
  "toc": {
   "base_numbering": 1,
   "nav_menu": {},
   "number_sections": true,
   "sideBar": true,
   "skip_h1_title": false,
   "title_cell": "Table of Contents",
   "title_sidebar": "Contents",
   "toc_cell": false,
   "toc_position": {
    "height": "calc(100% - 180px)",
    "left": "10px",
    "top": "150px",
    "width": "255.994px"
   },
   "toc_section_display": true,
   "toc_window_display": true
  },
  "varInspector": {
   "cols": {
    "lenName": 16,
    "lenType": 16,
    "lenVar": 40
   },
   "kernels_config": {
    "python": {
     "delete_cmd_postfix": "",
     "delete_cmd_prefix": "del ",
     "library": "var_list.py",
     "varRefreshCmd": "print(var_dic_list())"
    },
    "r": {
     "delete_cmd_postfix": ") ",
     "delete_cmd_prefix": "rm(",
     "library": "var_list.r",
     "varRefreshCmd": "cat(var_dic_list()) "
    }
   },
   "types_to_exclude": [
    "module",
    "function",
    "builtin_function_or_method",
    "instance",
    "_Feature"
   ],
   "window_display": false
  }
 },
 "nbformat": 4,
 "nbformat_minor": 4
}
