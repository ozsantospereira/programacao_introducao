{
 "cells": [
  {
   "cell_type": "markdown",
   "metadata": {},
   "source": [
    "# Loops (while e for)\n",
    "\n"
   ]
  },
  {
   "cell_type": "markdown",
   "metadata": {},
   "source": [
    "## While"
   ]
  },
  {
   "cell_type": "code",
   "execution_count": 1,
   "metadata": {
    "ExecuteTime": {
     "end_time": "2020-11-28T17:03:27.147025Z",
     "start_time": "2020-11-28T17:03:27.140044Z"
    }
   },
   "outputs": [
    {
     "name": "stdout",
     "output_type": "stream",
     "text": [
      "1\n",
      "2\n",
      "3\n",
      "4\n"
     ]
    }
   ],
   "source": [
    "i = 1\n",
    "while i < 5:\n",
    "  print(i)\n",
    "  i = i + 1"
   ]
  },
  {
   "cell_type": "code",
   "execution_count": 2,
   "metadata": {
    "ExecuteTime": {
     "end_time": "2020-11-28T17:03:28.072643Z",
     "start_time": "2020-11-28T17:03:28.064633Z"
    }
   },
   "outputs": [
    {
     "name": "stdout",
     "output_type": "stream",
     "text": [
      "1\n",
      "2\n",
      "3\n",
      "4\n"
     ]
    }
   ],
   "source": [
    "i = 1\n",
    "while i < 5:\n",
    "  print(i)\n",
    "  i += 1"
   ]
  },
  {
   "cell_type": "code",
   "execution_count": 5,
   "metadata": {
    "ExecuteTime": {
     "end_time": "2020-11-28T17:14:01.652000Z",
     "start_time": "2020-11-28T17:14:00.152716Z"
    }
   },
   "outputs": [
    {
     "name": "stdout",
     "output_type": "stream",
     "text": [
      "Digite um número inteiro positivo:6\n",
      "1\n",
      "2\n",
      "3\n",
      "4\n",
      "5\n",
      "6\n"
     ]
    }
   ],
   "source": [
    "n = int(input('Digite um número inteiro positivo:'))\n",
    "\n",
    "i = 1\n",
    "while i <= n:\n",
    "    print(i)\n",
    "    i = i + 1"
   ]
  },
  {
   "cell_type": "code",
   "execution_count": 8,
   "metadata": {
    "ExecuteTime": {
     "end_time": "2020-11-28T17:15:29.656352Z",
     "start_time": "2020-11-28T17:15:15.050406Z"
    }
   },
   "outputs": [
    {
     "name": "stdout",
     "output_type": "stream",
     "text": [
      "Entre com o dividendo: 10\n",
      "Entre com o divisor: 3\n",
      "Quociente: 3\n",
      "Resto: 1\n"
     ]
    }
   ],
   "source": [
    "dividendo = int(input(\"Entre com o dividendo: \"))\n",
    "divisor = int(input(\"Entre com o divisor: \"))\n",
    "\n",
    "quociente = 0\n",
    "\n",
    "while dividendo >= divisor:\n",
    "    dividendo = dividendo - divisor\n",
    "    quociente = quociente + 1\n",
    "\n",
    "print(\"Quociente:\", quociente)\n",
    "print(\"Resto:\", dividendo)\n"
   ]
  },
  {
   "cell_type": "code",
   "execution_count": 9,
   "metadata": {
    "ExecuteTime": {
     "end_time": "2020-11-28T17:16:35.376866Z",
     "start_time": "2020-11-28T17:16:28.963234Z"
    }
   },
   "outputs": [
    {
     "name": "stdout",
     "output_type": "stream",
     "text": [
      "Base: 2\n",
      "Expoente: 4\n",
      "16.0\n"
     ]
    }
   ],
   "source": [
    "base = float(input(\"Base: \"))\n",
    "exp = int(input(\"Expoente: \"))\n",
    "\n",
    "result = base\n",
    "i = 1\n",
    "\n",
    "while i < exp:\n",
    "    result = result * base\n",
    "    i = i + 1\n",
    "\n",
    "print(result)"
   ]
  },
  {
   "cell_type": "code",
   "execution_count": 11,
   "metadata": {
    "ExecuteTime": {
     "end_time": "2020-11-28T17:19:53.017943Z",
     "start_time": "2020-11-28T17:19:49.065445Z"
    }
   },
   "outputs": [
    {
     "name": "stdout",
     "output_type": "stream",
     "text": [
      "Base: 2\n",
      "Expoente: -4\n",
      "0.0625\n"
     ]
    }
   ],
   "source": [
    "base = float(input(\"Base: \"))\n",
    "exp = int(input(\"Expoente: \"))\n",
    "\n",
    "result = 1\n",
    "\n",
    "while exp > 0:\n",
    "    result = result * base\n",
    "    exp = exp - 1\n",
    "\n",
    "while exp < 0:\n",
    "    result = result / base\n",
    "    exp = exp + 1\n",
    "\n",
    "print(result)"
   ]
  },
  {
   "cell_type": "code",
   "execution_count": 12,
   "metadata": {
    "ExecuteTime": {
     "end_time": "2020-11-28T17:21:03.682210Z",
     "start_time": "2020-11-28T17:21:01.176357Z"
    }
   },
   "outputs": [
    {
     "name": "stdout",
     "output_type": "stream",
     "text": [
      "Entre com um número inteiro positivo: 5\n",
      "Resultado: 120\n"
     ]
    }
   ],
   "source": [
    "n = int(input(\"Entre com um número inteiro positivo: \"))\n",
    "fat = 1\n",
    "i = 1\n",
    "\n",
    "while i <= n:\n",
    "    fat = fat * i\n",
    "    i = i + 1\n",
    "\n",
    "print(\"Resultado:\", fat)"
   ]
  },
  {
   "cell_type": "code",
   "execution_count": 13,
   "metadata": {
    "ExecuteTime": {
     "end_time": "2020-11-28T17:22:34.714420Z",
     "start_time": "2020-11-28T17:22:33.106442Z"
    }
   },
   "outputs": [
    {
     "name": "stdout",
     "output_type": "stream",
     "text": [
      "Entre com um número inteiro positivo: 6\n",
      "Resultado: 720\n"
     ]
    }
   ],
   "source": [
    "n = int(input(\"Entre com um número inteiro positivo: \"))\n",
    "fat = 1\n",
    "\n",
    "while n > 0:\n",
    "    fat = fat * n\n",
    "    n = n - 1\n",
    "\n",
    "print(\"Resultado:\", fat)"
   ]
  },
  {
   "cell_type": "markdown",
   "metadata": {},
   "source": [
    "## While e listas"
   ]
  },
  {
   "cell_type": "code",
   "execution_count": 14,
   "metadata": {
    "ExecuteTime": {
     "end_time": "2020-11-28T18:01:41.815238Z",
     "start_time": "2020-11-28T18:01:41.791864Z"
    }
   },
   "outputs": [
    {
     "name": "stdout",
     "output_type": "stream",
     "text": [
      "a\n",
      "b\n",
      "c\n",
      "d\n",
      "e\n",
      "f\n",
      "g\n",
      "h\n"
     ]
    }
   ],
   "source": [
    "letras = ['a','b','c','d','e','f','g','h']\n",
    "i = 0\n",
    "\n",
    "while i < len(letras):\n",
    "    print(letras[i])\n",
    "    i = i + 1"
   ]
  },
  {
   "cell_type": "code",
   "execution_count": 18,
   "metadata": {
    "ExecuteTime": {
     "end_time": "2020-11-28T18:03:45.623647Z",
     "start_time": "2020-11-28T18:03:45.607785Z"
    }
   },
   "outputs": [
    {
     "name": "stdout",
     "output_type": "stream",
     "text": [
      "1000\n"
     ]
    }
   ],
   "source": [
    "# Encontrando o máximo de um conjunto de números quaisquer\n",
    "numeros = [11, 15, 21, 9, 14, 12,13, 100, 1000]\n",
    "maximo = 0\n",
    "\n",
    "i = 0\n",
    "while i < len(numeros):\n",
    "    if numeros[i] > maximo:\n",
    "        maximo = numeros[i]\n",
    "    i = i + 1\n",
    "    \n",
    "print(maximo)"
   ]
  },
  {
   "cell_type": "markdown",
   "metadata": {},
   "source": [
    "## For"
   ]
  },
  {
   "cell_type": "code",
   "execution_count": 20,
   "metadata": {
    "ExecuteTime": {
     "end_time": "2020-11-28T18:15:36.592116Z",
     "start_time": "2020-11-28T18:15:36.576824Z"
    }
   },
   "outputs": [
    {
     "name": "stdout",
     "output_type": "stream",
     "text": [
      "44\n"
     ]
    }
   ],
   "source": [
    "# Encontrando o máximo de um conjunto de números\n",
    "numeros = [13, 41, 37, 29, 44]\n",
    "maximo = 0\n",
    "\n",
    "for numero in numeros:\n",
    "    if numero > maximo:\n",
    "        maximo = numero\n",
    "\n",
    "print(maximo) "
   ]
  },
  {
   "cell_type": "code",
   "execution_count": 23,
   "metadata": {
    "ExecuteTime": {
     "end_time": "2020-11-28T18:17:43.876293Z",
     "start_time": "2020-11-28T18:17:43.863219Z"
    }
   },
   "outputs": [
    {
     "name": "stdout",
     "output_type": "stream",
     "text": [
      "[1, 2, 3, 4, 5, 6, 7, 8, 9]\n",
      "<class 'NoneType'>\n"
     ]
    }
   ],
   "source": [
    "lista = print(list(range(1, 10)))\n",
    "\n",
    "print(type(lista))\n",
    "\n",
    "lista"
   ]
  },
  {
   "cell_type": "code",
   "execution_count": 25,
   "metadata": {
    "ExecuteTime": {
     "end_time": "2020-11-28T18:19:31.905408Z",
     "start_time": "2020-11-28T18:19:31.892923Z"
    }
   },
   "outputs": [
    {
     "name": "stdout",
     "output_type": "stream",
     "text": [
      "[1, 3, 5, 7, 9]\n"
     ]
    }
   ],
   "source": [
    "print(list(range(1, 10, 2)))"
   ]
  },
  {
   "cell_type": "code",
   "execution_count": 27,
   "metadata": {
    "ExecuteTime": {
     "end_time": "2020-11-28T18:19:49.997132Z",
     "start_time": "2020-11-28T18:19:49.984504Z"
    }
   },
   "outputs": [
    {
     "name": "stdout",
     "output_type": "stream",
     "text": [
      "[0, 10, 20, 30, 40, 50, 60, 70, 80, 90]\n"
     ]
    }
   ],
   "source": [
    "print(list(range(0, 100, 10)))"
   ]
  },
  {
   "cell_type": "code",
   "execution_count": 30,
   "metadata": {
    "ExecuteTime": {
     "end_time": "2020-11-28T18:20:19.227628Z",
     "start_time": "2020-11-28T18:20:19.219998Z"
    }
   },
   "outputs": [
    {
     "name": "stdout",
     "output_type": "stream",
     "text": [
      "[0, 1, 2, 3, 4, 5, 6, 7, 8, 9]\n"
     ]
    }
   ],
   "source": [
    "print(list(range(10)))"
   ]
  },
  {
   "cell_type": "code",
   "execution_count": 31,
   "metadata": {
    "ExecuteTime": {
     "end_time": "2020-11-28T18:20:39.367849Z",
     "start_time": "2020-11-28T18:20:39.355151Z"
    }
   },
   "outputs": [
    {
     "name": "stdout",
     "output_type": "stream",
     "text": [
      "[10, 9, 8, 7, 6, 5, 4, 3, 2, 1]\n"
     ]
    }
   ],
   "source": [
    "print(list(range(10, 0, -1)))"
   ]
  },
  {
   "cell_type": "code",
   "execution_count": 33,
   "metadata": {
    "ExecuteTime": {
     "end_time": "2020-11-28T18:21:41.816738Z",
     "start_time": "2020-11-28T18:21:40.260099Z"
    }
   },
   "outputs": [
    {
     "name": "stdout",
     "output_type": "stream",
     "text": [
      "Digite um número inteiro positivo: 4\n",
      "2\n",
      "4\n",
      "8\n",
      "16\n"
     ]
    }
   ],
   "source": [
    "n = int(input(\"Digite um número inteiro positivo: \"))\n",
    "potencia = 1\n",
    "\n",
    "for i in range(n):\n",
    "    potencia = potencia * 2\n",
    "    print(potencia)"
   ]
  },
  {
   "cell_type": "code",
   "execution_count": 37,
   "metadata": {
    "ExecuteTime": {
     "end_time": "2020-11-28T18:25:54.739116Z",
     "start_time": "2020-11-28T18:25:54.731386Z"
    }
   },
   "outputs": [
    {
     "name": "stdout",
     "output_type": "stream",
     "text": [
      "1.5397677311665408\n"
     ]
    }
   ],
   "source": [
    "# Calcula soma cumulativa s(f(j)), sendo f(j) uma função do contador j\n",
    "s = 0  \n",
    "\n",
    "for j in range(1, 10, 1):\n",
    "    s += 1./j**2\n",
    "\n",
    "print(s)"
   ]
  },
  {
   "cell_type": "code",
   "execution_count": 39,
   "metadata": {
    "ExecuteTime": {
     "end_time": "2020-11-28T18:27:09.147965Z",
     "start_time": "2020-11-28T18:27:09.134054Z"
    }
   },
   "outputs": [
    {
     "name": "stdout",
     "output_type": "stream",
     "text": [
      "4950\n"
     ]
    }
   ],
   "source": [
    "# Calcula soma cumulativa s(f(j)), sendo f(j) uma função do contador j\n",
    "s = 0  \n",
    "\n",
    "for j in range(1, 100, 1):\n",
    "    s += j\n",
    "\n",
    "print(s)"
   ]
  },
  {
   "cell_type": "code",
   "execution_count": 48,
   "metadata": {
    "ExecuteTime": {
     "end_time": "2020-11-28T18:35:00.267048Z",
     "start_time": "2020-11-28T18:35:00.253805Z"
    }
   },
   "outputs": [
    {
     "name": "stdout",
     "output_type": "stream",
     "text": [
      "[1, 2, 3, 4, 5, 6, 7, 8, 9]\n",
      "2\n",
      "4\n",
      "6\n",
      "8\n"
     ]
    }
   ],
   "source": [
    "seq = list(range(1, 10, 1))\n",
    "\n",
    "print(seq)\n",
    "\n",
    "for num in seq:\n",
    "    if (num % 2 == 0):\n",
    "        print(num)"
   ]
  },
  {
   "cell_type": "code",
   "execution_count": 49,
   "metadata": {
    "ExecuteTime": {
     "end_time": "2020-11-28T18:35:30.272643Z",
     "start_time": "2020-11-28T18:35:30.261877Z"
    }
   },
   "outputs": [
    {
     "name": "stdout",
     "output_type": "stream",
     "text": [
      "[1, 2, 3, 4, 5, 6, 7, 8, 9]\n",
      "1 não é divisível por 2\n",
      "3 não é divisível por 2\n",
      "5 não é divisível por 2\n",
      "7 não é divisível por 2\n",
      "9 não é divisível por 2\n"
     ]
    }
   ],
   "source": [
    "seq = list(range(1, 10, 1))\n",
    "\n",
    "print(seq)\n",
    "\n",
    "for num in seq:\n",
    "    if (num % 2 != 0):\n",
    "        print(num, 'não é divisível por 2')"
   ]
  },
  {
   "cell_type": "code",
   "execution_count": 50,
   "metadata": {
    "ExecuteTime": {
     "end_time": "2020-11-28T18:41:14.203784Z",
     "start_time": "2020-11-28T18:41:14.190119Z"
    }
   },
   "outputs": [
    {
     "name": "stdout",
     "output_type": "stream",
     "text": [
      "[1, 2, 3, 4, 5, 6, 7, 8, 9]\n",
      "2 é divisível por 2\n",
      "4 é divisível por 2\n",
      "6 é divisível por 2\n",
      "8 é divisível por 2\n"
     ]
    }
   ],
   "source": [
    "seq = list(range(1, 10, 1))\n",
    "\n",
    "print(seq)\n",
    "\n",
    "for num in seq:\n",
    "    if (num % 2 == 0):\n",
    "        print(num, 'é divisível por 2')"
   ]
  },
  {
   "cell_type": "code",
   "execution_count": 45,
   "metadata": {
    "ExecuteTime": {
     "end_time": "2020-11-28T18:33:56.386753Z",
     "start_time": "2020-11-28T18:33:56.370344Z"
    }
   },
   "outputs": [
    {
     "name": "stdout",
     "output_type": "stream",
     "text": [
      "[1, 2, 3, 4, 5, 6, 7, 8, 9]\n",
      "1 não é divisível por 2\n",
      "2 é divisível por 2\n",
      "3 não é divisível por 2\n",
      "4 é divisível por 2\n",
      "5 não é divisível por 2\n",
      "6 é divisível por 2\n",
      "7 não é divisível por 2\n",
      "8 é divisível por 2\n",
      "9 não é divisível por 2\n"
     ]
    }
   ],
   "source": [
    "seq = list(range(1, 10, 1))\n",
    "\n",
    "print(seq)\n",
    "\n",
    "for num in seq:\n",
    "    if (num % 2 != 0):\n",
    "        print(num, 'não é divisível por 2')\n",
    "    elif (num % 2 == 0):\n",
    "        print(num, 'é divisível por 2')"
   ]
  },
  {
   "cell_type": "code",
   "execution_count": 51,
   "metadata": {
    "ExecuteTime": {
     "end_time": "2020-11-28T18:43:05.827163Z",
     "start_time": "2020-11-28T18:43:05.814853Z"
    }
   },
   "outputs": [
    {
     "name": "stdout",
     "output_type": "stream",
     "text": [
      "Não é inteiro, o valor interido ( 1 ), é do tipo  <class 'str'>\n"
     ]
    }
   ],
   "source": [
    "entrada = '1'\n",
    "if (type(entrada) == int):\n",
    "    print('Inteiro')\n",
    "else:\n",
    "    print('Não é inteiro, o valor interido (', entrada, '), é do tipo ', type(entrada)  )"
   ]
  },
  {
   "cell_type": "markdown",
   "metadata": {},
   "source": [
    "## Break\n",
    "\n",
    "Vimos que o comando for percorre a lista completa. Às vezes queremos interromper a execução do comando for\n",
    "antes dele percorrer a lista completa. O comando break faz com que a execução de um laço de repetição seja finalizada, passando a execução para o próximo comando após o laço. Podemos usar o comando else para executar um bloco de\n",
    "comandos apenas caso o comando for ou comando while tenham sido executados sem interrupção (break)."
   ]
  },
  {
   "cell_type": "code",
   "execution_count": 67,
   "metadata": {
    "ExecuteTime": {
     "end_time": "2020-11-28T19:19:03.938955Z",
     "start_time": "2020-11-28T19:19:03.925787Z"
    }
   },
   "outputs": [
    {
     "name": "stdout",
     "output_type": "stream",
     "text": [
      "1\n",
      "2\n",
      "3\n",
      "4\n"
     ]
    }
   ],
   "source": [
    "for i in range(1, 5):\n",
    "    print(i)"
   ]
  },
  {
   "cell_type": "code",
   "execution_count": 69,
   "metadata": {
    "ExecuteTime": {
     "end_time": "2020-11-28T19:19:31.429569Z",
     "start_time": "2020-11-28T19:19:31.422348Z"
    }
   },
   "outputs": [
    {
     "name": "stdout",
     "output_type": "stream",
     "text": [
      "1\n",
      "2\n",
      "3\n"
     ]
    }
   ],
   "source": [
    "for i in range(1, 10):\n",
    "    print(i)\n",
    "    if i == 3:\n",
    "        break"
   ]
  },
  {
   "cell_type": "code",
   "execution_count": 70,
   "metadata": {
    "ExecuteTime": {
     "end_time": "2020-11-28T19:19:40.738148Z",
     "start_time": "2020-11-28T19:19:40.725523Z"
    }
   },
   "outputs": [
    {
     "name": "stdout",
     "output_type": "stream",
     "text": [
      "1\n",
      "2\n"
     ]
    }
   ],
   "source": [
    "for i in range(1, 10):\n",
    "    if i == 3:\n",
    "        break\n",
    "    print(i) "
   ]
  },
  {
   "cell_type": "code",
   "execution_count": 56,
   "metadata": {
    "ExecuteTime": {
     "end_time": "2020-11-28T19:10:30.101320Z",
     "start_time": "2020-11-28T19:10:27.245665Z"
    }
   },
   "outputs": [
    {
     "name": "stdout",
     "output_type": "stream",
     "text": [
      "Digite um número inteiro: 4\n",
      "Verificando elemento 2\n",
      "Verificando elemento 4\n",
      "Elemento 4 encontrado!\n",
      "Verificando elemento 3\n",
      "Verificando elemento 1\n",
      "Verificando elemento 10\n",
      "Verificando elemento 18\n",
      "Verificando elemento 9\n",
      "Verificando elemento 5\n",
      "Verificando elemento 7\n"
     ]
    }
   ],
   "source": [
    "n = int(input(\"Digite um número inteiro: \"))\n",
    "\n",
    "for i in [2, 4, 3, 1, 10, 18, 9, 5, 7]:\n",
    "    print(\"Verificando elemento\", i)\n",
    "    if i == n:\n",
    "        print(\"Elemento\", i, \"encontrado!\")"
   ]
  },
  {
   "cell_type": "code",
   "execution_count": 72,
   "metadata": {
    "ExecuteTime": {
     "end_time": "2020-11-28T19:21:16.907026Z",
     "start_time": "2020-11-28T19:21:15.504659Z"
    }
   },
   "outputs": [
    {
     "name": "stdout",
     "output_type": "stream",
     "text": [
      "Digite um número inteiro: 11\n",
      "Verificando elemento 2\n",
      "Verificando elemento 4\n",
      "Verificando elemento 3\n",
      "Verificando elemento 1\n",
      "Verificando elemento 10\n",
      "Verificando elemento 18\n",
      "Verificando elemento 9\n",
      "Verificando elemento 5\n",
      "Verificando elemento 7\n"
     ]
    }
   ],
   "source": [
    "n = int(input(\"Digite um número inteiro: \"))\n",
    "\n",
    "for i in [2, 4, 3, 1, 10, 18, 9, 5, 7]:\n",
    "    print(\"Verificando elemento\", i)\n",
    "    if i == n:\n",
    "        print(\"Elemento\", i, \"encontrado!\")\n",
    "        break"
   ]
  },
  {
   "cell_type": "code",
   "execution_count": 71,
   "metadata": {
    "ExecuteTime": {
     "end_time": "2020-11-28T19:21:09.639671Z",
     "start_time": "2020-11-28T19:21:01.534897Z"
    }
   },
   "outputs": [
    {
     "name": "stdout",
     "output_type": "stream",
     "text": [
      "Digite um número inteiro: 11\n",
      "Verificando elemento 2\n",
      "Verificando elemento 4\n",
      "Verificando elemento 3\n",
      "Verificando elemento 1\n",
      "Verificando elemento 10\n",
      "Verificando elemento 18\n",
      "Verificando elemento 9\n",
      "Verificando elemento 5\n",
      "Verificando elemento 7\n",
      "O elemento 11 não está na lista.\n"
     ]
    }
   ],
   "source": [
    "n = int(input(\"Digite um número inteiro: \"))\n",
    "\n",
    "for i in [2, 4, 3, 1, 10, 18, 9, 5, 7]:\n",
    "    print(\"Verificando elemento\", i)\n",
    "    if i == n:\n",
    "        print(\"Elemento\", i, \"encontrado!\")\n",
    "        break\n",
    "else:\n",
    "    print(\"O elemento\", n, \"não está na lista.\")"
   ]
  },
  {
   "cell_type": "code",
   "execution_count": 73,
   "metadata": {
    "ExecuteTime": {
     "end_time": "2020-11-28T19:22:00.988122Z",
     "start_time": "2020-11-28T19:21:54.364641Z"
    }
   },
   "outputs": [
    {
     "name": "stdout",
     "output_type": "stream",
     "text": [
      "Digite um número inteiro: 7\n",
      "Elemento 7 encontrado!\n"
     ]
    }
   ],
   "source": [
    "n = int(input(\"Digite um número inteiro: \"))\n",
    "\n",
    "for i in [2, 4, 3, 1, 10, 18, 9, 5, 7]:\n",
    "    # print(\"Verificando elemento\", i)\n",
    "    if i == n:\n",
    "        print(\"Elemento\", i, \"encontrado!\")\n",
    "        break\n",
    "else:\n",
    "    print(\"O elemento\", n, \"não está na lista.\")"
   ]
  },
  {
   "cell_type": "code",
   "execution_count": 74,
   "metadata": {
    "ExecuteTime": {
     "end_time": "2020-11-28T19:23:19.931832Z",
     "start_time": "2020-11-28T19:23:17.364781Z"
    }
   },
   "outputs": [
    {
     "name": "stdout",
     "output_type": "stream",
     "text": [
      "Insira um número inteiro: 55\n",
      "55 não é primo\n",
      "5 vezes 11 é 55\n"
     ]
    }
   ],
   "source": [
    "# Programa para verificar se um número é primo\n",
    "num = int(input(\"Insira um número inteiro: \"))\n",
    "\n",
    "if num > 1:\n",
    "    for i in range(2,num): \n",
    "        if (num % i) == 0:\n",
    "            print(num,\"não é primo\")\n",
    "            print(i,\"vezes\",num//i,\"é\",num)\n",
    "            break\n",
    "    else:\n",
    "        print(num,\"é primo\")"
   ]
  },
  {
   "cell_type": "code",
   "execution_count": 66,
   "metadata": {
    "ExecuteTime": {
     "end_time": "2020-11-28T19:16:54.181639Z",
     "start_time": "2020-11-28T19:16:19.016469Z"
    }
   },
   "outputs": [
    {
     "name": "stdout",
     "output_type": "stream",
     "text": [
      "Entre com um número inteiro positivo: 5\n",
      "Entre com um número inteiro positivo: 4\n",
      "Entre com um número inteiro positivo: 3\n",
      "Entre com um número inteiro positivo: 2\n",
      "Entre com um número inteiro positivo: 2\n",
      "Entre com um número inteiro positivo: 1\n",
      "Entre com um número inteiro positivo: -4\n",
      "Quantidade de números positivos fornecidos:  6\n"
     ]
    }
   ],
   "source": [
    "# Determinando a quantidade de números inteiros positivos fornecidos\n",
    "# para um programa até a leitura de um inteiro não positivo.\n",
    "\n",
    "n = 0\n",
    "\n",
    "while True:\n",
    "    x = int(input(\"Entre com um número inteiro positivo: \"))\n",
    "    if x <= 0:\n",
    "        break\n",
    "    n = n + 1\n",
    "\n",
    "print(\"Quantidade de números positivos fornecidos: \", n)"
   ]
  },
  {
   "cell_type": "markdown",
   "metadata": {},
   "source": [
    "## Continue\n",
    "\n",
    "O comando continue faz com que a execução atual do bloco de comandos do laço de repetição seja finalizada, passando a\n",
    "execução para a próxima iteração do laço."
   ]
  },
  {
   "cell_type": "code",
   "execution_count": 80,
   "metadata": {
    "ExecuteTime": {
     "end_time": "2020-11-28T19:29:12.176211Z",
     "start_time": "2020-11-28T19:29:12.167340Z"
    }
   },
   "outputs": [
    {
     "name": "stdout",
     "output_type": "stream",
     "text": [
      "1\n",
      "2\n",
      "4\n",
      "5\n"
     ]
    }
   ],
   "source": [
    "for i in range(1, 6):\n",
    "    if i == 3:\n",
    "        continue\n",
    "    print(i)"
   ]
  },
  {
   "cell_type": "code",
   "execution_count": 82,
   "metadata": {
    "ExecuteTime": {
     "end_time": "2020-11-28T20:05:24.729802Z",
     "start_time": "2020-11-28T20:05:24.724784Z"
    }
   },
   "outputs": [
    {
     "name": "stdout",
     "output_type": "stream",
     "text": [
      "2\n",
      "4\n",
      "0\n",
      "8\n"
     ]
    }
   ],
   "source": [
    "# Código que imprime apenas os elementos pares da lista\n",
    "for i in [2, 4, 7, 1, 0, 8, 9, 5]:\n",
    "    if i % 2 == 0:\n",
    "        print(i)"
   ]
  },
  {
   "cell_type": "code",
   "execution_count": 84,
   "metadata": {
    "ExecuteTime": {
     "end_time": "2020-11-28T20:07:53.882837Z",
     "start_time": "2020-11-28T20:07:53.876850Z"
    }
   },
   "outputs": [
    {
     "name": "stdout",
     "output_type": "stream",
     "text": [
      "2\n",
      "4\n",
      "0\n",
      "8\n"
     ]
    }
   ],
   "source": [
    "# Código que imprime apenas os elementos pares da lista\n",
    "# usa o continue\n",
    "for i in [2, 4, 7, 1, 0, 8, 9, 5]:\n",
    "    if i % 2 == 1:\n",
    "        continue\n",
    "    print(i)"
   ]
  },
  {
   "cell_type": "code",
   "execution_count": 85,
   "metadata": {
    "ExecuteTime": {
     "end_time": "2020-11-28T20:08:05.986526Z",
     "start_time": "2020-11-28T20:08:05.979547Z"
    }
   },
   "outputs": [
    {
     "name": "stdout",
     "output_type": "stream",
     "text": [
      "7\n",
      "1\n",
      "9\n",
      "5\n"
     ]
    }
   ],
   "source": [
    "# Código que imprime apenas os elementos ímpares da lista\n",
    "for i in [2, 4, 7, 1, 0, 8, 9, 5]:\n",
    "    if i % 2 == 1:\n",
    "        print(i)"
   ]
  },
  {
   "cell_type": "code",
   "execution_count": 86,
   "metadata": {
    "ExecuteTime": {
     "end_time": "2020-11-28T20:09:09.291347Z",
     "start_time": "2020-11-28T20:09:09.284328Z"
    }
   },
   "outputs": [
    {
     "name": "stdout",
     "output_type": "stream",
     "text": [
      "7\n",
      "1\n",
      "9\n",
      "5\n"
     ]
    }
   ],
   "source": [
    "# Código que imprime apenas os elementos ímpares da lista\n",
    "# usa o continue\n",
    "for i in [2, 4, 7, 1, 0, 8, 9, 5]:\n",
    "    if i % 2 == 0:\n",
    "        continue\n",
    "    print(i)"
   ]
  },
  {
   "cell_type": "markdown",
   "metadata": {},
   "source": [
    "# Loops aninhados"
   ]
  },
  {
   "cell_type": "code",
   "execution_count": 91,
   "metadata": {
    "ExecuteTime": {
     "end_time": "2020-11-28T20:12:48.539377Z",
     "start_time": "2020-11-28T20:12:46.162630Z"
    }
   },
   "outputs": [
    {
     "name": "stdout",
     "output_type": "stream",
     "text": [
      "Entre com o número de linhas: 3\n",
      "Entre com o número de colunas: 5\n",
      "*****\n",
      "*****\n",
      "*****\n"
     ]
    }
   ],
   "source": [
    "# Imprimindo um retângulo com n linhas e m colunas (n × m caracteres *).\n",
    "n = int(input(\"Entre com o número de linhas: \"))\n",
    "m = int(input(\"Entre com o número de colunas: \"))\n",
    "\n",
    "for i in range(n):\n",
    "    print(\"*\" * m)"
   ]
  },
  {
   "cell_type": "code",
   "execution_count": 89,
   "metadata": {
    "ExecuteTime": {
     "end_time": "2020-11-28T20:11:48.398069Z",
     "start_time": "2020-11-28T20:11:42.906940Z"
    }
   },
   "outputs": [
    {
     "name": "stdout",
     "output_type": "stream",
     "text": [
      "Entre com o número de linhas: 3\n",
      "Entre com o número de colunas: 5\n",
      "*****\n",
      "*****\n",
      "*****\n"
     ]
    }
   ],
   "source": [
    "# Imprimindo um retângulo com n linhas e m colunas (n × m caracteres *).\n",
    "n = int(input(\"Entre com o número de linhas: \"))\n",
    "m = int(input(\"Entre com o número de colunas: \"))\n",
    "\n",
    "for i in range(n):\n",
    "    for j in range(m):\n",
    "        print(\"*\", end = \"\")\n",
    "    print()"
   ]
  },
  {
   "cell_type": "code",
   "execution_count": 94,
   "metadata": {
    "ExecuteTime": {
     "end_time": "2020-11-28T20:14:13.684611Z",
     "start_time": "2020-11-28T20:14:10.805342Z"
    }
   },
   "outputs": [
    {
     "name": "stdout",
     "output_type": "stream",
     "text": [
      "Entre com o tamanho dos catetos: 5\n",
      "Entre com caractere a ser usado: *\n",
      "*\n",
      "**\n",
      "***\n",
      "****\n",
      "*****\n"
     ]
    }
   ],
   "source": [
    "# Imprimindo um triângulo retângulo isóceles, com catetos de tamanho dado.\n",
    "n = int(input(\"Entre com o tamanho dos catetos: \"))\n",
    "c = input(\"Entre com caractere a ser usado: \")\n",
    "\n",
    "for i in range(1, n+1):\n",
    "    print(c * i)\n"
   ]
  },
  {
   "cell_type": "code",
   "execution_count": 95,
   "metadata": {
    "ExecuteTime": {
     "end_time": "2020-11-28T20:14:46.038887Z",
     "start_time": "2020-11-28T20:14:41.648384Z"
    }
   },
   "outputs": [
    {
     "name": "stdout",
     "output_type": "stream",
     "text": [
      "Entre com o tamanho dos catetos: 5\n",
      "Entre com caractere a ser usado: *\n",
      "*\n",
      "**\n",
      "***\n",
      "****\n",
      "*****\n"
     ]
    }
   ],
   "source": [
    "# Imprimindo um triângulo retângulo isóceles, com catetos de tamanho dado.\n",
    "n = int(input(\"Entre com o tamanho dos catetos: \"))\n",
    "c = input(\"Entre com caractere a ser usado: \")\n",
    "\n",
    "for i in range(1, n+1):\n",
    "    for j in range(i):\n",
    "        print(c, end = \"\")\n",
    "    print()"
   ]
  },
  {
   "cell_type": "code",
   "execution_count": 96,
   "metadata": {
    "ExecuteTime": {
     "end_time": "2020-11-28T20:16:47.026038Z",
     "start_time": "2020-11-28T20:15:52.179027Z"
    }
   },
   "outputs": [
    {
     "name": "stdout",
     "output_type": "stream",
     "text": [
      "Entre com o tamanho dos catetos: 5\n",
      "Entre com caractere a ser usado: *\n",
      "*\n",
      "**\n",
      "***\n",
      "****\n",
      "*****\n"
     ]
    }
   ],
   "source": [
    "# Imprimindo todos os horários de um dia, no formato HH:MM (horas e minutos).\n",
    "n = int(input(\"Entre com o tamanho dos catetos: \"))\n",
    "c = input(\"Entre com caractere a ser usado: \")\n",
    "\n",
    "for i in range(1, n+1):\n",
    "    print(c * i)"
   ]
  },
  {
   "cell_type": "code",
   "execution_count": 104,
   "metadata": {
    "ExecuteTime": {
     "end_time": "2020-11-28T20:22:12.487333Z",
     "start_time": "2020-11-28T20:22:12.477396Z"
    },
    "scrolled": false
   },
   "outputs": [
    {
     "name": "stdout",
     "output_type": "stream",
     "text": [
      "00:00\n",
      "00:01\n",
      "00:02\n",
      "00:03\n",
      "00:04\n",
      "00:05\n",
      "00:06\n",
      "00:07\n",
      "00:08\n",
      "00:09\n",
      "00:10\n",
      "00:11\n",
      "00:12\n",
      "00:13\n",
      "00:14\n",
      "00:15\n",
      "00:16\n",
      "00:17\n",
      "00:18\n",
      "00:19\n",
      "00:20\n",
      "00:21\n",
      "00:22\n",
      "00:23\n",
      "00:24\n",
      "00:25\n",
      "00:26\n",
      "00:27\n",
      "00:28\n",
      "00:29\n",
      "00:30\n",
      "00:31\n",
      "00:32\n",
      "00:33\n",
      "00:34\n",
      "00:35\n",
      "00:36\n",
      "00:37\n",
      "00:38\n",
      "00:39\n",
      "00:40\n",
      "00:41\n",
      "00:42\n",
      "00:43\n",
      "00:44\n",
      "00:45\n",
      "00:46\n",
      "00:47\n",
      "00:48\n",
      "00:49\n",
      "00:50\n",
      "00:51\n",
      "00:52\n",
      "00:53\n",
      "00:54\n",
      "00:55\n",
      "00:56\n",
      "00:57\n",
      "00:58\n",
      "00:59\n"
     ]
    }
   ],
   "source": [
    "# Imprime lista de horários do dia de 1 em 1 minuto dentro do range\n",
    "for h in range(1):\n",
    "    for m in range(60):\n",
    "        print('{:02d}:{:02d}'.format(h, m))"
   ]
  },
  {
   "cell_type": "code",
   "execution_count": 103,
   "metadata": {
    "ExecuteTime": {
     "end_time": "2020-11-28T20:21:50.084827Z",
     "start_time": "2020-11-28T20:21:50.079806Z"
    },
    "scrolled": false
   },
   "outputs": [],
   "source": [
    "# Imprime lista de horários do dia de 1 em 1 segundo dentro do range\n",
    "for h in range(1):\n",
    "    for m in range(60):\n",
    "        for s in range(60):\n",
    "            print('{:02d}:{:02d}:{:02d}'.format(h, m, s))"
   ]
  },
  {
   "cell_type": "code",
   "execution_count": 105,
   "metadata": {
    "ExecuteTime": {
     "end_time": "2020-11-28T20:23:57.871901Z",
     "start_time": "2020-11-28T20:23:57.824029Z"
    },
    "scrolled": false
   },
   "outputs": [
    {
     "name": "stdout",
     "output_type": "stream",
     "text": [
      "Tabuada do 1:\n",
      "1 x 1 = 1\n",
      "1 x 2 = 2\n",
      "1 x 3 = 3\n",
      "1 x 4 = 4\n",
      "1 x 5 = 5\n",
      "1 x 6 = 6\n",
      "1 x 7 = 7\n",
      "1 x 8 = 8\n",
      "1 x 9 = 9\n",
      "1 x 10 = 10\n",
      "Tabuada do 2:\n",
      "2 x 1 = 2\n",
      "2 x 2 = 4\n",
      "2 x 3 = 6\n",
      "2 x 4 = 8\n",
      "2 x 5 = 10\n",
      "2 x 6 = 12\n",
      "2 x 7 = 14\n",
      "2 x 8 = 16\n",
      "2 x 9 = 18\n",
      "2 x 10 = 20\n",
      "Tabuada do 3:\n",
      "3 x 1 = 3\n",
      "3 x 2 = 6\n",
      "3 x 3 = 9\n",
      "3 x 4 = 12\n",
      "3 x 5 = 15\n",
      "3 x 6 = 18\n",
      "3 x 7 = 21\n",
      "3 x 8 = 24\n",
      "3 x 9 = 27\n",
      "3 x 10 = 30\n",
      "Tabuada do 4:\n",
      "4 x 1 = 4\n",
      "4 x 2 = 8\n",
      "4 x 3 = 12\n",
      "4 x 4 = 16\n",
      "4 x 5 = 20\n",
      "4 x 6 = 24\n",
      "4 x 7 = 28\n",
      "4 x 8 = 32\n",
      "4 x 9 = 36\n",
      "4 x 10 = 40\n",
      "Tabuada do 5:\n",
      "5 x 1 = 5\n",
      "5 x 2 = 10\n",
      "5 x 3 = 15\n",
      "5 x 4 = 20\n",
      "5 x 5 = 25\n",
      "5 x 6 = 30\n",
      "5 x 7 = 35\n",
      "5 x 8 = 40\n",
      "5 x 9 = 45\n",
      "5 x 10 = 50\n",
      "Tabuada do 6:\n",
      "6 x 1 = 6\n",
      "6 x 2 = 12\n",
      "6 x 3 = 18\n",
      "6 x 4 = 24\n",
      "6 x 5 = 30\n",
      "6 x 6 = 36\n",
      "6 x 7 = 42\n",
      "6 x 8 = 48\n",
      "6 x 9 = 54\n",
      "6 x 10 = 60\n",
      "Tabuada do 7:\n",
      "7 x 1 = 7\n",
      "7 x 2 = 14\n",
      "7 x 3 = 21\n",
      "7 x 4 = 28\n",
      "7 x 5 = 35\n",
      "7 x 6 = 42\n",
      "7 x 7 = 49\n",
      "7 x 8 = 56\n",
      "7 x 9 = 63\n",
      "7 x 10 = 70\n",
      "Tabuada do 8:\n",
      "8 x 1 = 8\n",
      "8 x 2 = 16\n",
      "8 x 3 = 24\n",
      "8 x 4 = 32\n",
      "8 x 5 = 40\n",
      "8 x 6 = 48\n",
      "8 x 7 = 56\n",
      "8 x 8 = 64\n",
      "8 x 9 = 72\n",
      "8 x 10 = 80\n",
      "Tabuada do 9:\n",
      "9 x 1 = 9\n",
      "9 x 2 = 18\n",
      "9 x 3 = 27\n",
      "9 x 4 = 36\n",
      "9 x 5 = 45\n",
      "9 x 6 = 54\n",
      "9 x 7 = 63\n",
      "9 x 8 = 72\n",
      "9 x 9 = 81\n",
      "9 x 10 = 90\n",
      "Tabuada do 10:\n",
      "10 x 1 = 10\n",
      "10 x 2 = 20\n",
      "10 x 3 = 30\n",
      "10 x 4 = 40\n",
      "10 x 5 = 50\n",
      "10 x 6 = 60\n",
      "10 x 7 = 70\n",
      "10 x 8 = 80\n",
      "10 x 9 = 90\n",
      "10 x 10 = 100\n"
     ]
    }
   ],
   "source": [
    "for i in range(1, 11):\n",
    "    print(\"Tabuada do \", i, \":\", sep = \"\")\n",
    "    for j in range(1, 11):\n",
    "        print(i, \"x\", j, \"=\", i * j)"
   ]
  }
 ],
 "metadata": {
  "hide_input": false,
  "kernelspec": {
   "display_name": "Python 3 (ipykernel)",
   "language": "python",
   "name": "python3"
  },
  "language_info": {
   "codemirror_mode": {
    "name": "ipython",
    "version": 3
   },
   "file_extension": ".py",
   "mimetype": "text/x-python",
   "name": "python",
   "nbconvert_exporter": "python",
   "pygments_lexer": "ipython3",
   "version": "3.9.13"
  },
  "latex_envs": {
   "LaTeX_envs_menu_present": true,
   "autoclose": false,
   "autocomplete": true,
   "bibliofile": "biblio.bib",
   "cite_by": "apalike",
   "current_citInitial": 1,
   "eqLabelWithNumbers": true,
   "eqNumInitial": 1,
   "hotkeys": {
    "equation": "Ctrl-E",
    "itemize": "Ctrl-I"
   },
   "labels_anchors": false,
   "latex_user_defs": false,
   "report_style_numbering": false,
   "user_envs_cfg": false
  },
  "toc": {
   "base_numbering": 1,
   "nav_menu": {},
   "number_sections": true,
   "sideBar": true,
   "skip_h1_title": false,
   "title_cell": "Table of Contents",
   "title_sidebar": "Contents",
   "toc_cell": false,
   "toc_position": {
    "height": "calc(100% - 180px)",
    "left": "10px",
    "top": "150px",
    "width": "256px"
   },
   "toc_section_display": true,
   "toc_window_display": true
  },
  "varInspector": {
   "cols": {
    "lenName": 16,
    "lenType": 16,
    "lenVar": 40
   },
   "kernels_config": {
    "python": {
     "delete_cmd_postfix": "",
     "delete_cmd_prefix": "del ",
     "library": "var_list.py",
     "varRefreshCmd": "print(var_dic_list())"
    },
    "r": {
     "delete_cmd_postfix": ") ",
     "delete_cmd_prefix": "rm(",
     "library": "var_list.r",
     "varRefreshCmd": "cat(var_dic_list()) "
    }
   },
   "types_to_exclude": [
    "module",
    "function",
    "builtin_function_or_method",
    "instance",
    "_Feature"
   ],
   "window_display": false
  }
 },
 "nbformat": 4,
 "nbformat_minor": 4
}
