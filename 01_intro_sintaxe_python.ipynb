{
 "cells": [
  {
   "cell_type": "markdown",
   "metadata": {},
   "source": [
    "# Introdução: sintaxe, operações e comandos básicos\n",
    "\n",
    "A linguagem python possui uma comunidade bastante ativa que trabalha bastante para criar, atualizar e otimizar as bibliotecas desta linguagem. As bibliotecas são conjuntos de funções e métodos que podem ser chamadas por comandos específicos dentro dos códigos. Nesta aula vamos apresentar como importar estas bibliotecas para seu código e introduzir alguns conceitos através de exemplos práticos sobre como utilizar as funções dessas bibliotecas. Abaixo vamos listar algumas das principais bibliotecas de Python utilizadas em análise de dados.\n",
    "\n",
    "* **Pandas**\n",
    "* **Numpy**\n",
    "* **Scipy**\n"
   ]
  },
  {
   "cell_type": "markdown",
   "metadata": {},
   "source": [
    "## Importando bibliotecas"
   ]
  },
  {
   "cell_type": "code",
   "execution_count": 1,
   "metadata": {
    "ExecuteTime": {
     "end_time": "2020-11-27T13:31:38.448240Z",
     "start_time": "2020-11-27T13:31:38.119800Z"
    }
   },
   "outputs": [],
   "source": [
    "import pandas as pd\n",
    "import numpy as np"
   ]
  },
  {
   "cell_type": "markdown",
   "metadata": {},
   "source": [
    "## Comentários e códigos"
   ]
  },
  {
   "cell_type": "code",
   "execution_count": 2,
   "metadata": {
    "ExecuteTime": {
     "end_time": "2020-11-27T13:31:38.923355Z",
     "start_time": "2020-11-27T13:31:38.915377Z"
    }
   },
   "outputs": [
    {
     "data": {
      "text/plain": [
       "4"
      ]
     },
     "execution_count": 2,
     "metadata": {},
     "output_type": "execute_result"
    }
   ],
   "source": [
    "# Para escrever um comentário em um código use o símbolo jogo da velha # no início do comentário.\n",
    "# Toda vez que você quiser escrever um comentário inicie com um #.\n",
    "# Precisa começar com o # para trocar de linha também!\n",
    "\n",
    "# A linha 6 é um código\n",
    "a = 2 + 2\n",
    "\n",
    "# A linha 9 também é um código\n",
    "a"
   ]
  },
  {
   "cell_type": "code",
   "execution_count": 3,
   "metadata": {
    "ExecuteTime": {
     "end_time": "2020-11-27T13:31:39.139743Z",
     "start_time": "2020-11-27T13:31:39.131765Z"
    }
   },
   "outputs": [
    {
     "data": {
      "text/plain": [
       "\" Se você usar as aspas simples (') irá gerar uma string multilinha que pode ser guardada \\ndentro de uma variável como mostra esse exemplo.\""
      ]
     },
     "execution_count": 3,
     "metadata": {},
     "output_type": "execute_result"
    }
   ],
   "source": [
    "\"\"\"\n",
    "Caso você queira escrever um texto ou um comentário longo, pode colocar entre três aspas (\")\n",
    "iniciando e fechando o comentário. Lembre-se que tudo que estiver entre as três aspas\n",
    "iniciais e as três aspas finais será um comentário e não será executado. Use e abuse de \n",
    "comentários e textos no seu código. Esta é uma boa prática que deve ser praticada e \n",
    "melhorada cada vez mais, pois torna seus códigos mais compreensíveis para quem for \n",
    "precisar cooperar e para você mesmo, pois não conseguimos guardar todas as informações \n",
    "de um código na nossa memória!\n",
    "\"\"\"\n",
    "\n",
    "# Abaixo uma linha de código\n",
    "b = 2 * 3\n",
    "\n",
    "# Outra linha de código abaixo\n",
    "b\n",
    "\n",
    "texto = ''' Se você usar as aspas simples (') irá gerar uma string multilinha que pode ser guardada \n",
    "dentro de uma variável como mostra esse exemplo.'''\n",
    "\n",
    "# \n",
    "texto"
   ]
  },
  {
   "cell_type": "markdown",
   "metadata": {},
   "source": [
    "## Interpretador interativo e operações básicas"
   ]
  },
  {
   "cell_type": "code",
   "execution_count": 4,
   "metadata": {
    "ExecuteTime": {
     "end_time": "2020-11-27T13:31:39.518003Z",
     "start_time": "2020-11-27T13:31:39.512024Z"
    }
   },
   "outputs": [
    {
     "data": {
      "text/plain": [
       "4"
      ]
     },
     "execution_count": 4,
     "metadata": {},
     "output_type": "execute_result"
    }
   ],
   "source": [
    "# Soma\n",
    "1 + 3"
   ]
  },
  {
   "cell_type": "code",
   "execution_count": 5,
   "metadata": {
    "ExecuteTime": {
     "end_time": "2020-11-27T13:31:39.731456Z",
     "start_time": "2020-11-27T13:31:39.726470Z"
    }
   },
   "outputs": [
    {
     "data": {
      "text/plain": [
       "-2"
      ]
     },
     "execution_count": 5,
     "metadata": {},
     "output_type": "execute_result"
    }
   ],
   "source": [
    "# Subtração\n",
    "7 - 9"
   ]
  },
  {
   "cell_type": "code",
   "execution_count": 6,
   "metadata": {
    "ExecuteTime": {
     "end_time": "2020-11-27T13:31:39.931922Z",
     "start_time": "2020-11-27T13:31:39.926933Z"
    }
   },
   "outputs": [
    {
     "data": {
      "text/plain": [
       "3.3333333333333335"
      ]
     },
     "execution_count": 6,
     "metadata": {},
     "output_type": "execute_result"
    }
   ],
   "source": [
    "# Divisão\n",
    "10 / 3"
   ]
  },
  {
   "cell_type": "code",
   "execution_count": 7,
   "metadata": {
    "ExecuteTime": {
     "end_time": "2020-11-27T13:31:40.150349Z",
     "start_time": "2020-11-27T13:31:40.146379Z"
    }
   },
   "outputs": [
    {
     "data": {
      "text/plain": [
       "3"
      ]
     },
     "execution_count": 7,
     "metadata": {},
     "output_type": "execute_result"
    }
   ],
   "source": [
    "# Divisão inteira\n",
    "10 // 3 "
   ]
  },
  {
   "cell_type": "code",
   "execution_count": 8,
   "metadata": {
    "ExecuteTime": {
     "end_time": "2020-11-27T13:31:40.390695Z",
     "start_time": "2020-11-27T13:31:40.384711Z"
    }
   },
   "outputs": [
    {
     "data": {
      "text/plain": [
       "100"
      ]
     },
     "execution_count": 8,
     "metadata": {},
     "output_type": "execute_result"
    }
   ],
   "source": [
    "# Potência inteira\n",
    "10**2"
   ]
  },
  {
   "cell_type": "code",
   "execution_count": 9,
   "metadata": {
    "ExecuteTime": {
     "end_time": "2020-11-27T13:31:40.503392Z",
     "start_time": "2020-11-27T13:31:40.498406Z"
    }
   },
   "outputs": [
    {
     "data": {
      "text/plain": [
       "10.0"
      ]
     },
     "execution_count": 9,
     "metadata": {},
     "output_type": "execute_result"
    }
   ],
   "source": [
    "# Potência racional\n",
    "100**(1/2)"
   ]
  },
  {
   "cell_type": "markdown",
   "metadata": {},
   "source": [
    "## Strings (texto)"
   ]
  },
  {
   "cell_type": "code",
   "execution_count": 10,
   "metadata": {
    "ExecuteTime": {
     "end_time": "2020-11-27T13:31:40.909976Z",
     "start_time": "2020-11-27T13:31:40.903992Z"
    }
   },
   "outputs": [
    {
     "data": {
      "text/plain": [
       "'Texto'"
      ]
     },
     "execution_count": 10,
     "metadata": {},
     "output_type": "execute_result"
    }
   ],
   "source": [
    "# String\n",
    "\"Texto\""
   ]
  },
  {
   "cell_type": "code",
   "execution_count": 11,
   "metadata": {
    "ExecuteTime": {
     "end_time": "2020-11-27T13:31:41.140316Z",
     "start_time": "2020-11-27T13:31:41.133333Z"
    }
   },
   "outputs": [
    {
     "data": {
      "text/plain": [
       "'Avião Teco Teco'"
      ]
     },
     "execution_count": 11,
     "metadata": {},
     "output_type": "execute_result"
    }
   ],
   "source": [
    "# String e soma\n",
    "\"Avião \" + \"Teco \" + \"Teco\""
   ]
  },
  {
   "cell_type": "code",
   "execution_count": 12,
   "metadata": {
    "ExecuteTime": {
     "end_time": "2020-11-27T13:31:41.327372Z",
     "start_time": "2020-11-27T13:31:41.322406Z"
    }
   },
   "outputs": [
    {
     "data": {
      "text/plain": [
       "'Avião TecoTeco'"
      ]
     },
     "execution_count": 12,
     "metadata": {},
     "output_type": "execute_result"
    }
   ],
   "source": [
    "# String e multiplicação\n",
    "\"Avião \" + \"Teco\"*2"
   ]
  },
  {
   "cell_type": "code",
   "execution_count": 13,
   "metadata": {
    "ExecuteTime": {
     "end_time": "2020-11-27T13:31:41.549764Z",
     "start_time": "2020-11-27T13:31:41.544779Z"
    }
   },
   "outputs": [
    {
     "data": {
      "text/plain": [
       "'Tex'"
      ]
     },
     "execution_count": 13,
     "metadata": {},
     "output_type": "execute_result"
    }
   ],
   "source": [
    "\"Texto\"[0:3]"
   ]
  },
  {
   "cell_type": "code",
   "execution_count": 14,
   "metadata": {
    "ExecuteTime": {
     "end_time": "2020-11-27T13:31:41.743249Z",
     "start_time": "2020-11-27T13:31:41.738301Z"
    }
   },
   "outputs": [
    {
     "data": {
      "text/plain": [
       "'Texto'"
      ]
     },
     "execution_count": 14,
     "metadata": {},
     "output_type": "execute_result"
    }
   ],
   "source": [
    "\"Textosss\"[:-3]"
   ]
  },
  {
   "cell_type": "markdown",
   "metadata": {},
   "source": [
    "## Print"
   ]
  },
  {
   "cell_type": "code",
   "execution_count": 15,
   "metadata": {
    "ExecuteTime": {
     "end_time": "2020-11-27T13:31:42.106547Z",
     "start_time": "2020-11-27T13:31:42.101573Z"
    }
   },
   "outputs": [
    {
     "name": "stdout",
     "output_type": "stream",
     "text": [
      "Hello World!\n"
     ]
    }
   ],
   "source": [
    "print('Hello World!')"
   ]
  },
  {
   "cell_type": "code",
   "execution_count": 16,
   "metadata": {
    "ExecuteTime": {
     "end_time": "2020-11-27T13:31:42.324719Z",
     "start_time": "2020-11-27T13:31:42.320728Z"
    }
   },
   "outputs": [
    {
     "name": "stdout",
     "output_type": "stream",
     "text": [
      "Hello World!\n"
     ]
    }
   ],
   "source": [
    "print('Hello', 'World!')"
   ]
  },
  {
   "cell_type": "code",
   "execution_count": 17,
   "metadata": {
    "ExecuteTime": {
     "end_time": "2020-11-27T13:31:42.568067Z",
     "start_time": "2020-11-27T13:31:42.562087Z"
    }
   },
   "outputs": [
    {
     "name": "stdout",
     "output_type": "stream",
     "text": [
      "Hello-World!\n"
     ]
    }
   ],
   "source": [
    "print('Hello', 'World!',sep = '-')"
   ]
  },
  {
   "cell_type": "code",
   "execution_count": 18,
   "metadata": {
    "ExecuteTime": {
     "end_time": "2020-11-27T13:31:42.774515Z",
     "start_time": "2020-11-27T13:31:42.765540Z"
    }
   },
   "outputs": [
    {
     "name": "stdout",
     "output_type": "stream",
     "text": [
      "Hello+World!\n"
     ]
    }
   ],
   "source": [
    "print('Hello', 'World!',sep = '+')"
   ]
  },
  {
   "cell_type": "code",
   "execution_count": 19,
   "metadata": {
    "ExecuteTime": {
     "end_time": "2020-11-27T13:31:42.928105Z",
     "start_time": "2020-11-27T13:31:42.922121Z"
    }
   },
   "outputs": [
    {
     "name": "stdout",
     "output_type": "stream",
     "text": [
      "Hello**World!\n"
     ]
    }
   ],
   "source": [
    "print('Hello', 'World!',sep = '**')"
   ]
  },
  {
   "cell_type": "code",
   "execution_count": 20,
   "metadata": {
    "ExecuteTime": {
     "end_time": "2020-11-27T13:31:43.145524Z",
     "start_time": "2020-11-27T13:31:43.139540Z"
    }
   },
   "outputs": [
    {
     "name": "stdout",
     "output_type": "stream",
     "text": [
      "Hello World!\n",
      "Hello World!\n",
      "Hello World!\n"
     ]
    }
   ],
   "source": [
    "print('Hello World!')\n",
    "print('Hello', 'World!')\n",
    "print('Hello', 'World!', sep = \" \")"
   ]
  },
  {
   "cell_type": "code",
   "execution_count": 21,
   "metadata": {
    "ExecuteTime": {
     "end_time": "2020-11-27T13:31:43.313917Z",
     "start_time": "2020-11-27T13:31:43.309926Z"
    }
   },
   "outputs": [
    {
     "name": "stdout",
     "output_type": "stream",
     "text": [
      "Hello World!\n",
      "novotexto"
     ]
    }
   ],
   "source": [
    "print('Hello', 'World', sep = \" \", end ='!\\nnovotexto')"
   ]
  },
  {
   "cell_type": "code",
   "execution_count": 22,
   "metadata": {
    "ExecuteTime": {
     "end_time": "2020-11-27T13:31:43.554970Z",
     "start_time": "2020-11-27T13:31:43.546991Z"
    }
   },
   "outputs": [
    {
     "data": {
      "text/plain": [
       "0.75"
      ]
     },
     "execution_count": 22,
     "metadata": {},
     "output_type": "execute_result"
    }
   ],
   "source": [
    "# Sem print()\n",
    "1 + 3\n",
    "4 * 12\n",
    "3 / 4"
   ]
  },
  {
   "cell_type": "code",
   "execution_count": 23,
   "metadata": {
    "ExecuteTime": {
     "end_time": "2020-11-27T13:31:43.780409Z",
     "start_time": "2020-11-27T13:31:43.775428Z"
    }
   },
   "outputs": [
    {
     "name": "stdout",
     "output_type": "stream",
     "text": [
      "4\n",
      "48\n",
      "0.75\n"
     ]
    }
   ],
   "source": [
    "# Com print()\n",
    "print(1 + 3)\n",
    "print(4 * 12)\n",
    "print(3 / 4)"
   ]
  },
  {
   "cell_type": "code",
   "execution_count": 24,
   "metadata": {
    "ExecuteTime": {
     "end_time": "2020-11-27T13:31:43.950952Z",
     "start_time": "2020-11-27T13:31:43.945964Z"
    }
   },
   "outputs": [
    {
     "name": "stdout",
     "output_type": "stream",
     "text": [
      "Um vezes dois: 2\n"
     ]
    }
   ],
   "source": [
    "# Print\n",
    "print('Um vezes dois:', 1 * 2)"
   ]
  },
  {
   "cell_type": "code",
   "execution_count": 25,
   "metadata": {
    "ExecuteTime": {
     "end_time": "2020-11-27T13:31:44.186324Z",
     "start_time": "2020-11-27T13:31:44.179342Z"
    }
   },
   "outputs": [
    {
     "name": "stdout",
     "output_type": "stream",
     "text": [
      "Argumento 1 Argumento 2 Argumento 3 Argumento 4\n"
     ]
    }
   ],
   "source": [
    "print('Argumento 1', 'Argumento 2', 'Argumento 3', 'Argumento 4')"
   ]
  },
  {
   "cell_type": "code",
   "execution_count": 26,
   "metadata": {
    "ExecuteTime": {
     "end_time": "2020-11-27T13:31:45.177269Z",
     "start_time": "2020-11-27T13:31:45.172230Z"
    }
   },
   "outputs": [
    {
     "name": "stdout",
     "output_type": "stream",
     "text": [
      "Argumento 1, Argumento 2, Argumento 3, Argumento 4,\n"
     ]
    }
   ],
   "source": [
    "print('Argumento 1,', 'Argumento 2,', 'Argumento 3,', 'Argumento 4,')"
   ]
  },
  {
   "cell_type": "markdown",
   "metadata": {},
   "source": [
    "## Tipos e variáveis\n",
    "\n",
    "Em Python existem diferentes tipos de dados. Podemos ter dados em diversos formatos, por exemplo\n",
    "\n",
    "* Numérico.\n",
    "* Textual.\n",
    "* Lógico.\n",
    "\n",
    "Para isso, em Python existem os tipos de dados, eis alguns exemplos\n",
    "\n",
    "* int Números inteiros (Exemplos: -3, 7, 0, 2020).\n",
    "* float Números reais (Exemplos: -3.2, 1.5, 1e-8, 3.2e5).\n",
    "* str Cadeia de caracteres/Strings (Exemplos: \"Unicamp\" e \"MC102\").\n",
    "* bool Valores booleanos: True (Verdadeiro) e False (Falso)."
   ]
  },
  {
   "cell_type": "code",
   "execution_count": 27,
   "metadata": {
    "ExecuteTime": {
     "end_time": "2020-11-27T13:31:47.662247Z",
     "start_time": "2020-11-27T13:31:47.657261Z"
    }
   },
   "outputs": [
    {
     "name": "stdout",
     "output_type": "stream",
     "text": [
      "<class 'int'>\n"
     ]
    }
   ],
   "source": [
    "print(type(10))"
   ]
  },
  {
   "cell_type": "code",
   "execution_count": 28,
   "metadata": {
    "ExecuteTime": {
     "end_time": "2020-11-27T13:31:47.888675Z",
     "start_time": "2020-11-27T13:31:47.884652Z"
    }
   },
   "outputs": [
    {
     "name": "stdout",
     "output_type": "stream",
     "text": [
      "<class 'float'>\n"
     ]
    }
   ],
   "source": [
    "print(type(3.14))"
   ]
  },
  {
   "cell_type": "code",
   "execution_count": 29,
   "metadata": {
    "ExecuteTime": {
     "end_time": "2020-11-27T13:31:48.141036Z",
     "start_time": "2020-11-27T13:31:48.136029Z"
    }
   },
   "outputs": [
    {
     "name": "stdout",
     "output_type": "stream",
     "text": [
      "<class 'str'>\n"
     ]
    }
   ],
   "source": [
    "print(type('10'))"
   ]
  },
  {
   "cell_type": "code",
   "execution_count": 30,
   "metadata": {
    "ExecuteTime": {
     "end_time": "2020-11-27T13:31:48.380387Z",
     "start_time": "2020-11-27T13:31:48.375401Z"
    }
   },
   "outputs": [
    {
     "name": "stdout",
     "output_type": "stream",
     "text": [
      "<class 'bool'>\n"
     ]
    }
   ],
   "source": [
    "print(type(True))"
   ]
  },
  {
   "cell_type": "code",
   "execution_count": 31,
   "metadata": {
    "ExecuteTime": {
     "end_time": "2020-11-27T13:31:48.596323Z",
     "start_time": "2020-11-27T13:31:48.591345Z"
    }
   },
   "outputs": [
    {
     "name": "stdout",
     "output_type": "stream",
     "text": [
      "<class 'bool'>\n"
     ]
    }
   ],
   "source": [
    "print(type(False))"
   ]
  },
  {
   "cell_type": "code",
   "execution_count": 32,
   "metadata": {
    "ExecuteTime": {
     "end_time": "2020-11-27T13:31:49.030175Z",
     "start_time": "2020-11-27T13:31:49.027184Z"
    }
   },
   "outputs": [
    {
     "name": "stdout",
     "output_type": "stream",
     "text": [
      "3.1416\n"
     ]
    }
   ],
   "source": [
    "pi = 3.1416\n",
    "print(pi)"
   ]
  },
  {
   "cell_type": "code",
   "execution_count": 33,
   "metadata": {
    "ExecuteTime": {
     "end_time": "2020-11-27T13:31:49.269535Z",
     "start_time": "2020-11-27T13:31:49.264551Z"
    }
   },
   "outputs": [
    {
     "name": "stdout",
     "output_type": "stream",
     "text": [
      "3 3 3\n"
     ]
    }
   ],
   "source": [
    "a = b = c = 3\n",
    "print(a, b, c)"
   ]
  },
  {
   "cell_type": "code",
   "execution_count": 34,
   "metadata": {
    "ExecuteTime": {
     "end_time": "2020-11-27T13:31:49.483483Z",
     "start_time": "2020-11-27T13:31:49.478496Z"
    }
   },
   "outputs": [
    {
     "name": "stdout",
     "output_type": "stream",
     "text": [
      "1 1\n"
     ]
    }
   ],
   "source": [
    "a = 2\n",
    "b = 1\n",
    "a = b\n",
    "b = a\n",
    "print(a,b)"
   ]
  },
  {
   "cell_type": "code",
   "execution_count": 35,
   "metadata": {
    "ExecuteTime": {
     "end_time": "2020-11-27T13:31:49.709878Z",
     "start_time": "2020-11-27T13:31:49.704900Z"
    }
   },
   "outputs": [
    {
     "name": "stdout",
     "output_type": "stream",
     "text": [
      "9.25 \n",
      " <class 'float'>\n"
     ]
    }
   ],
   "source": [
    "nota_P1 = 10.0\n",
    "nota_P2 = 8.5\n",
    "nota_final = (nota_P1 + nota_P2)/2\n",
    "print(nota_final, '\\n' , type(nota_final))"
   ]
  },
  {
   "cell_type": "markdown",
   "metadata": {},
   "source": [
    "## Operadores matemáticos\n",
    "\n",
    "Para os operadores matemáticos, é possível utilizar uma forma compacta para atualizar o valor de uma variável.\n",
    "\n",
    "* x += y é equivalente a x = x + y.\n",
    "* x -= y é equivalente a x = x - y.\n",
    "* x *= y é equivalente a x = x * y.\n",
    "* x /= y é equivalente a x = x / y.\n",
    "* x %= y é equivalente a x = x % y\n",
    "\n",
    "Precedência é a ordem na qual os operadores serão avaliados quando o programa for executado. Em Python, os operadores são avaliados na seguinte ordem de precedência:\n",
    "\n",
    "* Exponenciação.\n",
    "* Operadores unários (+ ou −).\n",
    "* Multiplicação e divisão (na ordem em que aparecem).\n",
    "* Módulo.\n",
    "* Adição e subtração (na ordem em que aparecem).\n",
    "* Podemos controlar a ordem com que as expressões são avaliadas com o uso de parênteses.\n",
    "* Procure usar sempre parênteses em expressões para deixar claro em qual ordem as mesmas devem ser avaliadas."
   ]
  },
  {
   "cell_type": "code",
   "execution_count": 36,
   "metadata": {
    "ExecuteTime": {
     "end_time": "2020-11-27T13:31:50.419550Z",
     "start_time": "2020-11-27T13:31:50.413567Z"
    }
   },
   "outputs": [
    {
     "name": "stdout",
     "output_type": "stream",
     "text": [
      "250\n"
     ]
    }
   ],
   "source": [
    "a = 100 \n",
    "a += 150 \n",
    "print(a)"
   ]
  },
  {
   "cell_type": "code",
   "execution_count": 37,
   "metadata": {
    "ExecuteTime": {
     "end_time": "2020-11-27T13:31:50.649447Z",
     "start_time": "2020-11-27T13:31:50.644457Z"
    }
   },
   "outputs": [
    {
     "name": "stdout",
     "output_type": "stream",
     "text": [
      "200\n"
     ]
    }
   ],
   "source": [
    "a -= 50 \n",
    "print(a)"
   ]
  },
  {
   "cell_type": "code",
   "execution_count": 38,
   "metadata": {
    "ExecuteTime": {
     "end_time": "2020-11-27T13:31:50.844617Z",
     "start_time": "2020-11-27T13:31:50.840623Z"
    }
   },
   "outputs": [
    {
     "name": "stdout",
     "output_type": "stream",
     "text": [
      "600\n"
     ]
    }
   ],
   "source": [
    "a *= 3 \n",
    "print(a)"
   ]
  },
  {
   "cell_type": "code",
   "execution_count": 39,
   "metadata": {
    "ExecuteTime": {
     "end_time": "2020-11-27T13:31:51.083502Z",
     "start_time": "2020-11-27T13:31:51.078517Z"
    }
   },
   "outputs": [
    {
     "name": "stdout",
     "output_type": "stream",
     "text": [
      "20.0\n"
     ]
    }
   ],
   "source": [
    "a /= 30 \n",
    "print(a)"
   ]
  },
  {
   "cell_type": "code",
   "execution_count": 40,
   "metadata": {
    "ExecuteTime": {
     "end_time": "2020-11-27T13:31:51.265015Z",
     "start_time": "2020-11-27T13:31:51.259033Z"
    }
   },
   "outputs": [
    {
     "name": "stdout",
     "output_type": "stream",
     "text": [
      "2\n"
     ]
    }
   ],
   "source": [
    "# O operador % é o módulo da operação a%b, ou seja o resto da divisão de a por b\n",
    "a = 11\n",
    "a %= 3 \n",
    "print(a) # pois 11 = 3*3 + 2"
   ]
  },
  {
   "cell_type": "code",
   "execution_count": 41,
   "metadata": {
    "ExecuteTime": {
     "end_time": "2020-11-27T13:31:51.672925Z",
     "start_time": "2020-11-27T13:31:51.667939Z"
    }
   },
   "outputs": [
    {
     "name": "stdout",
     "output_type": "stream",
     "text": [
      "2.0\n"
     ]
    }
   ],
   "source": [
    "print((2 + 2) / 2)"
   ]
  },
  {
   "cell_type": "code",
   "execution_count": 42,
   "metadata": {
    "ExecuteTime": {
     "end_time": "2020-11-27T13:31:51.875962Z",
     "start_time": "2020-11-27T13:31:51.869981Z"
    }
   },
   "outputs": [
    {
     "name": "stdout",
     "output_type": "stream",
     "text": [
      "0\n"
     ]
    }
   ],
   "source": [
    "print(2 ** 2 % 2)"
   ]
  },
  {
   "cell_type": "code",
   "execution_count": 43,
   "metadata": {
    "ExecuteTime": {
     "end_time": "2020-11-27T13:31:52.084954Z",
     "start_time": "2020-11-27T13:31:52.079971Z"
    }
   },
   "outputs": [
    {
     "name": "stdout",
     "output_type": "stream",
     "text": [
      "6.0\n"
     ]
    }
   ],
   "source": [
    "print(2 * 2 + 8 / 2 ** 2)"
   ]
  },
  {
   "cell_type": "code",
   "execution_count": 44,
   "metadata": {
    "ExecuteTime": {
     "end_time": "2020-11-27T13:31:52.316337Z",
     "start_time": "2020-11-27T13:31:52.310352Z"
    }
   },
   "outputs": [
    {
     "name": "stdout",
     "output_type": "stream",
     "text": [
      "99.0\n"
     ]
    }
   ],
   "source": [
    "print(100 - 99 / 3 % 2)"
   ]
  },
  {
   "cell_type": "code",
   "execution_count": 45,
   "metadata": {
    "ExecuteTime": {
     "end_time": "2020-11-27T13:31:52.483423Z",
     "start_time": "2020-11-27T13:31:52.477439Z"
    }
   },
   "outputs": [
    {
     "data": {
      "text/plain": [
       "'ab'"
      ]
     },
     "execution_count": 45,
     "metadata": {},
     "output_type": "execute_result"
    }
   ],
   "source": [
    "'a' + 'b'"
   ]
  },
  {
   "cell_type": "code",
   "execution_count": 46,
   "metadata": {
    "ExecuteTime": {
     "end_time": "2020-11-27T13:31:52.682737Z",
     "start_time": "2020-11-27T13:31:52.678721Z"
    }
   },
   "outputs": [
    {
     "data": {
      "text/plain": [
       "'abb'"
      ]
     },
     "execution_count": 46,
     "metadata": {},
     "output_type": "execute_result"
    }
   ],
   "source": [
    "'a' + 'b'*2"
   ]
  },
  {
   "cell_type": "code",
   "execution_count": 47,
   "metadata": {
    "ExecuteTime": {
     "end_time": "2020-11-27T13:31:52.895143Z",
     "start_time": "2020-11-27T13:31:52.890161Z"
    }
   },
   "outputs": [
    {
     "data": {
      "text/plain": [
       "'aab'"
      ]
     },
     "execution_count": 47,
     "metadata": {},
     "output_type": "execute_result"
    }
   ],
   "source": [
    "'a'*2 + 'b'"
   ]
  },
  {
   "cell_type": "code",
   "execution_count": 48,
   "metadata": {
    "ExecuteTime": {
     "end_time": "2020-11-27T13:31:53.123531Z",
     "start_time": "2020-11-27T13:31:53.115554Z"
    }
   },
   "outputs": [
    {
     "data": {
      "text/plain": [
       "'aabb'"
      ]
     },
     "execution_count": 48,
     "metadata": {},
     "output_type": "execute_result"
    }
   ],
   "source": [
    "'a'*2 + 'b'*2"
   ]
  },
  {
   "cell_type": "code",
   "execution_count": 49,
   "metadata": {
    "ExecuteTime": {
     "end_time": "2020-11-27T13:31:53.330976Z",
     "start_time": "2020-11-27T13:31:53.324995Z"
    }
   },
   "outputs": [
    {
     "data": {
      "text/plain": [
       "'aabaab'"
      ]
     },
     "execution_count": 49,
     "metadata": {},
     "output_type": "execute_result"
    }
   ],
   "source": [
    "('a'*2 + 'b')*2"
   ]
  },
  {
   "cell_type": "code",
   "execution_count": 50,
   "metadata": {
    "ExecuteTime": {
     "end_time": "2020-11-27T13:31:53.551387Z",
     "start_time": "2020-11-27T13:31:53.545409Z"
    }
   },
   "outputs": [
    {
     "data": {
      "text/plain": [
       "'abab'"
      ]
     },
     "execution_count": 50,
     "metadata": {},
     "output_type": "execute_result"
    }
   ],
   "source": [
    "('a' + 'b')*2"
   ]
  }
 ],
 "metadata": {
  "hide_input": false,
  "kernelspec": {
   "display_name": "Python 3 (ipykernel)",
   "language": "python",
   "name": "python3"
  },
  "language_info": {
   "codemirror_mode": {
    "name": "ipython",
    "version": 3
   },
   "file_extension": ".py",
   "mimetype": "text/x-python",
   "name": "python",
   "nbconvert_exporter": "python",
   "pygments_lexer": "ipython3",
   "version": "3.9.13"
  },
  "latex_envs": {
   "LaTeX_envs_menu_present": true,
   "autoclose": false,
   "autocomplete": true,
   "bibliofile": "biblio.bib",
   "cite_by": "apalike",
   "current_citInitial": 1,
   "eqLabelWithNumbers": true,
   "eqNumInitial": 1,
   "hotkeys": {
    "equation": "Ctrl-E",
    "itemize": "Ctrl-I"
   },
   "labels_anchors": false,
   "latex_user_defs": false,
   "report_style_numbering": false,
   "user_envs_cfg": false
  },
  "toc": {
   "base_numbering": 1,
   "nav_menu": {},
   "number_sections": true,
   "sideBar": true,
   "skip_h1_title": false,
   "title_cell": "Table of Contents",
   "title_sidebar": "Contents",
   "toc_cell": false,
   "toc_position": {
    "height": "calc(100% - 180px)",
    "left": "10px",
    "top": "150px",
    "width": "349.091px"
   },
   "toc_section_display": true,
   "toc_window_display": true
  },
  "varInspector": {
   "cols": {
    "lenName": 16,
    "lenType": 16,
    "lenVar": 40
   },
   "kernels_config": {
    "python": {
     "delete_cmd_postfix": "",
     "delete_cmd_prefix": "del ",
     "library": "var_list.py",
     "varRefreshCmd": "print(var_dic_list())"
    },
    "r": {
     "delete_cmd_postfix": ") ",
     "delete_cmd_prefix": "rm(",
     "library": "var_list.r",
     "varRefreshCmd": "cat(var_dic_list()) "
    }
   },
   "types_to_exclude": [
    "module",
    "function",
    "builtin_function_or_method",
    "instance",
    "_Feature"
   ],
   "window_display": false
  }
 },
 "nbformat": 4,
 "nbformat_minor": 4
}
