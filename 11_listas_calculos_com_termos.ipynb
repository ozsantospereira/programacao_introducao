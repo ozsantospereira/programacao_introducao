{
 "cells": [
  {
   "cell_type": "markdown",
   "id": "832eb5ce",
   "metadata": {},
   "source": [
    "# Explicação Detalhada do Código\n",
    "\n",
    "O código apresentado executa diversas operações em um número inteiro, desmembrando seus dígitos e processando-os para gerar uma lista de potências de 2. Abaixo, detalhamos cada etapa do código.\n",
    "\n",
    "## Passo 1: Inicialização de Listas\n",
    "\n",
    "Duas listas são inicializadas vazias:\n",
    "\n",
    "- A primeira lista servirá para armazenar os dígitos do número processado, mas em ordem reversa.\n",
    "- A segunda lista armazenará inicialmente valores fixos, que serão modificados posteriormente.\n",
    "\n",
    "## Passo 2: Extração dos Dígitos do Número\n",
    "\n",
    "O número inteiro a ser processado é definido. Em seguida, um laço de repetição extrai cada um de seus dígitos:\n",
    "\n",
    "- O último dígito do número é obtido por meio do operador módulo e armazenado na primeira lista.\n",
    "- O número original é atualizado removendo seu último dígito, utilizando divisão inteira.\n",
    "- Para cada dígito extraído, a segunda lista recebe o valor `1`.\n",
    "\n",
    "Ao final desse processo, a primeira lista contém os dígitos do número na ordem inversa, enquanto a segunda lista contém apenas valores `1`, com a mesma quantidade de elementos.\n",
    "\n",
    "## Passo 3: Impressão dos Valores Extraídos\n",
    "\n",
    "Os dígitos armazenados na primeira lista são exibidos na tela, separados por vírgula, respeitando a formatação para evitar uma vírgula ao final. O mesmo procedimento é realizado para os valores da segunda lista.\n",
    "\n",
    "## Passo 4: Cálculo de Potências de 2\n",
    "\n",
    "Cada elemento da segunda lista é atualizado de acordo com os valores armazenados na primeira lista:\n",
    "\n",
    "- Para cada posição na primeira lista, um laço interno multiplica o valor correspondente na segunda lista por `2`, repetindo essa operação tantas vezes quanto o valor armazenado na primeira lista.\n",
    "- Como resultado, cada elemento na segunda lista será equivalente a `2` elevado ao valor do dígito correspondente.\n",
    "\n",
    "## Passo 5: Impressão dos Valores Atualizados\n",
    "\n",
    "A segunda lista, agora contendo potências de `2`, é impressa na tela, separando os valores por vírgula. Ao final da impressão, o número `1` é adicionado, possivelmente para representar `2⁰ = 1`."
   ]
  },
  {
   "cell_type": "code",
   "execution_count": 6,
   "id": "f73d66bd",
   "metadata": {
    "ExecuteTime": {
     "end_time": "2025-02-08T17:36:51.625743Z",
     "start_time": "2025-02-08T17:36:51.619738Z"
    }
   },
   "outputs": [
    {
     "name": "stdout",
     "output_type": "stream",
     "text": [
      "9, 8, 7, 6, 5, 4, 3, 2, 1\n",
      "1, 1, 1, 1, 1, 1, 1, 1, 1\n",
      "512, 256, 128, 64, 32, 16, 8, 4, 2, 1\n"
     ]
    }
   ],
   "source": [
    "# Define o número a ser processado\n",
    "n = 123456789\n",
    "\n",
    "# v1 servirá para armazenar os dígitos do número (em ordem reversa)\n",
    "v1 = []\n",
    "# v2 será usada para armazenar valores que serão alterados posteriormente\n",
    "v2 = []\n",
    "\n",
    "# Loop para extrair os dígitos de 'n' enquanto ele for diferente de 0\n",
    "while n != 0:\n",
    "    # Calcula o último dígito de 'n' (usando o operador módulo) e adiciona em v1\n",
    "    v1.append(n % 10)\n",
    "    # Remove o último dígito de 'n' usando divisão inteira por 10\n",
    "    n = n // 10\n",
    "    # Para cada dígito extraído, adiciona o valor 1 em v2\n",
    "    v2.append(1)\n",
    "\n",
    "# Imprime os dígitos armazenados em v1, separados por vírgula\n",
    "for a in v1[:-1]:\n",
    "    print(a, end=\", \")\n",
    "print(v1[-1])\n",
    "\n",
    "# Imprime os valores iniciais de v2 (todos são 1 inicialmente), formatados de forma semelhante\n",
    "for a in v2[:-1]:\n",
    "    print(a, end=\", \")\n",
    "print(v2[-1])\n",
    "\n",
    "# Para cada índice correspondente a um dígito em v1:\n",
    "for i in range(len(v1)):\n",
    "    # Executa um loop que se repete v1[i] vezes. Ou seja, para cada dígito, multiplica o valor inicial (1) por 2.\n",
    "    for j in range(v1[i]):\n",
    "        # Ao final desse loop, v2[i] equivale a 2 elevado à potência do dígito armazenado em v1[i]\n",
    "        v2[i] = 2 * v2[i]\n",
    "\n",
    "# Imprime os valores atualizados de v2, agora representando potências de 2, separados por vírgula\n",
    "for a in v2:\n",
    "    print(a, end=\", \")   \n",
    "# Imprime o número 1 no final, possivelmente para representar o valor 2^0\n",
    "print(1)"
   ]
  }
 ],
 "metadata": {
  "hide_input": false,
  "kernelspec": {
   "display_name": "Python 3 (ipykernel)",
   "language": "python",
   "name": "python3"
  },
  "language_info": {
   "codemirror_mode": {
    "name": "ipython",
    "version": 3
   },
   "file_extension": ".py",
   "mimetype": "text/x-python",
   "name": "python",
   "nbconvert_exporter": "python",
   "pygments_lexer": "ipython3",
   "version": "3.9.13"
  },
  "toc": {
   "base_numbering": 1,
   "nav_menu": {},
   "number_sections": true,
   "sideBar": true,
   "skip_h1_title": false,
   "title_cell": "Table of Contents",
   "title_sidebar": "Contents",
   "toc_cell": false,
   "toc_position": {},
   "toc_section_display": true,
   "toc_window_display": false
  },
  "varInspector": {
   "cols": {
    "lenName": 16,
    "lenType": 16,
    "lenVar": 40
   },
   "kernels_config": {
    "python": {
     "delete_cmd_postfix": "",
     "delete_cmd_prefix": "del ",
     "library": "var_list.py",
     "varRefreshCmd": "print(var_dic_list())"
    },
    "r": {
     "delete_cmd_postfix": ") ",
     "delete_cmd_prefix": "rm(",
     "library": "var_list.r",
     "varRefreshCmd": "cat(var_dic_list()) "
    }
   },
   "types_to_exclude": [
    "module",
    "function",
    "builtin_function_or_method",
    "instance",
    "_Feature"
   ],
   "window_display": false
  }
 },
 "nbformat": 4,
 "nbformat_minor": 5
}
