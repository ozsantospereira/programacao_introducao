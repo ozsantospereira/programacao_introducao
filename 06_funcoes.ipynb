{
 "cells": [
  {
   "cell_type": "markdown",
   "metadata": {},
   "source": [
    "# Funções\n",
    "\n"
   ]
  },
  {
   "cell_type": "markdown",
   "metadata": {},
   "source": [
    "## Sintaxe e exemplos simples"
   ]
  },
  {
   "cell_type": "code",
   "execution_count": 10,
   "metadata": {
    "ExecuteTime": {
     "end_time": "2020-11-28T20:26:44.481059Z",
     "start_time": "2020-11-28T20:26:44.476074Z"
    }
   },
   "outputs": [],
   "source": [
    "def hello_world():\n",
    "    print('Hello World!')"
   ]
  },
  {
   "cell_type": "code",
   "execution_count": 11,
   "metadata": {
    "ExecuteTime": {
     "end_time": "2020-11-28T20:26:47.861654Z",
     "start_time": "2020-11-28T20:26:47.854638Z"
    }
   },
   "outputs": [
    {
     "name": "stdout",
     "output_type": "stream",
     "text": [
      "Hello World!\n"
     ]
    }
   ],
   "source": [
    "hello_world()"
   ]
  },
  {
   "cell_type": "code",
   "execution_count": 1,
   "metadata": {
    "ExecuteTime": {
     "end_time": "2020-11-28T19:04:47.005900Z",
     "start_time": "2020-11-28T19:04:47.000155Z"
    }
   },
   "outputs": [],
   "source": [
    "def x_ao_quadrado(x_):\n",
    "    return x_*x_"
   ]
  },
  {
   "cell_type": "code",
   "execution_count": 2,
   "metadata": {
    "ExecuteTime": {
     "end_time": "2020-11-28T19:04:50.051970Z",
     "start_time": "2020-11-28T19:04:50.033248Z"
    }
   },
   "outputs": [
    {
     "data": {
      "text/plain": [
       "4"
      ]
     },
     "execution_count": 2,
     "metadata": {},
     "output_type": "execute_result"
    }
   ],
   "source": [
    "x_ao_quadrado(2)"
   ]
  },
  {
   "cell_type": "code",
   "execution_count": 3,
   "metadata": {
    "ExecuteTime": {
     "end_time": "2020-11-28T19:05:00.179211Z",
     "start_time": "2020-11-28T19:05:00.167800Z"
    }
   },
   "outputs": [],
   "source": [
    "def func(x, y, z):\n",
    "    print('x: ', x)\n",
    "    print('y: ', y)\n",
    "    print('z: ', z)\n",
    "\n",
    "    return (x * y)**z"
   ]
  },
  {
   "cell_type": "code",
   "execution_count": 4,
   "metadata": {
    "ExecuteTime": {
     "end_time": "2020-11-28T19:05:12.796126Z",
     "start_time": "2020-11-28T19:05:12.781497Z"
    }
   },
   "outputs": [
    {
     "name": "stdout",
     "output_type": "stream",
     "text": [
      "x:  1\n",
      "y:  3\n",
      "z:  4\n"
     ]
    },
    {
     "data": {
      "text/plain": [
       "81"
      ]
     },
     "execution_count": 4,
     "metadata": {},
     "output_type": "execute_result"
    }
   ],
   "source": [
    "func(1, 3, 4)"
   ]
  },
  {
   "cell_type": "code",
   "execution_count": 5,
   "metadata": {
    "ExecuteTime": {
     "end_time": "2020-11-28T20:24:27.993156Z",
     "start_time": "2020-11-28T20:24:27.970250Z"
    }
   },
   "outputs": [
    {
     "name": "stdout",
     "output_type": "stream",
     "text": [
      "x:  1\n",
      "y:  3\n",
      "z:  0\n"
     ]
    },
    {
     "data": {
      "text/plain": [
       "1"
      ]
     },
     "execution_count": 5,
     "metadata": {},
     "output_type": "execute_result"
    }
   ],
   "source": [
    "func(x=1, y=3, z=0)"
   ]
  },
  {
   "cell_type": "code",
   "execution_count": 7,
   "metadata": {
    "ExecuteTime": {
     "end_time": "2020-11-28T20:24:54.175676Z",
     "start_time": "2020-11-28T20:24:54.166700Z"
    }
   },
   "outputs": [
    {
     "data": {
      "text/plain": [
       "'raíz complexa'"
      ]
     },
     "execution_count": 7,
     "metadata": {},
     "output_type": "execute_result"
    }
   ],
   "source": [
    "def raiz(a):\n",
    "    if a < 0:\n",
    "        return 'raíz complexa'\n",
    "    else:\n",
    "        return np.sqrt(a)\n",
    "\n",
    "raiz(-4)"
   ]
  },
  {
   "cell_type": "code",
   "execution_count": 13,
   "metadata": {
    "ExecuteTime": {
     "end_time": "2020-11-28T20:28:12.708508Z",
     "start_time": "2020-11-28T20:28:12.704521Z"
    }
   },
   "outputs": [
    {
     "name": "stdout",
     "output_type": "stream",
     "text": [
      "6\n"
     ]
    }
   ],
   "source": [
    "def sucessor(n):\n",
    "    n = n + 1\n",
    "    print(n)\n",
    "\n",
    "sucessor(5)"
   ]
  },
  {
   "cell_type": "code",
   "execution_count": 17,
   "metadata": {
    "ExecuteTime": {
     "end_time": "2020-11-28T20:32:08.128874Z",
     "start_time": "2020-11-28T20:32:08.121926Z"
    }
   },
   "outputs": [
    {
     "name": "stdout",
     "output_type": "stream",
     "text": [
      "É um número ímpar:  5\n"
     ]
    }
   ],
   "source": [
    "def par_ou_nao(valor):\n",
    "    if (type(valor) != int):\n",
    "        print('Não é inteiro:', valor)\n",
    "    elif (valor % 2 == 0):\n",
    "        print('É um número par: ', valor)\n",
    "    elif (valor % 2 == 1):\n",
    "        print('É um número ímpar: ', valor)\n",
    "\n",
    "par_ou_nao(valor = 5)"
   ]
  },
  {
   "cell_type": "markdown",
   "metadata": {},
   "source": [
    "## Calcula raízes do segundo grau\n",
    "\n",
    "Neste exemplo vamos criar um solucionador de equações do segundo grau\n",
    "\n",
    "\\begin{equation}\n",
    "\\nonumber ax^2 + bx + c = 0\n",
    "\\end{equation}\n",
    "\n",
    "Lembrando que devemos ter a condição de que $a \\neq 0$ para que a equação seja do\n",
    "segundo grau. A solução para esta equação é dada por\n",
    "\n",
    "\\begin{equation}\n",
    "\\nonumber x = \\frac{-b \\pm \\sqrt{b^2 - 4ac}}{2a}\n",
    "\\end{equation}\n",
    "\n",
    "Lembrando que para que as raízes sejam reais é necessário que o termo dentro da raiz quadrada seja sempre maior ou igual a zero. Este termo dentro da raíz quadrada é conhecido por discriminante e representado pela letra grega maiúscula delta $\\Delta$.\n",
    "\n",
    "\\begin{equation}\n",
    "\\nonumber \\Delta = b^2 - 4ac\n",
    "\\end{equation}"
   ]
  },
  {
   "cell_type": "code",
   "execution_count": 24,
   "metadata": {
    "ExecuteTime": {
     "end_time": "2020-11-28T20:39:10.073062Z",
     "start_time": "2020-11-28T20:39:10.069043Z"
    }
   },
   "outputs": [],
   "source": [
    "def eq_solver(a,b,c):\n",
    "    # \n",
    "    discriminante = b**2 - 4*a*c\n",
    "    if discriminante < 0: \n",
    "        return 'sem raízes reais'\n",
    "    else:\n",
    "        print('Discriminante = ', discriminante)\n",
    "        # \n",
    "        x1 = (-b + np.sqrt(discriminante))/(2*a)\n",
    "        x2 = (-b - np.sqrt(discriminante))/(2*a)\n",
    "\n",
    "        print('x1 =', x1)\n",
    "        print('x2 =', x2)\n",
    "\n",
    "        return x1, x2"
   ]
  },
  {
   "cell_type": "code",
   "execution_count": 25,
   "metadata": {
    "ExecuteTime": {
     "end_time": "2020-11-28T20:39:18.325014Z",
     "start_time": "2020-11-28T20:39:18.319029Z"
    }
   },
   "outputs": [
    {
     "name": "stdout",
     "output_type": "stream",
     "text": [
      "Discriminante =  0\n",
      "x1 = -1.0\n",
      "x2 = -1.0\n"
     ]
    },
    {
     "data": {
      "text/plain": [
       "(-1.0, -1.0)"
      ]
     },
     "execution_count": 25,
     "metadata": {},
     "output_type": "execute_result"
    }
   ],
   "source": [
    "eq_solver(a = 1,b = 2,c = 1)"
   ]
  },
  {
   "cell_type": "markdown",
   "metadata": {},
   "source": [
    "## Mais exemplos"
   ]
  },
  {
   "cell_type": "code",
   "execution_count": 77,
   "metadata": {
    "ExecuteTime": {
     "end_time": "2020-11-28T21:20:47.003572Z",
     "start_time": "2020-11-28T21:20:46.997556Z"
    }
   },
   "outputs": [
    {
     "name": "stdout",
     "output_type": "stream",
     "text": [
      "1 igual a  1\n",
      "10 maior que  1\n",
      "1 menor que  10\n"
     ]
    }
   ],
   "source": [
    "def comparador(x , y):\n",
    "    if (x > y):\n",
    "        print(x, 'maior que ', y)\n",
    "    elif (x < y):\n",
    "        print(x, 'menor que ', y)\n",
    "    else:\n",
    "        print(x, 'igual a ', y)\n",
    "        \n",
    "comparador(1,1)\n",
    "comparador(10,1)\n",
    "comparador(1,10)"
   ]
  },
  {
   "cell_type": "code",
   "execution_count": 78,
   "metadata": {
    "ExecuteTime": {
     "end_time": "2020-11-28T21:21:10.793491Z",
     "start_time": "2020-11-28T21:21:10.788537Z"
    }
   },
   "outputs": [
    {
     "name": "stdout",
     "output_type": "stream",
     "text": [
      "Textos iguais! ( aaa )\n",
      "Os textos são diferentes! ( aaa )  diferente de  ( bb )\n"
     ]
    }
   ],
   "source": [
    "def compara_string(texto_1, texto_2):\n",
    "    if (texto_1 == texto_2):\n",
    "        print('Textos iguais! (', texto_1, ')')\n",
    "    else:\n",
    "        print('Os textos são diferentes!', '(', texto_1, ')', ' diferente de ', '(', texto_2, ')')\n",
    "\n",
    "compara_string(texto_1 = 'aaa', texto_2 = 'aaa')\n",
    "compara_string(texto_1 = 'aaa', texto_2 = 'bb')"
   ]
  }
 ],
 "metadata": {
  "hide_input": false,
  "kernelspec": {
   "display_name": "Python 3 (ipykernel)",
   "language": "python",
   "name": "python3"
  },
  "language_info": {
   "codemirror_mode": {
    "name": "ipython",
    "version": 3
   },
   "file_extension": ".py",
   "mimetype": "text/x-python",
   "name": "python",
   "nbconvert_exporter": "python",
   "pygments_lexer": "ipython3",
   "version": "3.9.13"
  },
  "latex_envs": {
   "LaTeX_envs_menu_present": true,
   "autoclose": false,
   "autocomplete": true,
   "bibliofile": "biblio.bib",
   "cite_by": "apalike",
   "current_citInitial": 1,
   "eqLabelWithNumbers": true,
   "eqNumInitial": 1,
   "hotkeys": {
    "equation": "Ctrl-E",
    "itemize": "Ctrl-I"
   },
   "labels_anchors": false,
   "latex_user_defs": false,
   "report_style_numbering": false,
   "user_envs_cfg": false
  },
  "toc": {
   "base_numbering": 1,
   "nav_menu": {},
   "number_sections": true,
   "sideBar": true,
   "skip_h1_title": false,
   "title_cell": "Table of Contents",
   "title_sidebar": "Contents",
   "toc_cell": false,
   "toc_position": {
    "height": "calc(100% - 180px)",
    "left": "10px",
    "top": "150px",
    "width": "349.091px"
   },
   "toc_section_display": true,
   "toc_window_display": true
  },
  "varInspector": {
   "cols": {
    "lenName": 16,
    "lenType": 16,
    "lenVar": 40
   },
   "kernels_config": {
    "python": {
     "delete_cmd_postfix": "",
     "delete_cmd_prefix": "del ",
     "library": "var_list.py",
     "varRefreshCmd": "print(var_dic_list())"
    },
    "r": {
     "delete_cmd_postfix": ") ",
     "delete_cmd_prefix": "rm(",
     "library": "var_list.r",
     "varRefreshCmd": "cat(var_dic_list()) "
    }
   },
   "types_to_exclude": [
    "module",
    "function",
    "builtin_function_or_method",
    "instance",
    "_Feature"
   ],
   "window_display": false
  }
 },
 "nbformat": 4,
 "nbformat_minor": 4
}
