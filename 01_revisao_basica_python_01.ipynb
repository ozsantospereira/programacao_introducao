{
 "cells": [
  {
   "cell_type": "markdown",
   "metadata": {},
   "source": [
    "# Introdução à lógica de programação e algoritmos\n",
    "\n",
    "\n",
    "\n",
    "## Resumo da aula\n",
    "\n",
    "* Introdução e sintaxe do Python\n",
    "* Operações aritméticas\n",
    "* Como usar o print\n",
    "* Variáveis e aplicações\n",
    "* Um pouco de matemática e lógica\n",
    "* Tipos de variáveis\n",
    "\n",
    "\n",
    "\n",
    "## Referências\n",
    "\n",
    "* https://www.w3schools.com/python/default.asp\n",
    "* https://www.ic.unicamp.br/~mc102/\n",
    "* https://www.programiz.com/python-programming/\n",
    "* [Python programming](https://www.programiz.com/python-programming/operators#:~:text=Operators%20are%20special%20symbols%20in,on%20is%20called%20the%20operand.&text=Here%2C%20%2B%20is%20the%20operator%20that,the%20output%20of%20the%20operation)"
   ]
  },
  {
   "cell_type": "markdown",
   "metadata": {},
   "source": [
    "# Introdução: sintaxe, operações e comandos básicos\n",
    "\n",
    "A linguagem python possui uma comunidade bastante ativa que trabalha bastante para criar, atualizar e otimizar as bibliotecas desta linguagem. As bibliotecas são conjuntos de funções e métodos que podem ser chamadas por comandos específicos dentro dos códigos. Nesta aula vamos apresentar como importar estas bibliotecas para seu código e introduzir alguns conceitos através de exemplos práticos sobre como utilizar as funções dessas bibliotecas. Abaixo vamos listar algumas das principais bibliotecas de Python utilizadas em análise de dados.\n",
    "\n",
    "* **Pandas**\n",
    "* **Numpy**\n",
    "* **Scipy**\n",
    "\n",
    "## Importando bibliotecas"
   ]
  },
  {
   "cell_type": "code",
   "execution_count": 1,
   "metadata": {
    "ExecuteTime": {
     "end_time": "2020-11-27T13:31:38.448240Z",
     "start_time": "2020-11-27T13:31:38.119800Z"
    }
   },
   "outputs": [],
   "source": [
    "import pandas as pd\n",
    "import numpy as np"
   ]
  },
  {
   "cell_type": "markdown",
   "metadata": {},
   "source": [
    "## Comentários e códigos"
   ]
  },
  {
   "cell_type": "code",
   "execution_count": 2,
   "metadata": {
    "ExecuteTime": {
     "end_time": "2020-11-27T13:31:38.923355Z",
     "start_time": "2020-11-27T13:31:38.915377Z"
    }
   },
   "outputs": [
    {
     "data": {
      "text/plain": [
       "4"
      ]
     },
     "execution_count": 2,
     "metadata": {},
     "output_type": "execute_result"
    }
   ],
   "source": [
    "# Para escrever um comentário em um código use o símbolo jogo da velha # no início do comentário.\n",
    "# Toda vez que você quiser escrever um comentário inicie com um #.\n",
    "# Precisa começar com o # para trocar de linha também!\n",
    "\n",
    "# A linha 6 é um código\n",
    "a = 2 + 2\n",
    "\n",
    "# A linha 9 também é um código\n",
    "a"
   ]
  },
  {
   "cell_type": "code",
   "execution_count": 3,
   "metadata": {
    "ExecuteTime": {
     "end_time": "2020-11-27T13:31:39.139743Z",
     "start_time": "2020-11-27T13:31:39.131765Z"
    }
   },
   "outputs": [
    {
     "data": {
      "text/plain": [
       "\" Se você usar as aspas simples (') irá gerar uma string multilinha que pode ser guardada \\ndentro de uma variável como mostra esse exemplo.\""
      ]
     },
     "execution_count": 3,
     "metadata": {},
     "output_type": "execute_result"
    }
   ],
   "source": [
    "\"\"\"\n",
    "Caso você queira escrever um texto ou um comentário longo, pode colocar entre três aspas (\")\n",
    "iniciando e fechando o comentário. Lembre-se que tudo que estiver entre as três aspas\n",
    "iniciais e as três aspas finais será um comentário e não será executado. Use e abuse de \n",
    "comentários e textos no seu código. Esta é uma boa prática que deve ser praticada e \n",
    "melhorada cada vez mais, pois torna seus códigos mais compreensíveis para quem for \n",
    "precisar cooperar e para você mesmo, pois não conseguimos guardar todas as informações \n",
    "de um código na nossa memória!\n",
    "\"\"\"\n",
    "\n",
    "# Abaixo uma linha de código\n",
    "b = 2 * 3\n",
    "\n",
    "# Outra linha de código abaixo\n",
    "b\n",
    "\n",
    "texto = ''' Se você usar as aspas simples (') irá gerar uma string multilinha que pode ser guardada \n",
    "dentro de uma variável como mostra esse exemplo.'''\n",
    "\n",
    "# \n",
    "texto"
   ]
  },
  {
   "cell_type": "markdown",
   "metadata": {},
   "source": [
    "## Interpretador interativo e operações básicas"
   ]
  },
  {
   "cell_type": "code",
   "execution_count": 4,
   "metadata": {
    "ExecuteTime": {
     "end_time": "2020-11-27T13:31:39.518003Z",
     "start_time": "2020-11-27T13:31:39.512024Z"
    }
   },
   "outputs": [
    {
     "data": {
      "text/plain": [
       "4"
      ]
     },
     "execution_count": 4,
     "metadata": {},
     "output_type": "execute_result"
    }
   ],
   "source": [
    "# Soma\n",
    "1 + 3"
   ]
  },
  {
   "cell_type": "code",
   "execution_count": 5,
   "metadata": {
    "ExecuteTime": {
     "end_time": "2020-11-27T13:31:39.731456Z",
     "start_time": "2020-11-27T13:31:39.726470Z"
    }
   },
   "outputs": [
    {
     "data": {
      "text/plain": [
       "-2"
      ]
     },
     "execution_count": 5,
     "metadata": {},
     "output_type": "execute_result"
    }
   ],
   "source": [
    "# Subtração\n",
    "7 - 9"
   ]
  },
  {
   "cell_type": "code",
   "execution_count": 6,
   "metadata": {
    "ExecuteTime": {
     "end_time": "2020-11-27T13:31:39.931922Z",
     "start_time": "2020-11-27T13:31:39.926933Z"
    }
   },
   "outputs": [
    {
     "data": {
      "text/plain": [
       "3.3333333333333335"
      ]
     },
     "execution_count": 6,
     "metadata": {},
     "output_type": "execute_result"
    }
   ],
   "source": [
    "# Divisão\n",
    "10 / 3"
   ]
  },
  {
   "cell_type": "code",
   "execution_count": 7,
   "metadata": {
    "ExecuteTime": {
     "end_time": "2020-11-27T13:31:40.150349Z",
     "start_time": "2020-11-27T13:31:40.146379Z"
    }
   },
   "outputs": [
    {
     "data": {
      "text/plain": [
       "3"
      ]
     },
     "execution_count": 7,
     "metadata": {},
     "output_type": "execute_result"
    }
   ],
   "source": [
    "# Divisão inteira\n",
    "10 // 3 "
   ]
  },
  {
   "cell_type": "code",
   "execution_count": 8,
   "metadata": {
    "ExecuteTime": {
     "end_time": "2020-11-27T13:31:40.390695Z",
     "start_time": "2020-11-27T13:31:40.384711Z"
    }
   },
   "outputs": [
    {
     "data": {
      "text/plain": [
       "100"
      ]
     },
     "execution_count": 8,
     "metadata": {},
     "output_type": "execute_result"
    }
   ],
   "source": [
    "# Potência inteira\n",
    "10**2"
   ]
  },
  {
   "cell_type": "code",
   "execution_count": 9,
   "metadata": {
    "ExecuteTime": {
     "end_time": "2020-11-27T13:31:40.503392Z",
     "start_time": "2020-11-27T13:31:40.498406Z"
    }
   },
   "outputs": [
    {
     "data": {
      "text/plain": [
       "10.0"
      ]
     },
     "execution_count": 9,
     "metadata": {},
     "output_type": "execute_result"
    }
   ],
   "source": [
    "# Potência racional\n",
    "100**(1/2)"
   ]
  },
  {
   "cell_type": "markdown",
   "metadata": {},
   "source": [
    "## Strings (texto)"
   ]
  },
  {
   "cell_type": "code",
   "execution_count": 10,
   "metadata": {
    "ExecuteTime": {
     "end_time": "2020-11-27T13:31:40.909976Z",
     "start_time": "2020-11-27T13:31:40.903992Z"
    }
   },
   "outputs": [
    {
     "data": {
      "text/plain": [
       "'Texto'"
      ]
     },
     "execution_count": 10,
     "metadata": {},
     "output_type": "execute_result"
    }
   ],
   "source": [
    "# String\n",
    "\"Texto\""
   ]
  },
  {
   "cell_type": "code",
   "execution_count": 11,
   "metadata": {
    "ExecuteTime": {
     "end_time": "2020-11-27T13:31:41.140316Z",
     "start_time": "2020-11-27T13:31:41.133333Z"
    }
   },
   "outputs": [
    {
     "data": {
      "text/plain": [
       "'Avião Teco Teco'"
      ]
     },
     "execution_count": 11,
     "metadata": {},
     "output_type": "execute_result"
    }
   ],
   "source": [
    "# String e soma\n",
    "\"Avião \" + \"Teco \" + \"Teco\""
   ]
  },
  {
   "cell_type": "code",
   "execution_count": 12,
   "metadata": {
    "ExecuteTime": {
     "end_time": "2020-11-27T13:31:41.327372Z",
     "start_time": "2020-11-27T13:31:41.322406Z"
    }
   },
   "outputs": [
    {
     "data": {
      "text/plain": [
       "'Avião TecoTeco'"
      ]
     },
     "execution_count": 12,
     "metadata": {},
     "output_type": "execute_result"
    }
   ],
   "source": [
    "# String e multiplicação\n",
    "\"Avião \" + \"Teco\"*2"
   ]
  },
  {
   "cell_type": "code",
   "execution_count": 13,
   "metadata": {
    "ExecuteTime": {
     "end_time": "2020-11-27T13:31:41.549764Z",
     "start_time": "2020-11-27T13:31:41.544779Z"
    }
   },
   "outputs": [
    {
     "data": {
      "text/plain": [
       "'Tex'"
      ]
     },
     "execution_count": 13,
     "metadata": {},
     "output_type": "execute_result"
    }
   ],
   "source": [
    "\"Texto\"[0:3]"
   ]
  },
  {
   "cell_type": "code",
   "execution_count": 14,
   "metadata": {
    "ExecuteTime": {
     "end_time": "2020-11-27T13:31:41.743249Z",
     "start_time": "2020-11-27T13:31:41.738301Z"
    }
   },
   "outputs": [
    {
     "data": {
      "text/plain": [
       "'Texto'"
      ]
     },
     "execution_count": 14,
     "metadata": {},
     "output_type": "execute_result"
    }
   ],
   "source": [
    "\"Textosss\"[:-3]"
   ]
  },
  {
   "cell_type": "markdown",
   "metadata": {},
   "source": [
    "## Print"
   ]
  },
  {
   "cell_type": "code",
   "execution_count": 15,
   "metadata": {
    "ExecuteTime": {
     "end_time": "2020-11-27T13:31:42.106547Z",
     "start_time": "2020-11-27T13:31:42.101573Z"
    }
   },
   "outputs": [
    {
     "name": "stdout",
     "output_type": "stream",
     "text": [
      "Hello World!\n"
     ]
    }
   ],
   "source": [
    "print('Hello World!')"
   ]
  },
  {
   "cell_type": "code",
   "execution_count": 16,
   "metadata": {
    "ExecuteTime": {
     "end_time": "2020-11-27T13:31:42.324719Z",
     "start_time": "2020-11-27T13:31:42.320728Z"
    }
   },
   "outputs": [
    {
     "name": "stdout",
     "output_type": "stream",
     "text": [
      "Hello World!\n"
     ]
    }
   ],
   "source": [
    "print('Hello', 'World!')"
   ]
  },
  {
   "cell_type": "code",
   "execution_count": 17,
   "metadata": {
    "ExecuteTime": {
     "end_time": "2020-11-27T13:31:42.568067Z",
     "start_time": "2020-11-27T13:31:42.562087Z"
    }
   },
   "outputs": [
    {
     "name": "stdout",
     "output_type": "stream",
     "text": [
      "Hello-World!\n"
     ]
    }
   ],
   "source": [
    "print('Hello', 'World!',sep = '-')"
   ]
  },
  {
   "cell_type": "code",
   "execution_count": 18,
   "metadata": {
    "ExecuteTime": {
     "end_time": "2020-11-27T13:31:42.774515Z",
     "start_time": "2020-11-27T13:31:42.765540Z"
    }
   },
   "outputs": [
    {
     "name": "stdout",
     "output_type": "stream",
     "text": [
      "Hello+World!\n"
     ]
    }
   ],
   "source": [
    "print('Hello', 'World!',sep = '+')"
   ]
  },
  {
   "cell_type": "code",
   "execution_count": 19,
   "metadata": {
    "ExecuteTime": {
     "end_time": "2020-11-27T13:31:42.928105Z",
     "start_time": "2020-11-27T13:31:42.922121Z"
    }
   },
   "outputs": [
    {
     "name": "stdout",
     "output_type": "stream",
     "text": [
      "Hello**World!\n"
     ]
    }
   ],
   "source": [
    "print('Hello', 'World!',sep = '**')"
   ]
  },
  {
   "cell_type": "code",
   "execution_count": 20,
   "metadata": {
    "ExecuteTime": {
     "end_time": "2020-11-27T13:31:43.145524Z",
     "start_time": "2020-11-27T13:31:43.139540Z"
    }
   },
   "outputs": [
    {
     "name": "stdout",
     "output_type": "stream",
     "text": [
      "Hello World!\n",
      "Hello World!\n",
      "Hello World!\n"
     ]
    }
   ],
   "source": [
    "print('Hello World!')\n",
    "print('Hello', 'World!')\n",
    "print('Hello', 'World!', sep = \" \")"
   ]
  },
  {
   "cell_type": "code",
   "execution_count": 21,
   "metadata": {
    "ExecuteTime": {
     "end_time": "2020-11-27T13:31:43.313917Z",
     "start_time": "2020-11-27T13:31:43.309926Z"
    }
   },
   "outputs": [
    {
     "name": "stdout",
     "output_type": "stream",
     "text": [
      "Hello World!\n",
      "novotexto"
     ]
    }
   ],
   "source": [
    "print('Hello', 'World', sep = \" \", end ='!\\nnovotexto')"
   ]
  },
  {
   "cell_type": "code",
   "execution_count": 22,
   "metadata": {
    "ExecuteTime": {
     "end_time": "2020-11-27T13:31:43.554970Z",
     "start_time": "2020-11-27T13:31:43.546991Z"
    }
   },
   "outputs": [
    {
     "data": {
      "text/plain": [
       "0.75"
      ]
     },
     "execution_count": 22,
     "metadata": {},
     "output_type": "execute_result"
    }
   ],
   "source": [
    "# Sem print()\n",
    "1 + 3\n",
    "4 * 12\n",
    "3 / 4"
   ]
  },
  {
   "cell_type": "code",
   "execution_count": 23,
   "metadata": {
    "ExecuteTime": {
     "end_time": "2020-11-27T13:31:43.780409Z",
     "start_time": "2020-11-27T13:31:43.775428Z"
    }
   },
   "outputs": [
    {
     "name": "stdout",
     "output_type": "stream",
     "text": [
      "4\n",
      "48\n",
      "0.75\n"
     ]
    }
   ],
   "source": [
    "# Com print()\n",
    "print(1 + 3)\n",
    "print(4 * 12)\n",
    "print(3 / 4)"
   ]
  },
  {
   "cell_type": "code",
   "execution_count": 24,
   "metadata": {
    "ExecuteTime": {
     "end_time": "2020-11-27T13:31:43.950952Z",
     "start_time": "2020-11-27T13:31:43.945964Z"
    }
   },
   "outputs": [
    {
     "name": "stdout",
     "output_type": "stream",
     "text": [
      "Um vezes dois: 2\n"
     ]
    }
   ],
   "source": [
    "# Print\n",
    "print('Um vezes dois:', 1 * 2)"
   ]
  },
  {
   "cell_type": "code",
   "execution_count": 25,
   "metadata": {
    "ExecuteTime": {
     "end_time": "2020-11-27T13:31:44.186324Z",
     "start_time": "2020-11-27T13:31:44.179342Z"
    }
   },
   "outputs": [
    {
     "name": "stdout",
     "output_type": "stream",
     "text": [
      "Argumento 1 Argumento 2 Argumento 3 Argumento 4\n"
     ]
    }
   ],
   "source": [
    "print('Argumento 1', 'Argumento 2', 'Argumento 3', 'Argumento 4')"
   ]
  },
  {
   "cell_type": "code",
   "execution_count": 26,
   "metadata": {
    "ExecuteTime": {
     "end_time": "2020-11-27T13:31:45.177269Z",
     "start_time": "2020-11-27T13:31:45.172230Z"
    }
   },
   "outputs": [
    {
     "name": "stdout",
     "output_type": "stream",
     "text": [
      "Argumento 1, Argumento 2, Argumento 3, Argumento 4,\n"
     ]
    }
   ],
   "source": [
    "print('Argumento 1,', 'Argumento 2,', 'Argumento 3,', 'Argumento 4,')"
   ]
  },
  {
   "cell_type": "markdown",
   "metadata": {},
   "source": [
    "## Tipos e variáveis\n",
    "\n",
    "Em Python existem diferentes tipos de dados. Podemos ter dados em diversos formatos, por exemplo\n",
    "\n",
    "* Numérico.\n",
    "* Textual.\n",
    "* Lógico.\n",
    "\n",
    "Para isso, em Python existem os tipos de dados, eis alguns exemplos\n",
    "\n",
    "* int Números inteiros (Exemplos: -3, 7, 0, 2020).\n",
    "* float Números reais (Exemplos: -3.2, 1.5, 1e-8, 3.2e5).\n",
    "* str Cadeia de caracteres/Strings (Exemplos: \"Unicamp\" e \"MC102\").\n",
    "* bool Valores booleanos: True (Verdadeiro) e False (Falso)."
   ]
  },
  {
   "cell_type": "code",
   "execution_count": 27,
   "metadata": {
    "ExecuteTime": {
     "end_time": "2020-11-27T13:31:47.662247Z",
     "start_time": "2020-11-27T13:31:47.657261Z"
    }
   },
   "outputs": [
    {
     "name": "stdout",
     "output_type": "stream",
     "text": [
      "<class 'int'>\n"
     ]
    }
   ],
   "source": [
    "print(type(10))"
   ]
  },
  {
   "cell_type": "code",
   "execution_count": 28,
   "metadata": {
    "ExecuteTime": {
     "end_time": "2020-11-27T13:31:47.888675Z",
     "start_time": "2020-11-27T13:31:47.884652Z"
    }
   },
   "outputs": [
    {
     "name": "stdout",
     "output_type": "stream",
     "text": [
      "<class 'float'>\n"
     ]
    }
   ],
   "source": [
    "print(type(3.14))"
   ]
  },
  {
   "cell_type": "code",
   "execution_count": 29,
   "metadata": {
    "ExecuteTime": {
     "end_time": "2020-11-27T13:31:48.141036Z",
     "start_time": "2020-11-27T13:31:48.136029Z"
    }
   },
   "outputs": [
    {
     "name": "stdout",
     "output_type": "stream",
     "text": [
      "<class 'str'>\n"
     ]
    }
   ],
   "source": [
    "print(type('10'))"
   ]
  },
  {
   "cell_type": "code",
   "execution_count": 30,
   "metadata": {
    "ExecuteTime": {
     "end_time": "2020-11-27T13:31:48.380387Z",
     "start_time": "2020-11-27T13:31:48.375401Z"
    }
   },
   "outputs": [
    {
     "name": "stdout",
     "output_type": "stream",
     "text": [
      "<class 'bool'>\n"
     ]
    }
   ],
   "source": [
    "print(type(True))"
   ]
  },
  {
   "cell_type": "code",
   "execution_count": 31,
   "metadata": {
    "ExecuteTime": {
     "end_time": "2020-11-27T13:31:48.596323Z",
     "start_time": "2020-11-27T13:31:48.591345Z"
    }
   },
   "outputs": [
    {
     "name": "stdout",
     "output_type": "stream",
     "text": [
      "<class 'bool'>\n"
     ]
    }
   ],
   "source": [
    "print(type(False))"
   ]
  },
  {
   "cell_type": "code",
   "execution_count": 32,
   "metadata": {
    "ExecuteTime": {
     "end_time": "2020-11-27T13:31:49.030175Z",
     "start_time": "2020-11-27T13:31:49.027184Z"
    }
   },
   "outputs": [
    {
     "name": "stdout",
     "output_type": "stream",
     "text": [
      "3.1416\n"
     ]
    }
   ],
   "source": [
    "pi = 3.1416\n",
    "print(pi)"
   ]
  },
  {
   "cell_type": "code",
   "execution_count": 33,
   "metadata": {
    "ExecuteTime": {
     "end_time": "2020-11-27T13:31:49.269535Z",
     "start_time": "2020-11-27T13:31:49.264551Z"
    }
   },
   "outputs": [
    {
     "name": "stdout",
     "output_type": "stream",
     "text": [
      "3 3 3\n"
     ]
    }
   ],
   "source": [
    "a = b = c = 3\n",
    "print(a, b, c)"
   ]
  },
  {
   "cell_type": "code",
   "execution_count": 34,
   "metadata": {
    "ExecuteTime": {
     "end_time": "2020-11-27T13:31:49.483483Z",
     "start_time": "2020-11-27T13:31:49.478496Z"
    }
   },
   "outputs": [
    {
     "name": "stdout",
     "output_type": "stream",
     "text": [
      "1 1\n"
     ]
    }
   ],
   "source": [
    "a = 2\n",
    "b = 1\n",
    "a = b\n",
    "b = a\n",
    "print(a,b)"
   ]
  },
  {
   "cell_type": "code",
   "execution_count": 35,
   "metadata": {
    "ExecuteTime": {
     "end_time": "2020-11-27T13:31:49.709878Z",
     "start_time": "2020-11-27T13:31:49.704900Z"
    }
   },
   "outputs": [
    {
     "name": "stdout",
     "output_type": "stream",
     "text": [
      "9.25 \n",
      " <class 'float'>\n"
     ]
    }
   ],
   "source": [
    "nota_P1 = 10.0\n",
    "nota_P2 = 8.5\n",
    "nota_final = (nota_P1 + nota_P2)/2\n",
    "print(nota_final, '\\n' , type(nota_final))"
   ]
  },
  {
   "cell_type": "markdown",
   "metadata": {},
   "source": [
    "## Operadores matemáticos\n",
    "\n",
    "Para os operadores matemáticos, é possível utilizar uma forma compacta para atualizar o valor de uma variável.\n",
    "\n",
    "* x += y é equivalente a x = x + y.\n",
    "* x -= y é equivalente a x = x - y.\n",
    "* x *= y é equivalente a x = x * y.\n",
    "* x /= y é equivalente a x = x / y.\n",
    "* x %= y é equivalente a x = x % y\n",
    "\n",
    "Precedência é a ordem na qual os operadores serão avaliados quando o programa for executado. Em Python, os operadores são avaliados na seguinte ordem de precedência:\n",
    "\n",
    "* Exponenciação.\n",
    "* Operadores unários (+ ou −).\n",
    "* Multiplicação e divisão (na ordem em que aparecem).\n",
    "* Módulo.\n",
    "* Adição e subtração (na ordem em que aparecem).\n",
    "* Podemos controlar a ordem com que as expressões são avaliadas com o uso de parênteses.\n",
    "* Procure usar sempre parênteses em expressões para deixar claro em qual ordem as mesmas devem ser avaliadas."
   ]
  },
  {
   "cell_type": "code",
   "execution_count": 36,
   "metadata": {
    "ExecuteTime": {
     "end_time": "2020-11-27T13:31:50.419550Z",
     "start_time": "2020-11-27T13:31:50.413567Z"
    }
   },
   "outputs": [
    {
     "name": "stdout",
     "output_type": "stream",
     "text": [
      "250\n"
     ]
    }
   ],
   "source": [
    "a = 100 \n",
    "a += 150 \n",
    "print(a)"
   ]
  },
  {
   "cell_type": "code",
   "execution_count": 37,
   "metadata": {
    "ExecuteTime": {
     "end_time": "2020-11-27T13:31:50.649447Z",
     "start_time": "2020-11-27T13:31:50.644457Z"
    }
   },
   "outputs": [
    {
     "name": "stdout",
     "output_type": "stream",
     "text": [
      "200\n"
     ]
    }
   ],
   "source": [
    "a -= 50 \n",
    "print(a)"
   ]
  },
  {
   "cell_type": "code",
   "execution_count": 38,
   "metadata": {
    "ExecuteTime": {
     "end_time": "2020-11-27T13:31:50.844617Z",
     "start_time": "2020-11-27T13:31:50.840623Z"
    }
   },
   "outputs": [
    {
     "name": "stdout",
     "output_type": "stream",
     "text": [
      "600\n"
     ]
    }
   ],
   "source": [
    "a *= 3 \n",
    "print(a)"
   ]
  },
  {
   "cell_type": "code",
   "execution_count": 39,
   "metadata": {
    "ExecuteTime": {
     "end_time": "2020-11-27T13:31:51.083502Z",
     "start_time": "2020-11-27T13:31:51.078517Z"
    }
   },
   "outputs": [
    {
     "name": "stdout",
     "output_type": "stream",
     "text": [
      "20.0\n"
     ]
    }
   ],
   "source": [
    "a /= 30 \n",
    "print(a)"
   ]
  },
  {
   "cell_type": "code",
   "execution_count": 40,
   "metadata": {
    "ExecuteTime": {
     "end_time": "2020-11-27T13:31:51.265015Z",
     "start_time": "2020-11-27T13:31:51.259033Z"
    }
   },
   "outputs": [
    {
     "name": "stdout",
     "output_type": "stream",
     "text": [
      "2\n"
     ]
    }
   ],
   "source": [
    "# O operador % é o módulo da operação a%b, ou seja o resto da divisão de a por b\n",
    "a = 11\n",
    "a %= 3 \n",
    "print(a) # pois 11 = 3*3 + 2"
   ]
  },
  {
   "cell_type": "code",
   "execution_count": 41,
   "metadata": {
    "ExecuteTime": {
     "end_time": "2020-11-27T13:31:51.672925Z",
     "start_time": "2020-11-27T13:31:51.667939Z"
    }
   },
   "outputs": [
    {
     "name": "stdout",
     "output_type": "stream",
     "text": [
      "2.0\n"
     ]
    }
   ],
   "source": [
    "print((2 + 2) / 2)"
   ]
  },
  {
   "cell_type": "code",
   "execution_count": 42,
   "metadata": {
    "ExecuteTime": {
     "end_time": "2020-11-27T13:31:51.875962Z",
     "start_time": "2020-11-27T13:31:51.869981Z"
    }
   },
   "outputs": [
    {
     "name": "stdout",
     "output_type": "stream",
     "text": [
      "0\n"
     ]
    }
   ],
   "source": [
    "print(2 ** 2 % 2)"
   ]
  },
  {
   "cell_type": "code",
   "execution_count": 43,
   "metadata": {
    "ExecuteTime": {
     "end_time": "2020-11-27T13:31:52.084954Z",
     "start_time": "2020-11-27T13:31:52.079971Z"
    }
   },
   "outputs": [
    {
     "name": "stdout",
     "output_type": "stream",
     "text": [
      "6.0\n"
     ]
    }
   ],
   "source": [
    "print(2 * 2 + 8 / 2 ** 2)"
   ]
  },
  {
   "cell_type": "code",
   "execution_count": 44,
   "metadata": {
    "ExecuteTime": {
     "end_time": "2020-11-27T13:31:52.316337Z",
     "start_time": "2020-11-27T13:31:52.310352Z"
    }
   },
   "outputs": [
    {
     "name": "stdout",
     "output_type": "stream",
     "text": [
      "99.0\n"
     ]
    }
   ],
   "source": [
    "print(100 - 99 / 3 % 2)"
   ]
  },
  {
   "cell_type": "code",
   "execution_count": 45,
   "metadata": {
    "ExecuteTime": {
     "end_time": "2020-11-27T13:31:52.483423Z",
     "start_time": "2020-11-27T13:31:52.477439Z"
    }
   },
   "outputs": [
    {
     "data": {
      "text/plain": [
       "'ab'"
      ]
     },
     "execution_count": 45,
     "metadata": {},
     "output_type": "execute_result"
    }
   ],
   "source": [
    "'a' + 'b'"
   ]
  },
  {
   "cell_type": "code",
   "execution_count": 46,
   "metadata": {
    "ExecuteTime": {
     "end_time": "2020-11-27T13:31:52.682737Z",
     "start_time": "2020-11-27T13:31:52.678721Z"
    }
   },
   "outputs": [
    {
     "data": {
      "text/plain": [
       "'abb'"
      ]
     },
     "execution_count": 46,
     "metadata": {},
     "output_type": "execute_result"
    }
   ],
   "source": [
    "'a' + 'b'*2"
   ]
  },
  {
   "cell_type": "code",
   "execution_count": 47,
   "metadata": {
    "ExecuteTime": {
     "end_time": "2020-11-27T13:31:52.895143Z",
     "start_time": "2020-11-27T13:31:52.890161Z"
    }
   },
   "outputs": [
    {
     "data": {
      "text/plain": [
       "'aab'"
      ]
     },
     "execution_count": 47,
     "metadata": {},
     "output_type": "execute_result"
    }
   ],
   "source": [
    "'a'*2 + 'b'"
   ]
  },
  {
   "cell_type": "code",
   "execution_count": 48,
   "metadata": {
    "ExecuteTime": {
     "end_time": "2020-11-27T13:31:53.123531Z",
     "start_time": "2020-11-27T13:31:53.115554Z"
    }
   },
   "outputs": [
    {
     "data": {
      "text/plain": [
       "'aabb'"
      ]
     },
     "execution_count": 48,
     "metadata": {},
     "output_type": "execute_result"
    }
   ],
   "source": [
    "'a'*2 + 'b'*2"
   ]
  },
  {
   "cell_type": "code",
   "execution_count": 49,
   "metadata": {
    "ExecuteTime": {
     "end_time": "2020-11-27T13:31:53.330976Z",
     "start_time": "2020-11-27T13:31:53.324995Z"
    }
   },
   "outputs": [
    {
     "data": {
      "text/plain": [
       "'aabaab'"
      ]
     },
     "execution_count": 49,
     "metadata": {},
     "output_type": "execute_result"
    }
   ],
   "source": [
    "('a'*2 + 'b')*2"
   ]
  },
  {
   "cell_type": "code",
   "execution_count": 50,
   "metadata": {
    "ExecuteTime": {
     "end_time": "2020-11-27T13:31:53.551387Z",
     "start_time": "2020-11-27T13:31:53.545409Z"
    }
   },
   "outputs": [
    {
     "data": {
      "text/plain": [
       "'abab'"
      ]
     },
     "execution_count": 50,
     "metadata": {},
     "output_type": "execute_result"
    }
   ],
   "source": [
    "('a' + 'b')*2"
   ]
  },
  {
   "cell_type": "markdown",
   "metadata": {},
   "source": [
    "# Breve introdução à matemática e lógica"
   ]
  },
  {
   "cell_type": "markdown",
   "metadata": {},
   "source": [
    "## Divisão por zero é igual à erro"
   ]
  },
  {
   "cell_type": "code",
   "execution_count": 51,
   "metadata": {
    "ExecuteTime": {
     "end_time": "2020-11-27T13:31:54.540809Z",
     "start_time": "2020-11-27T13:31:54.227618Z"
    }
   },
   "outputs": [
    {
     "ename": "ZeroDivisionError",
     "evalue": "division by zero",
     "output_type": "error",
     "traceback": [
      "\u001b[1;31m---------------------------------------------------------------------------\u001b[0m",
      "\u001b[1;31mZeroDivisionError\u001b[0m                         Traceback (most recent call last)",
      "\u001b[1;32m<ipython-input-51-cd759d3fcf39>\u001b[0m in \u001b[0;36m<module>\u001b[1;34m\u001b[0m\n\u001b[1;32m----> 1\u001b[1;33m \u001b[1;36m10\u001b[0m \u001b[1;33m/\u001b[0m \u001b[1;36m0\u001b[0m\u001b[1;33m\u001b[0m\u001b[1;33m\u001b[0m\u001b[0m\n\u001b[0m",
      "\u001b[1;31mZeroDivisionError\u001b[0m: division by zero"
     ]
    }
   ],
   "source": [
    "10 / 0"
   ]
  },
  {
   "cell_type": "code",
   "execution_count": null,
   "metadata": {
    "ExecuteTime": {
     "end_time": "2020-11-27T13:31:54.543812Z",
     "start_time": "2020-11-27T13:31:54.431Z"
    }
   },
   "outputs": [],
   "source": [
    "10 // 0"
   ]
  },
  {
   "cell_type": "markdown",
   "metadata": {},
   "source": [
    "## Comparações entre números"
   ]
  },
  {
   "cell_type": "code",
   "execution_count": 52,
   "metadata": {
    "ExecuteTime": {
     "end_time": "2020-11-27T13:31:54.840979Z",
     "start_time": "2020-11-27T13:31:54.833999Z"
    }
   },
   "outputs": [
    {
     "data": {
      "text/plain": [
       "True"
      ]
     },
     "execution_count": 52,
     "metadata": {},
     "output_type": "execute_result"
    }
   ],
   "source": [
    "2 > 1"
   ]
  },
  {
   "cell_type": "code",
   "execution_count": 53,
   "metadata": {
    "ExecuteTime": {
     "end_time": "2020-11-27T13:31:55.084348Z",
     "start_time": "2020-11-27T13:31:55.077368Z"
    }
   },
   "outputs": [
    {
     "data": {
      "text/plain": [
       "False"
      ]
     },
     "execution_count": 53,
     "metadata": {},
     "output_type": "execute_result"
    }
   ],
   "source": [
    "1 > 2"
   ]
  },
  {
   "cell_type": "code",
   "execution_count": 54,
   "metadata": {
    "ExecuteTime": {
     "end_time": "2020-11-27T13:31:56.004831Z",
     "start_time": "2020-11-27T13:31:55.997849Z"
    }
   },
   "outputs": [
    {
     "data": {
      "text/plain": [
       "False"
      ]
     },
     "execution_count": 54,
     "metadata": {},
     "output_type": "execute_result"
    }
   ],
   "source": [
    "2 < 1"
   ]
  },
  {
   "cell_type": "code",
   "execution_count": 55,
   "metadata": {
    "ExecuteTime": {
     "end_time": "2020-11-27T13:31:56.194216Z",
     "start_time": "2020-11-27T13:31:56.190262Z"
    }
   },
   "outputs": [
    {
     "data": {
      "text/plain": [
       "True"
      ]
     },
     "execution_count": 55,
     "metadata": {},
     "output_type": "execute_result"
    }
   ],
   "source": [
    "1 < 2"
   ]
  },
  {
   "cell_type": "code",
   "execution_count": 56,
   "metadata": {
    "ExecuteTime": {
     "end_time": "2020-11-27T13:31:56.416024Z",
     "start_time": "2020-11-27T13:31:56.411039Z"
    }
   },
   "outputs": [
    {
     "data": {
      "text/plain": [
       "True"
      ]
     },
     "execution_count": 56,
     "metadata": {},
     "output_type": "execute_result"
    }
   ],
   "source": [
    "2 <= 3"
   ]
  },
  {
   "cell_type": "code",
   "execution_count": 57,
   "metadata": {
    "ExecuteTime": {
     "end_time": "2020-11-27T13:31:56.623505Z",
     "start_time": "2020-11-27T13:31:56.618488Z"
    }
   },
   "outputs": [
    {
     "data": {
      "text/plain": [
       "True"
      ]
     },
     "execution_count": 57,
     "metadata": {},
     "output_type": "execute_result"
    }
   ],
   "source": [
    "2 <= 2"
   ]
  },
  {
   "cell_type": "code",
   "execution_count": 58,
   "metadata": {
    "ExecuteTime": {
     "end_time": "2020-11-27T13:31:56.817950Z",
     "start_time": "2020-11-27T13:31:56.812996Z"
    }
   },
   "outputs": [
    {
     "data": {
      "text/plain": [
       "True"
      ]
     },
     "execution_count": 58,
     "metadata": {},
     "output_type": "execute_result"
    }
   ],
   "source": [
    "2 >= 1"
   ]
  },
  {
   "cell_type": "code",
   "execution_count": 59,
   "metadata": {
    "ExecuteTime": {
     "end_time": "2020-11-27T13:31:57.012430Z",
     "start_time": "2020-11-27T13:31:57.006447Z"
    }
   },
   "outputs": [
    {
     "data": {
      "text/plain": [
       "True"
      ]
     },
     "execution_count": 59,
     "metadata": {},
     "output_type": "execute_result"
    }
   ],
   "source": [
    "2 !=1"
   ]
  },
  {
   "cell_type": "code",
   "execution_count": 60,
   "metadata": {
    "ExecuteTime": {
     "end_time": "2020-11-27T13:31:57.209935Z",
     "start_time": "2020-11-27T13:31:57.205912Z"
    }
   },
   "outputs": [
    {
     "data": {
      "text/plain": [
       "False"
      ]
     },
     "execution_count": 60,
     "metadata": {},
     "output_type": "execute_result"
    }
   ],
   "source": [
    "2 == 1"
   ]
  },
  {
   "cell_type": "markdown",
   "metadata": {},
   "source": [
    "## Operadores lógicos (and)"
   ]
  },
  {
   "cell_type": "code",
   "execution_count": 61,
   "metadata": {
    "ExecuteTime": {
     "end_time": "2020-11-27T13:31:57.612362Z",
     "start_time": "2020-11-27T13:31:57.606377Z"
    }
   },
   "outputs": [
    {
     "data": {
      "text/plain": [
       "True"
      ]
     },
     "execution_count": 61,
     "metadata": {},
     "output_type": "execute_result"
    }
   ],
   "source": [
    "True and True"
   ]
  },
  {
   "cell_type": "code",
   "execution_count": 62,
   "metadata": {
    "ExecuteTime": {
     "end_time": "2020-11-27T13:31:57.811829Z",
     "start_time": "2020-11-27T13:31:57.805881Z"
    }
   },
   "outputs": [
    {
     "data": {
      "text/plain": [
       "True"
      ]
     },
     "execution_count": 62,
     "metadata": {},
     "output_type": "execute_result"
    }
   ],
   "source": [
    "(3 > 2) and (1 < 2)"
   ]
  },
  {
   "cell_type": "code",
   "execution_count": 63,
   "metadata": {
    "ExecuteTime": {
     "end_time": "2020-11-27T13:31:58.026098Z",
     "start_time": "2020-11-27T13:31:58.022126Z"
    }
   },
   "outputs": [
    {
     "data": {
      "text/plain": [
       "False"
      ]
     },
     "execution_count": 63,
     "metadata": {},
     "output_type": "execute_result"
    }
   ],
   "source": [
    "True and False"
   ]
  },
  {
   "cell_type": "code",
   "execution_count": 64,
   "metadata": {
    "ExecuteTime": {
     "end_time": "2020-11-27T13:31:58.176751Z",
     "start_time": "2020-11-27T13:31:58.171731Z"
    }
   },
   "outputs": [
    {
     "data": {
      "text/plain": [
       "False"
      ]
     },
     "execution_count": 64,
     "metadata": {},
     "output_type": "execute_result"
    }
   ],
   "source": [
    "(3 > 2) and (1 > 2)"
   ]
  },
  {
   "cell_type": "code",
   "execution_count": 65,
   "metadata": {
    "ExecuteTime": {
     "end_time": "2020-11-27T13:31:58.577148Z",
     "start_time": "2020-11-27T13:31:58.570169Z"
    }
   },
   "outputs": [
    {
     "data": {
      "text/plain": [
       "False"
      ]
     },
     "execution_count": 65,
     "metadata": {},
     "output_type": "execute_result"
    }
   ],
   "source": [
    "False and True"
   ]
  },
  {
   "cell_type": "code",
   "execution_count": 66,
   "metadata": {
    "ExecuteTime": {
     "end_time": "2020-11-27T13:31:58.787621Z",
     "start_time": "2020-11-27T13:31:58.779610Z"
    }
   },
   "outputs": [
    {
     "data": {
      "text/plain": [
       "False"
      ]
     },
     "execution_count": 66,
     "metadata": {},
     "output_type": "execute_result"
    }
   ],
   "source": [
    "(1 > 2) and (1 < 3)"
   ]
  },
  {
   "cell_type": "code",
   "execution_count": 67,
   "metadata": {
    "ExecuteTime": {
     "end_time": "2020-11-27T13:31:58.988081Z",
     "start_time": "2020-11-27T13:31:58.981069Z"
    }
   },
   "outputs": [
    {
     "data": {
      "text/plain": [
       "False"
      ]
     },
     "execution_count": 67,
     "metadata": {},
     "output_type": "execute_result"
    }
   ],
   "source": [
    "False and False"
   ]
  },
  {
   "cell_type": "code",
   "execution_count": 68,
   "metadata": {
    "ExecuteTime": {
     "end_time": "2020-11-27T13:31:59.185570Z",
     "start_time": "2020-11-27T13:31:59.178588Z"
    }
   },
   "outputs": [
    {
     "data": {
      "text/plain": [
       "False"
      ]
     },
     "execution_count": 68,
     "metadata": {},
     "output_type": "execute_result"
    }
   ],
   "source": [
    "(1 > 2) and (1 > 3)"
   ]
  },
  {
   "cell_type": "markdown",
   "metadata": {},
   "source": [
    "## Operadores lógicos (or)"
   ]
  },
  {
   "cell_type": "code",
   "execution_count": 69,
   "metadata": {
    "ExecuteTime": {
     "end_time": "2020-11-27T13:31:59.585009Z",
     "start_time": "2020-11-27T13:31:59.578030Z"
    }
   },
   "outputs": [
    {
     "data": {
      "text/plain": [
       "True"
      ]
     },
     "execution_count": 69,
     "metadata": {},
     "output_type": "execute_result"
    }
   ],
   "source": [
    "True or True"
   ]
  },
  {
   "cell_type": "code",
   "execution_count": 70,
   "metadata": {
    "ExecuteTime": {
     "end_time": "2020-11-27T13:31:59.834696Z",
     "start_time": "2020-11-27T13:31:59.828679Z"
    }
   },
   "outputs": [
    {
     "name": "stdout",
     "output_type": "stream",
     "text": [
      "True\n"
     ]
    }
   ],
   "source": [
    "a = 1\n",
    "b = 2\n",
    "print((a < b) or (b > a))"
   ]
  },
  {
   "cell_type": "code",
   "execution_count": 71,
   "metadata": {
    "ExecuteTime": {
     "end_time": "2020-11-27T13:32:00.042107Z",
     "start_time": "2020-11-27T13:32:00.035126Z"
    }
   },
   "outputs": [
    {
     "data": {
      "text/plain": [
       "True"
      ]
     },
     "execution_count": 71,
     "metadata": {},
     "output_type": "execute_result"
    }
   ],
   "source": [
    "True or False"
   ]
  },
  {
   "cell_type": "code",
   "execution_count": 72,
   "metadata": {
    "ExecuteTime": {
     "end_time": "2020-11-27T13:32:00.264030Z",
     "start_time": "2020-11-27T13:32:00.257052Z"
    }
   },
   "outputs": [
    {
     "name": "stdout",
     "output_type": "stream",
     "text": [
      "True\n"
     ]
    }
   ],
   "source": [
    "a = 1\n",
    "b = 2\n",
    "print((a > 0) or (b < a))"
   ]
  },
  {
   "cell_type": "code",
   "execution_count": 73,
   "metadata": {
    "ExecuteTime": {
     "end_time": "2020-11-27T13:32:00.403729Z",
     "start_time": "2020-11-27T13:32:00.398744Z"
    }
   },
   "outputs": [
    {
     "data": {
      "text/plain": [
       "True"
      ]
     },
     "execution_count": 73,
     "metadata": {},
     "output_type": "execute_result"
    }
   ],
   "source": [
    "False or True"
   ]
  },
  {
   "cell_type": "code",
   "execution_count": 74,
   "metadata": {
    "ExecuteTime": {
     "end_time": "2020-11-27T13:32:00.656054Z",
     "start_time": "2020-11-27T13:32:00.650070Z"
    }
   },
   "outputs": [
    {
     "name": "stdout",
     "output_type": "stream",
     "text": [
      "True\n"
     ]
    }
   ],
   "source": [
    "a = 1\n",
    "b = 2\n",
    "print((a > b) or (b > a))"
   ]
  },
  {
   "cell_type": "code",
   "execution_count": 75,
   "metadata": {
    "ExecuteTime": {
     "end_time": "2020-11-27T13:32:00.839563Z",
     "start_time": "2020-11-27T13:32:00.834577Z"
    }
   },
   "outputs": [
    {
     "data": {
      "text/plain": [
       "False"
      ]
     },
     "execution_count": 75,
     "metadata": {},
     "output_type": "execute_result"
    }
   ],
   "source": [
    "False or False"
   ]
  },
  {
   "cell_type": "code",
   "execution_count": 76,
   "metadata": {
    "ExecuteTime": {
     "end_time": "2020-11-27T13:32:01.054987Z",
     "start_time": "2020-11-27T13:32:01.050001Z"
    }
   },
   "outputs": [
    {
     "name": "stdout",
     "output_type": "stream",
     "text": [
      "False\n"
     ]
    }
   ],
   "source": [
    "a = 1\n",
    "b = 2\n",
    "print((a > b) or (b == a))"
   ]
  },
  {
   "cell_type": "markdown",
   "metadata": {},
   "source": [
    "## Input"
   ]
  },
  {
   "cell_type": "code",
   "execution_count": 77,
   "metadata": {
    "ExecuteTime": {
     "end_time": "2020-11-27T13:32:52.520481Z",
     "start_time": "2020-11-27T13:32:01.467523Z"
    }
   },
   "outputs": [
    {
     "name": "stdout",
     "output_type": "stream",
     "text": [
      "digite um número:24\n",
      "digite outro número:33\n",
      "A soma dos números é: 57.0\n"
     ]
    }
   ],
   "source": [
    "a = float(input('digite um número:'))\n",
    "b = float(input('digite outro número:'))\n",
    "print('A soma dos números é:', (a + b))"
   ]
  },
  {
   "cell_type": "markdown",
   "metadata": {},
   "source": [
    "## Operações matemáticas"
   ]
  },
  {
   "cell_type": "code",
   "execution_count": 78,
   "metadata": {
    "ExecuteTime": {
     "end_time": "2020-11-27T13:32:52.597275Z",
     "start_time": "2020-11-27T13:32:52.591333Z"
    }
   },
   "outputs": [
    {
     "name": "stdout",
     "output_type": "stream",
     "text": [
      "5\n",
      "25\n"
     ]
    }
   ],
   "source": [
    "x = min(5, 10, 25)\n",
    "y = max(5, 10, 25)\n",
    "\n",
    "print(x)\n",
    "print(y)"
   ]
  },
  {
   "cell_type": "code",
   "execution_count": 79,
   "metadata": {
    "ExecuteTime": {
     "end_time": "2020-11-27T13:32:52.656147Z",
     "start_time": "2020-11-27T13:32:52.652129Z"
    }
   },
   "outputs": [
    {
     "name": "stdout",
     "output_type": "stream",
     "text": [
      "7.25\n"
     ]
    }
   ],
   "source": [
    "x = abs(-7.25)\n",
    "\n",
    "print(x)"
   ]
  },
  {
   "cell_type": "code",
   "execution_count": 80,
   "metadata": {
    "ExecuteTime": {
     "end_time": "2020-11-27T13:32:52.699005Z",
     "start_time": "2020-11-27T13:32:52.695012Z"
    }
   },
   "outputs": [
    {
     "name": "stdout",
     "output_type": "stream",
     "text": [
      "64\n"
     ]
    }
   ],
   "source": [
    "x = pow(4, 3)\n",
    "\n",
    "print(x)"
   ]
  },
  {
   "cell_type": "markdown",
   "metadata": {},
   "source": [
    "## Operador lógico not"
   ]
  },
  {
   "cell_type": "code",
   "execution_count": 81,
   "metadata": {
    "ExecuteTime": {
     "end_time": "2020-11-27T13:32:52.743882Z",
     "start_time": "2020-11-27T13:32:52.738896Z"
    }
   },
   "outputs": [
    {
     "data": {
      "text/plain": [
       "False"
      ]
     },
     "execution_count": 81,
     "metadata": {},
     "output_type": "execute_result"
    }
   ],
   "source": [
    "not(True)"
   ]
  },
  {
   "cell_type": "code",
   "execution_count": 82,
   "metadata": {
    "ExecuteTime": {
     "end_time": "2020-11-27T13:32:52.797740Z",
     "start_time": "2020-11-27T13:32:52.793751Z"
    }
   },
   "outputs": [
    {
     "name": "stdout",
     "output_type": "stream",
     "text": [
      "False\n"
     ]
    }
   ],
   "source": [
    "a = 1\n",
    "b = 2\n",
    "print(not(a < b))"
   ]
  },
  {
   "cell_type": "code",
   "execution_count": 83,
   "metadata": {
    "ExecuteTime": {
     "end_time": "2020-11-27T13:32:52.858575Z",
     "start_time": "2020-11-27T13:32:52.852591Z"
    }
   },
   "outputs": [
    {
     "data": {
      "text/plain": [
       "True"
      ]
     },
     "execution_count": 83,
     "metadata": {},
     "output_type": "execute_result"
    }
   ],
   "source": [
    "not(False)"
   ]
  },
  {
   "cell_type": "code",
   "execution_count": 84,
   "metadata": {
    "ExecuteTime": {
     "end_time": "2020-11-27T13:32:52.968283Z",
     "start_time": "2020-11-27T13:32:52.964293Z"
    }
   },
   "outputs": [
    {
     "name": "stdout",
     "output_type": "stream",
     "text": [
      "True\n"
     ]
    }
   ],
   "source": [
    "print(not(a == b))"
   ]
  },
  {
   "cell_type": "code",
   "execution_count": 85,
   "metadata": {
    "ExecuteTime": {
     "end_time": "2020-11-27T13:32:53.050064Z",
     "start_time": "2020-11-27T13:32:53.045078Z"
    }
   },
   "outputs": [
    {
     "data": {
      "text/plain": [
       "True"
      ]
     },
     "execution_count": 85,
     "metadata": {},
     "output_type": "execute_result"
    }
   ],
   "source": [
    "not(a == b) == (a != b)"
   ]
  },
  {
   "cell_type": "code",
   "execution_count": 86,
   "metadata": {
    "ExecuteTime": {
     "end_time": "2020-11-27T13:32:53.101926Z",
     "start_time": "2020-11-27T13:32:53.096940Z"
    }
   },
   "outputs": [
    {
     "data": {
      "text/plain": [
       "True"
      ]
     },
     "execution_count": 86,
     "metadata": {},
     "output_type": "execute_result"
    }
   ],
   "source": [
    "not(a > b) == (a <= b)"
   ]
  },
  {
   "cell_type": "code",
   "execution_count": 87,
   "metadata": {
    "ExecuteTime": {
     "end_time": "2020-11-27T13:32:53.150795Z",
     "start_time": "2020-11-27T13:32:53.145808Z"
    }
   },
   "outputs": [
    {
     "data": {
      "text/plain": [
       "True"
      ]
     },
     "execution_count": 87,
     "metadata": {},
     "output_type": "execute_result"
    }
   ],
   "source": [
    "not(a < b) == (a >= b)"
   ]
  },
  {
   "cell_type": "code",
   "execution_count": 88,
   "metadata": {
    "ExecuteTime": {
     "end_time": "2020-11-27T13:32:53.204651Z",
     "start_time": "2020-11-27T13:32:53.197671Z"
    }
   },
   "outputs": [
    {
     "name": "stdout",
     "output_type": "stream",
     "text": [
      "False\n",
      "True\n",
      "False\n",
      "True\n"
     ]
    }
   ],
   "source": [
    "a = True\n",
    "b = False\n",
    "\n",
    "print(not(a or b))\n",
    "print(not(a and b))\n",
    "print(not(a) and not(b))\n",
    "print(not(a) or not(b))"
   ]
  },
  {
   "cell_type": "markdown",
   "metadata": {},
   "source": [
    "## Operadores identidade (is e is not)"
   ]
  },
  {
   "cell_type": "code",
   "execution_count": 89,
   "metadata": {
    "ExecuteTime": {
     "end_time": "2020-11-27T13:32:53.252522Z",
     "start_time": "2020-11-27T13:32:53.247538Z"
    }
   },
   "outputs": [
    {
     "name": "stdout",
     "output_type": "stream",
     "text": [
      "False\n"
     ]
    }
   ],
   "source": [
    "x1 = 5\n",
    "y1 = 5\n",
    "print(x1 is not y1)"
   ]
  },
  {
   "cell_type": "code",
   "execution_count": 90,
   "metadata": {
    "ExecuteTime": {
     "end_time": "2020-11-27T13:32:53.300395Z",
     "start_time": "2020-11-27T13:32:53.295408Z"
    }
   },
   "outputs": [
    {
     "name": "stdout",
     "output_type": "stream",
     "text": [
      "True\n"
     ]
    }
   ],
   "source": [
    "x2 = 'Hello'\n",
    "y2 = 'Hello'\n",
    "print(x2 is y2)"
   ]
  },
  {
   "cell_type": "code",
   "execution_count": 91,
   "metadata": {
    "ExecuteTime": {
     "end_time": "2020-11-27T13:32:53.348270Z",
     "start_time": "2020-11-27T13:32:53.343281Z"
    }
   },
   "outputs": [
    {
     "name": "stdout",
     "output_type": "stream",
     "text": [
      "False\n"
     ]
    }
   ],
   "source": [
    "# Esta comparação retorna False, pois x3 e y3 são listas, ao contrário dos exemplos anteriores que são strings e números.\n",
    "# Iremos comentar sobre listas mais a frente, mas já fica o spoiler.\n",
    "x3 = [1,2,3]\n",
    "y3 = [1,2,3]\n",
    "print(x3 is y3)"
   ]
  },
  {
   "cell_type": "code",
   "execution_count": 92,
   "metadata": {
    "ExecuteTime": {
     "end_time": "2020-11-27T13:32:53.403121Z",
     "start_time": "2020-11-27T13:32:53.399132Z"
    }
   },
   "outputs": [
    {
     "name": "stdout",
     "output_type": "stream",
     "text": [
      "True\n",
      "False\n",
      "True\n",
      "True\n"
     ]
    }
   ],
   "source": [
    "x = 'Hello World!'\n",
    "\n",
    "print('W' in x)\n",
    "print('w' in x)\n",
    "print('!' in x)\n",
    "print('' in x)"
   ]
  },
  {
   "cell_type": "code",
   "execution_count": 93,
   "metadata": {
    "ExecuteTime": {
     "end_time": "2020-11-27T13:32:53.456978Z",
     "start_time": "2020-11-27T13:32:53.451992Z"
    }
   },
   "outputs": [
    {
     "name": "stdout",
     "output_type": "stream",
     "text": [
      "True\n",
      "True\n"
     ]
    }
   ],
   "source": [
    "print('hello' not in x)\n",
    "print('Hello' in x)"
   ]
  },
  {
   "cell_type": "code",
   "execution_count": 94,
   "metadata": {
    "ExecuteTime": {
     "end_time": "2020-11-27T13:32:53.509126Z",
     "start_time": "2020-11-27T13:32:53.504137Z"
    }
   },
   "outputs": [
    {
     "name": "stdout",
     "output_type": "stream",
     "text": [
      "{1: 'a', 2: 'b', 3: 'c', 4: 'd', 5: 'e', 6: 'f', 7: 'g', 8: 'h', 9: 'i', 10: 'j', 11: 'l', 12: 'm', 13: 'n', 14: 'o', 15: 'p', 16: 'q', 17: 'r', 18: 's', 19: 't', 20: 'u', 21: 'v', 22: 'x', 23: 'z'}\n"
     ]
    }
   ],
   "source": [
    "# Aqui criamos uma estrutura que vamos discutir mais a frente, um dicionário de dados.\n",
    "# Neste exemplo construimos um dicionário que contém as letras do alfabeto, organizados\n",
    "# de acordo com sua posição numérica. Neste caso os elementos do dicionário são os\n",
    "# números {1,2,...,23} enquanto que {a,b,c,...,z} são os nomes dos elementos.\n",
    "\n",
    "y = { 1:'a', 2:'b', 3:'c', 4:'d', 5:'e', 6:'f', 7:'g', 8:'h', 9:'i', 10:'j',\n",
    "     11:'l', 12:'m', 13:'n', 14:'o', 15:'p', 16:'q', 17:'r', 18:'s', 19:'t',\n",
    "     20:'u', 21:'v', 22:'x', 23:'z'\n",
    "    }\n",
    "\n",
    "# Aqui imprimimos o dicionário inteiro com seus elementos e os respectivos nomes.\n",
    "print(y)"
   ]
  },
  {
   "cell_type": "code",
   "execution_count": 95,
   "metadata": {
    "ExecuteTime": {
     "end_time": "2020-11-27T13:32:53.568968Z",
     "start_time": "2020-11-27T13:32:53.564976Z"
    }
   },
   "outputs": [
    {
     "name": "stdout",
     "output_type": "stream",
     "text": [
      "a m z\n"
     ]
    }
   ],
   "source": [
    "# Colocando os valores numéricos entre [] pedimos os nomes do elemento que\n",
    "# ocupa aquela posição no dicionário.\n",
    "\n",
    "print(y[1], y[12] ,y[23])"
   ]
  },
  {
   "cell_type": "code",
   "execution_count": 96,
   "metadata": {
    "ExecuteTime": {
     "end_time": "2020-11-27T13:32:53.621848Z",
     "start_time": "2020-11-27T13:32:53.616836Z"
    }
   },
   "outputs": [
    {
     "name": "stdout",
     "output_type": "stream",
     "text": [
      "False\n",
      "False\n",
      "True\n"
     ]
    }
   ],
   "source": [
    "print('w' in y)\n",
    "\n",
    "# Perceba que 'a' não está no dicionário, por isso o valore retornado é False, pois\n",
    "# 'a' é o nome do elemento y[1].\n",
    "print('a' in y)\n",
    "\n",
    "# O elemento 1 se encontra no dicionário, por isso o valor retornado é True.\n",
    "print(1 in y)"
   ]
  },
  {
   "cell_type": "markdown",
   "metadata": {},
   "source": [
    "# Tipos de variáveis\n",
    "\n",
    "## Coleções literais"
   ]
  },
  {
   "cell_type": "code",
   "execution_count": 97,
   "metadata": {
    "ExecuteTime": {
     "end_time": "2020-11-27T13:32:53.680176Z",
     "start_time": "2020-11-27T13:32:53.673195Z"
    }
   },
   "outputs": [
    {
     "name": "stdout",
     "output_type": "stream",
     "text": [
      "['abacate', 'banana', 'caqui', 'damasco', 'embaúba', 'figo']\n",
      "(1, 2, 3, 4, 5, 6, 7)\n",
      "{'a': 'abacaxi', 'b': 'bola', 'c': 'cachorro', 'd': 'dado'}\n",
      "{'u', 'e', 'a', 'o', 'i'}\n"
     ]
    }
   ],
   "source": [
    "# Exemplo de lista\n",
    "frutas = ['abacate','banana','caqui','damasco', 'embaúba','figo'] \n",
    "print(frutas)\n",
    "\n",
    "# Exemplo de tupla\n",
    "numeros = (1, 2, 3, 4, 5, 6, 7)\n",
    "print(numeros)\n",
    "\n",
    "# Exemplo de dicionário\n",
    "alfabeto = {'a':'abacaxi', 'b':'bola', 'c':'cachorro', 'd':'dado'} \n",
    "print(alfabeto)\n",
    "\n",
    "# Exemplo de conjunto (set)\n",
    "vogais = {'a', 'e', 'i' , 'o', 'u'} \n",
    "print(vogais)"
   ]
  },
  {
   "cell_type": "markdown",
   "metadata": {},
   "source": [
    "## Listas\n",
    "\n",
    "A lista é uma sequência ordenada de itens. É um dos tipos de dados mais usados em Python e é muito flexível. Todos os itens de uma lista não precisam ser do mesmo tipo. Declarar uma lista é bastante simples. Os itens separados por vírgulas são colocados entre colchetes [ ]."
   ]
  },
  {
   "cell_type": "code",
   "execution_count": 98,
   "metadata": {
    "ExecuteTime": {
     "end_time": "2020-11-27T13:32:53.741016Z",
     "start_time": "2020-11-27T13:32:53.730044Z"
    }
   },
   "outputs": [
    {
     "name": "stdout",
     "output_type": "stream",
     "text": [
      "Este é o elemento [2] original da lista: 2\n",
      "Este é o novo elemento [2] da lista: 4\n",
      "Este é o novo elemento [2] da lista, uma string: Python\n"
     ]
    },
    {
     "data": {
      "text/plain": [
       "[1, 1, 'Python', 3, 5, 8, 13, 21]"
      ]
     },
     "execution_count": 98,
     "metadata": {},
     "output_type": "execute_result"
    }
   ],
   "source": [
    "# Definindo uma lista\n",
    "lista = [1, 1, 2, 3, 5, 8, 13, 21]\n",
    "\n",
    "# Acessando um elemento específico de uma lista\n",
    "print('Este é o elemento [2] original da lista:', lista[2])\n",
    "\n",
    "# Os elementos de uma lista são mutáveis\n",
    "lista[2] = 4\n",
    "print('Este é o novo elemento [2] da lista:', lista[2])\n",
    "\n",
    "# Os elementos de uma lista podem ser de diferentes tipos\n",
    "lista[2] = 'Python'\n",
    "print('Este é o novo elemento [2] da lista, uma string:', lista[2])\n",
    "\n",
    "lista"
   ]
  },
  {
   "cell_type": "markdown",
   "metadata": {},
   "source": [
    "## Tupla\n",
    "\n",
    "Tupla é uma sequência ordenada de itens iguais a uma lista. A única diferença é que as tuplas são imutáveis. Depois de criadas as tuplas não podem ser modificadas. Tuplas são usadas para proteger os dados contra gravação e geralmente são mais rápidas do que listas, pois não podem ser alteradas dinamicamente. É definido entre parênteses ( ), onde os itens são separados por vírgulas."
   ]
  },
  {
   "cell_type": "code",
   "execution_count": 99,
   "metadata": {
    "ExecuteTime": {
     "end_time": "2020-11-27T13:32:53.797889Z",
     "start_time": "2020-11-27T13:32:53.790903Z"
    }
   },
   "outputs": [
    {
     "name": "stdout",
     "output_type": "stream",
     "text": [
      "média entre 3,5,8,13: 7.25\n",
      "tupla[0] = 5\n",
      "tupla[1] = Python\n",
      "tupla[0:4] = (5, 'Python', (1+3j), (3, 5, 8, 13))\n"
     ]
    }
   ],
   "source": [
    "# Esta é uma tupla\n",
    "a = (3,5,8,13)\n",
    "print('média entre 3,5,8,13:', np.mean(a))\n",
    "\n",
    "# Vamos definir outra tupla que contém uma tupla\n",
    "tupla = (5,'Python', 1+3j, a)\n",
    "\n",
    "# tupla[0] = 5\n",
    "print('tupla[0] =', tupla[0])\n",
    "\n",
    "# tupla[1] = 'Python'\n",
    "print('tupla[1] =', tupla[1])\n",
    "\n",
    "# tupla[0:4] = (5, 'Python', 1+3j, (3, 5, 8, 13))\n",
    "print('tupla[0:4] =', tupla[0:4])"
   ]
  },
  {
   "cell_type": "code",
   "execution_count": 100,
   "metadata": {
    "ExecuteTime": {
     "end_time": "2020-11-27T13:32:53.855744Z",
     "start_time": "2020-11-27T13:32:53.846732Z"
    }
   },
   "outputs": [
    {
     "ename": "TypeError",
     "evalue": "'tuple' object does not support item assignment",
     "output_type": "error",
     "traceback": [
      "\u001b[1;31m---------------------------------------------------------------------------\u001b[0m",
      "\u001b[1;31mTypeError\u001b[0m                                 Traceback (most recent call last)",
      "\u001b[1;32m<ipython-input-100-9482382a2716>\u001b[0m in \u001b[0;36m<module>\u001b[1;34m\u001b[0m\n\u001b[0;32m      1\u001b[0m \u001b[1;31m# Tuplas são imutáveis, o código abaixo irá gerar um erro\u001b[0m\u001b[1;33m\u001b[0m\u001b[1;33m\u001b[0m\u001b[1;33m\u001b[0m\u001b[0m\n\u001b[1;32m----> 2\u001b[1;33m \u001b[0mtupla\u001b[0m\u001b[1;33m[\u001b[0m\u001b[1;36m0\u001b[0m\u001b[1;33m]\u001b[0m \u001b[1;33m=\u001b[0m \u001b[1;36m1\u001b[0m\u001b[1;33m\u001b[0m\u001b[1;33m\u001b[0m\u001b[0m\n\u001b[0m",
      "\u001b[1;31mTypeError\u001b[0m: 'tuple' object does not support item assignment"
     ]
    }
   ],
   "source": [
    "# Tuplas são imutáveis, o código abaixo irá gerar um erro\n",
    "tupla[0] = 1"
   ]
  },
  {
   "cell_type": "markdown",
   "metadata": {},
   "source": [
    "## Strings\n",
    "\n",
    "String é uma sequência de caracteres Unicode. Podemos usar aspas simples ou duplas para representar strings. As strings de várias linhas podem ser denotadas com aspas triplas '' 'ou \"\" \"."
   ]
  },
  {
   "cell_type": "code",
   "execution_count": 101,
   "metadata": {
    "ExecuteTime": {
     "end_time": "2020-11-27T13:33:17.335960Z",
     "start_time": "2020-11-27T13:33:17.331973Z"
    }
   },
   "outputs": [
    {
     "name": "stdout",
     "output_type": "stream",
     "text": [
      "s[4] =  o\n",
      "s[6:11] =  world\n"
     ]
    }
   ],
   "source": [
    "s = 'Hello world!'\n",
    "\n",
    "# s[4] = 'o'\n",
    "print(\"s[4] = \", s[4])\n",
    "\n",
    "# s[6:11] = 'world'\n",
    "print(\"s[6:11] = \", s[6:11])"
   ]
  },
  {
   "cell_type": "code",
   "execution_count": 102,
   "metadata": {
    "ExecuteTime": {
     "end_time": "2020-11-27T13:33:17.818012Z",
     "start_time": "2020-11-27T13:33:17.810001Z"
    }
   },
   "outputs": [
    {
     "ename": "TypeError",
     "evalue": "'str' object does not support item assignment",
     "output_type": "error",
     "traceback": [
      "\u001b[1;31m---------------------------------------------------------------------------\u001b[0m",
      "\u001b[1;31mTypeError\u001b[0m                                 Traceback (most recent call last)",
      "\u001b[1;32m<ipython-input-102-847caacc9895>\u001b[0m in \u001b[0;36m<module>\u001b[1;34m\u001b[0m\n\u001b[0;32m      1\u001b[0m \u001b[1;31m# Strings também são imutáveis em Python, não conseguimos passar outro valor\u001b[0m\u001b[1;33m\u001b[0m\u001b[1;33m\u001b[0m\u001b[1;33m\u001b[0m\u001b[0m\n\u001b[0;32m      2\u001b[0m \u001b[1;31m# em uma string, logo o código abaixo irá gerar um erro, analogamente à tupla.\u001b[0m\u001b[1;33m\u001b[0m\u001b[1;33m\u001b[0m\u001b[1;33m\u001b[0m\u001b[0m\n\u001b[1;32m----> 3\u001b[1;33m \u001b[0ms\u001b[0m\u001b[1;33m[\u001b[0m\u001b[1;36m5\u001b[0m\u001b[1;33m]\u001b[0m \u001b[1;33m=\u001b[0m\u001b[1;34m'd'\u001b[0m\u001b[1;33m\u001b[0m\u001b[1;33m\u001b[0m\u001b[0m\n\u001b[0m",
      "\u001b[1;31mTypeError\u001b[0m: 'str' object does not support item assignment"
     ]
    }
   ],
   "source": [
    "# Strings também são imutáveis em Python, não conseguimos passar outro valor\n",
    "# em uma string, logo o código abaixo irá gerar um erro, analogamente à tupla.\n",
    "s[5] ='d'"
   ]
  },
  {
   "cell_type": "markdown",
   "metadata": {},
   "source": [
    "## Set (conjunto)\n",
    "\n",
    "Set é uma coleção não ordenada de itens exclusivos. O conjunto é definido por valores separados por vírgula entre chaves { }. Os itens em um conjunto não são ordenados."
   ]
  },
  {
   "cell_type": "code",
   "execution_count": 103,
   "metadata": {
    "ExecuteTime": {
     "end_time": "2020-11-27T13:33:19.220812Z",
     "start_time": "2020-11-27T13:33:19.213846Z"
    }
   },
   "outputs": [
    {
     "name": "stdout",
     "output_type": "stream",
     "text": [
      "a =  {1, 2, 3, 4, 5}\n",
      "<class 'set'>\n"
     ]
    }
   ],
   "source": [
    "a = {5,2,3,1,4}\n",
    "\n",
    "print(\"a = \", a)\n",
    "\n",
    "print(type(a))"
   ]
  },
  {
   "cell_type": "code",
   "execution_count": 104,
   "metadata": {
    "ExecuteTime": {
     "end_time": "2020-11-27T13:33:19.767934Z",
     "start_time": "2020-11-27T13:33:19.759957Z"
    }
   },
   "outputs": [
    {
     "ename": "TypeError",
     "evalue": "'set' object is not subscriptable",
     "output_type": "error",
     "traceback": [
      "\u001b[1;31m---------------------------------------------------------------------------\u001b[0m",
      "\u001b[1;31mTypeError\u001b[0m                                 Traceback (most recent call last)",
      "\u001b[1;32m<ipython-input-104-c67442756933>\u001b[0m in \u001b[0;36m<module>\u001b[1;34m\u001b[0m\n\u001b[0;32m      1\u001b[0m \u001b[1;31m# O objeto set do Python não possui ordem nem indexação, logo chamar um elemento de\u001b[0m\u001b[1;33m\u001b[0m\u001b[1;33m\u001b[0m\u001b[1;33m\u001b[0m\u001b[0m\n\u001b[0;32m      2\u001b[0m \u001b[1;31m# um conjunto através de índices em um conjunto irá gerar um erro de comando.\u001b[0m\u001b[1;33m\u001b[0m\u001b[1;33m\u001b[0m\u001b[1;33m\u001b[0m\u001b[0m\n\u001b[1;32m----> 3\u001b[1;33m \u001b[0ma\u001b[0m\u001b[1;33m[\u001b[0m\u001b[1;36m1\u001b[0m\u001b[1;33m]\u001b[0m\u001b[1;33m\u001b[0m\u001b[1;33m\u001b[0m\u001b[0m\n\u001b[0m",
      "\u001b[1;31mTypeError\u001b[0m: 'set' object is not subscriptable"
     ]
    }
   ],
   "source": [
    "# O objeto set do Python não possui ordem nem indexação, logo chamar um elemento de \n",
    "# um conjunto através de índices em um conjunto irá gerar um erro de comando.\n",
    "a[1]"
   ]
  },
  {
   "cell_type": "markdown",
   "metadata": {},
   "source": [
    "## Dicionário Python\n",
    "\n",
    "Dicionário é uma coleção não ordenada de pares chave-valor. Geralmente é usado quando temos uma grande quantidade de dados. Os dicionários são otimizados para recuperar dados. Devemos saber a chave para recuperar o valor. Em Python, os dicionários são definidos entre colchetes { } com cada item sendo um par na forma chave: valor. A chave e o valor podem ser de qualquer tipo."
   ]
  },
  {
   "cell_type": "code",
   "execution_count": 105,
   "metadata": {
    "ExecuteTime": {
     "end_time": "2020-11-27T13:33:20.765963Z",
     "start_time": "2020-11-27T13:33:20.760979Z"
    }
   },
   "outputs": [
    {
     "name": "stdout",
     "output_type": "stream",
     "text": [
      "<class 'dict'>\n",
      "d[1] =  valor\n",
      "d['chave'] =  2\n"
     ]
    }
   ],
   "source": [
    "d = {1:'valor','chave':2}\n",
    "print(type(d))\n",
    "\n",
    "print(\"d[1] = \", d[1])\n",
    "\n",
    "print(\"d['chave'] = \", d['chave'])"
   ]
  },
  {
   "cell_type": "code",
   "execution_count": 106,
   "metadata": {
    "ExecuteTime": {
     "end_time": "2020-11-27T13:33:21.453118Z",
     "start_time": "2020-11-27T13:33:21.439113Z"
    }
   },
   "outputs": [
    {
     "ename": "KeyError",
     "evalue": "2",
     "output_type": "error",
     "traceback": [
      "\u001b[1;31m---------------------------------------------------------------------------\u001b[0m",
      "\u001b[1;31mKeyError\u001b[0m                                  Traceback (most recent call last)",
      "\u001b[1;32m<ipython-input-106-de635ad1e830>\u001b[0m in \u001b[0;36m<module>\u001b[1;34m\u001b[0m\n\u001b[0;32m      1\u001b[0m \u001b[1;31m# O código abaixo gera um erro, pois 2 é o nome do elemento 'chave' do dicionário d.\u001b[0m\u001b[1;33m\u001b[0m\u001b[1;33m\u001b[0m\u001b[1;33m\u001b[0m\u001b[0m\n\u001b[1;32m----> 2\u001b[1;33m \u001b[0mprint\u001b[0m\u001b[1;33m(\u001b[0m\u001b[1;34m\"d[2] = \"\u001b[0m\u001b[1;33m,\u001b[0m \u001b[0md\u001b[0m\u001b[1;33m[\u001b[0m\u001b[1;36m2\u001b[0m\u001b[1;33m]\u001b[0m\u001b[1;33m)\u001b[0m\u001b[1;33m\u001b[0m\u001b[1;33m\u001b[0m\u001b[0m\n\u001b[0m",
      "\u001b[1;31mKeyError\u001b[0m: 2"
     ]
    }
   ],
   "source": [
    "# O código abaixo gera um erro, pois 2 é o nome do elemento 'chave' do dicionário d.\n",
    "print(\"d[2] = \", d[2])"
   ]
  },
  {
   "cell_type": "code",
   "execution_count": 107,
   "metadata": {
    "ExecuteTime": {
     "end_time": "2020-11-27T13:33:22.331955Z",
     "start_time": "2020-11-27T13:33:22.326973Z"
    }
   },
   "outputs": [
    {
     "data": {
      "text/plain": [
       "5"
      ]
     },
     "execution_count": 107,
     "metadata": {},
     "output_type": "execute_result"
    }
   ],
   "source": [
    "# É possível passar novos valores em um dicionário Python.\n",
    "d['chave'] =  5\n",
    "\n",
    "d['chave']"
   ]
  },
  {
   "cell_type": "markdown",
   "metadata": {},
   "source": [
    "## Trocando de variáveis"
   ]
  },
  {
   "cell_type": "code",
   "execution_count": 108,
   "metadata": {
    "ExecuteTime": {
     "end_time": "2020-11-27T13:33:23.466635Z",
     "start_time": "2020-11-27T13:33:23.454634Z"
    }
   },
   "outputs": [
    {
     "name": "stdout",
     "output_type": "stream",
     "text": [
      "lista: ['abacate', 'banana', 'caqui', 'damasco', 'embaúba', 'figo']\n",
      "tupla: (1, 2, 3, 4, 5, 6, 7)\n",
      "dicionario: {'a': 'abacaxi', 'b': 'bola', 'c': 'cachorro', 'd': 'dado'}\n",
      "conjunto: {'u', 'e', 'a', 'o', 'i'}\n",
      "string: Hello World!\n"
     ]
    }
   ],
   "source": [
    "# Exemplo de lista\n",
    "lista = ['abacate','banana','caqui','damasco', 'embaúba','figo'] \n",
    "print('lista:',lista)\n",
    "\n",
    "# Exemplo de tupla\n",
    "tupla = (1, 2, 3, 4, 5, 6, 7)\n",
    "print('tupla:',tupla)\n",
    "\n",
    "# Exemplo de dicionário\n",
    "dicionario = {'a':'abacaxi', 'b':'bola', 'c':'cachorro', 'd':'dado'} \n",
    "print('dicionario:',dicionario)\n",
    "\n",
    "# Exemplo de conjunto (set)\n",
    "conjunto = {'a', 'e', 'i' , 'o', 'u'} \n",
    "print('conjunto:',conjunto)\n",
    "\n",
    "# Exemplo de string\n",
    "string = 'Hello World!'\n",
    "print('string:',string)"
   ]
  },
  {
   "cell_type": "code",
   "execution_count": 109,
   "metadata": {
    "ExecuteTime": {
     "end_time": "2020-11-27T13:33:24.082061Z",
     "start_time": "2020-11-27T13:33:24.076078Z"
    }
   },
   "outputs": [
    {
     "name": "stdout",
     "output_type": "stream",
     "text": [
      "<class 'list'>\n",
      "<class 'set'>\n"
     ]
    },
    {
     "data": {
      "text/plain": [
       "{'abacate', 'banana', 'caqui', 'damasco', 'embaúba', 'figo'}"
      ]
     },
     "execution_count": 109,
     "metadata": {},
     "output_type": "execute_result"
    }
   ],
   "source": [
    "# Transformando uma lista em um conjunto\n",
    "lista_em_conjunto = set(lista)\n",
    "\n",
    "print(type(lista))\n",
    "\n",
    "print(type(lista_em_conjunto))\n",
    "\n",
    "lista_em_conjunto"
   ]
  },
  {
   "cell_type": "code",
   "execution_count": 110,
   "metadata": {
    "ExecuteTime": {
     "end_time": "2020-11-27T13:33:24.551398Z",
     "start_time": "2020-11-27T13:33:24.545449Z"
    }
   },
   "outputs": [
    {
     "name": "stdout",
     "output_type": "stream",
     "text": [
      "<class 'set'>\n",
      "<class 'tuple'>\n"
     ]
    },
    {
     "data": {
      "text/plain": [
       "('u', 'e', 'a', 'o', 'i')"
      ]
     },
     "execution_count": 110,
     "metadata": {},
     "output_type": "execute_result"
    }
   ],
   "source": [
    "# Transformando conjunto em uma tupla\n",
    "conjunto_em_tupla = tuple(conjunto)\n",
    "\n",
    "print(type(conjunto))\n",
    "\n",
    "print(type(conjunto_em_tupla))\n",
    "\n",
    "conjunto_em_tupla"
   ]
  },
  {
   "cell_type": "code",
   "execution_count": 111,
   "metadata": {
    "ExecuteTime": {
     "end_time": "2020-11-27T13:33:25.218766Z",
     "start_time": "2020-11-27T13:33:25.211761Z"
    }
   },
   "outputs": [
    {
     "data": {
      "text/plain": [
       "['H', 'e', 'l', 'l', 'o', ' ', 'W', 'o', 'r', 'l', 'd', '!']"
      ]
     },
     "execution_count": 111,
     "metadata": {},
     "output_type": "execute_result"
    }
   ],
   "source": [
    "# Transformando uma string em uma lista\n",
    "string_em_lista = list(string)\n",
    "\n",
    "string_em_lista"
   ]
  },
  {
   "cell_type": "code",
   "execution_count": 112,
   "metadata": {
    "ExecuteTime": {
     "end_time": "2020-11-27T13:33:25.645743Z",
     "start_time": "2020-11-27T13:33:25.638735Z"
    }
   },
   "outputs": [
    {
     "name": "stdout",
     "output_type": "stream",
     "text": [
      "dicionario_forma_comum = {1: 'abacaxi', 2: 'banana', 3: 'caqui'}\n"
     ]
    },
    {
     "data": {
      "text/plain": [
       "{1: 'abacaxi', 2: 'banana', 3: 'caqui'}"
      ]
     },
     "execution_count": 112,
     "metadata": {},
     "output_type": "execute_result"
    }
   ],
   "source": [
    "lista_1 = [1,'abacaxi']\n",
    "lista_2 = [2,'banana']\n",
    "lista_3 = [3,'caqui']\n",
    "\n",
    "# Para converter para um dicionário é necessário sempre trabalhar com pares\n",
    "dicionario_forma_comum = {1:'abacaxi', 2:'banana', 3:'caqui'}\n",
    "\n",
    "print('dicionario_forma_comum =',dicionario_forma_comum)\n",
    "\n",
    "dicionario_forma_comum"
   ]
  },
  {
   "cell_type": "code",
   "execution_count": 113,
   "metadata": {
    "ExecuteTime": {
     "end_time": "2020-11-27T13:33:26.321818Z",
     "start_time": "2020-11-27T13:33:26.311847Z"
    }
   },
   "outputs": [
    {
     "ename": "NameError",
     "evalue": "name 'conjunto_listas_em_dicionario' is not defined",
     "output_type": "error",
     "traceback": [
      "\u001b[1;31m---------------------------------------------------------------------------\u001b[0m",
      "\u001b[1;31mNameError\u001b[0m                                 Traceback (most recent call last)",
      "\u001b[1;32m<ipython-input-113-9dae5891712e>\u001b[0m in \u001b[0;36m<module>\u001b[1;34m\u001b[0m\n\u001b[0;32m      2\u001b[0m \u001b[0mlistas_em_dicionario\u001b[0m \u001b[1;33m=\u001b[0m \u001b[0mdict\u001b[0m\u001b[1;33m(\u001b[0m\u001b[1;33m[\u001b[0m\u001b[0mlista_1\u001b[0m\u001b[1;33m,\u001b[0m \u001b[0mlista_2\u001b[0m\u001b[1;33m,\u001b[0m \u001b[0mlista_3\u001b[0m\u001b[1;33m]\u001b[0m\u001b[1;33m)\u001b[0m\u001b[1;33m\u001b[0m\u001b[1;33m\u001b[0m\u001b[0m\n\u001b[0;32m      3\u001b[0m \u001b[1;33m\u001b[0m\u001b[0m\n\u001b[1;32m----> 4\u001b[1;33m \u001b[0mprint\u001b[0m\u001b[1;33m(\u001b[0m\u001b[1;34m'tipo de listas_em_dicionario:'\u001b[0m\u001b[1;33m,\u001b[0m \u001b[0mtype\u001b[0m\u001b[1;33m(\u001b[0m\u001b[0mconjunto_listas_em_dicionario\u001b[0m\u001b[1;33m)\u001b[0m\u001b[1;33m)\u001b[0m\u001b[1;33m\u001b[0m\u001b[1;33m\u001b[0m\u001b[0m\n\u001b[0m\u001b[0;32m      5\u001b[0m \u001b[1;33m\u001b[0m\u001b[0m\n\u001b[0;32m      6\u001b[0m \u001b[0mlistas_em_dicionario\u001b[0m\u001b[1;33m\u001b[0m\u001b[1;33m\u001b[0m\u001b[0m\n",
      "\u001b[1;31mNameError\u001b[0m: name 'conjunto_listas_em_dicionario' is not defined"
     ]
    }
   ],
   "source": [
    "# Transformando conjunto de listas com dois elementos em um dicionário\n",
    "listas_em_dicionario = dict([lista_1, lista_2, lista_3])\n",
    "\n",
    "print('tipo de listas_em_dicionario:', type(conjunto_listas_em_dicionario))\n",
    "\n",
    "listas_em_dicionario"
   ]
  },
  {
   "cell_type": "code",
   "execution_count": 114,
   "metadata": {
    "ExecuteTime": {
     "end_time": "2020-11-27T13:33:26.907372Z",
     "start_time": "2020-11-27T13:33:26.898366Z"
    }
   },
   "outputs": [
    {
     "name": "stdout",
     "output_type": "stream",
     "text": [
      "tipo de outra_forma_dicionario: <class 'dict'>\n",
      "Qual a melhor linguagem? Resposta = Python\n"
     ]
    },
    {
     "data": {
      "text/plain": [
       "{1: 'Python', 2: 'R'}"
      ]
     },
     "execution_count": 114,
     "metadata": {},
     "output_type": "execute_result"
    }
   ],
   "source": [
    "# Outra maneira de definir um dicionário\n",
    "outra_forma_dicionario = dict([[1,'Python'],[2,'R']])\n",
    "\n",
    "print('tipo de outra_forma_dicionario:', type(outra_forma_dicionario))\n",
    "\n",
    "print('Qual a melhor linguagem? Resposta =', outra_forma_dicionario[1])\n",
    "\n",
    "outra_forma_dicionario"
   ]
  }
 ],
 "metadata": {
  "hide_input": false,
  "kernelspec": {
   "display_name": "Python 3",
   "language": "python",
   "name": "python3"
  },
  "language_info": {
   "codemirror_mode": {
    "name": "ipython",
    "version": 3
   },
   "file_extension": ".py",
   "mimetype": "text/x-python",
   "name": "python",
   "nbconvert_exporter": "python",
   "pygments_lexer": "ipython3",
   "version": "3.8.3"
  },
  "latex_envs": {
   "LaTeX_envs_menu_present": true,
   "autoclose": false,
   "autocomplete": true,
   "bibliofile": "biblio.bib",
   "cite_by": "apalike",
   "current_citInitial": 1,
   "eqLabelWithNumbers": true,
   "eqNumInitial": 1,
   "hotkeys": {
    "equation": "Ctrl-E",
    "itemize": "Ctrl-I"
   },
   "labels_anchors": false,
   "latex_user_defs": false,
   "report_style_numbering": false,
   "user_envs_cfg": false
  },
  "toc": {
   "base_numbering": 1,
   "nav_menu": {},
   "number_sections": true,
   "sideBar": true,
   "skip_h1_title": false,
   "title_cell": "Table of Contents",
   "title_sidebar": "Contents",
   "toc_cell": false,
   "toc_position": {},
   "toc_section_display": true,
   "toc_window_display": false
  },
  "varInspector": {
   "cols": {
    "lenName": 16,
    "lenType": 16,
    "lenVar": 40
   },
   "kernels_config": {
    "python": {
     "delete_cmd_postfix": "",
     "delete_cmd_prefix": "del ",
     "library": "var_list.py",
     "varRefreshCmd": "print(var_dic_list())"
    },
    "r": {
     "delete_cmd_postfix": ") ",
     "delete_cmd_prefix": "rm(",
     "library": "var_list.r",
     "varRefreshCmd": "cat(var_dic_list()) "
    }
   },
   "types_to_exclude": [
    "module",
    "function",
    "builtin_function_or_method",
    "instance",
    "_Feature"
   ],
   "window_display": false
  }
 },
 "nbformat": 4,
 "nbformat_minor": 4
}
