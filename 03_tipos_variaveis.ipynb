{
 "cells": [
  {
   "cell_type": "markdown",
   "metadata": {},
   "source": [
    "# Tipos de variáveis\n"
   ]
  },
  {
   "cell_type": "markdown",
   "metadata": {},
   "source": [
    "\n",
    "## Coleções literais"
   ]
  },
  {
   "cell_type": "code",
   "execution_count": 97,
   "metadata": {
    "ExecuteTime": {
     "end_time": "2020-11-27T13:32:53.680176Z",
     "start_time": "2020-11-27T13:32:53.673195Z"
    }
   },
   "outputs": [
    {
     "name": "stdout",
     "output_type": "stream",
     "text": [
      "['abacate', 'banana', 'caqui', 'damasco', 'embaúba', 'figo']\n",
      "(1, 2, 3, 4, 5, 6, 7)\n",
      "{'a': 'abacaxi', 'b': 'bola', 'c': 'cachorro', 'd': 'dado'}\n",
      "{'u', 'e', 'a', 'o', 'i'}\n"
     ]
    }
   ],
   "source": [
    "# Exemplo de lista\n",
    "frutas = ['abacate','banana','caqui','damasco', 'embaúba','figo'] \n",
    "print(frutas)\n",
    "\n",
    "# Exemplo de tupla\n",
    "numeros = (1, 2, 3, 4, 5, 6, 7)\n",
    "print(numeros)\n",
    "\n",
    "# Exemplo de dicionário\n",
    "alfabeto = {'a':'abacaxi', 'b':'bola', 'c':'cachorro', 'd':'dado'} \n",
    "print(alfabeto)\n",
    "\n",
    "# Exemplo de conjunto (set)\n",
    "vogais = {'a', 'e', 'i' , 'o', 'u'} \n",
    "print(vogais)"
   ]
  },
  {
   "cell_type": "markdown",
   "metadata": {},
   "source": [
    "## Listas\n",
    "\n",
    "A lista é uma sequência ordenada de itens. É um dos tipos de dados mais usados em Python e é muito flexível. Todos os itens de uma lista não precisam ser do mesmo tipo. Declarar uma lista é bastante simples. Os itens separados por vírgulas são colocados entre colchetes [ ]."
   ]
  },
  {
   "cell_type": "code",
   "execution_count": 98,
   "metadata": {
    "ExecuteTime": {
     "end_time": "2020-11-27T13:32:53.741016Z",
     "start_time": "2020-11-27T13:32:53.730044Z"
    }
   },
   "outputs": [
    {
     "name": "stdout",
     "output_type": "stream",
     "text": [
      "Este é o elemento [2] original da lista: 2\n",
      "Este é o novo elemento [2] da lista: 4\n",
      "Este é o novo elemento [2] da lista, uma string: Python\n"
     ]
    },
    {
     "data": {
      "text/plain": [
       "[1, 1, 'Python', 3, 5, 8, 13, 21]"
      ]
     },
     "execution_count": 98,
     "metadata": {},
     "output_type": "execute_result"
    }
   ],
   "source": [
    "# Definindo uma lista\n",
    "lista = [1, 1, 2, 3, 5, 8, 13, 21]\n",
    "\n",
    "# Acessando um elemento específico de uma lista\n",
    "print('Este é o elemento [2] original da lista:', lista[2])\n",
    "\n",
    "# Os elementos de uma lista são mutáveis\n",
    "lista[2] = 4\n",
    "print('Este é o novo elemento [2] da lista:', lista[2])\n",
    "\n",
    "# Os elementos de uma lista podem ser de diferentes tipos\n",
    "lista[2] = 'Python'\n",
    "print('Este é o novo elemento [2] da lista, uma string:', lista[2])\n",
    "\n",
    "lista"
   ]
  },
  {
   "cell_type": "markdown",
   "metadata": {},
   "source": [
    "## Tupla\n",
    "\n",
    "Tupla é uma sequência ordenada de itens iguais a uma lista. A única diferença é que as tuplas são imutáveis. Depois de criadas as tuplas não podem ser modificadas. Tuplas são usadas para proteger os dados contra gravação e geralmente são mais rápidas do que listas, pois não podem ser alteradas dinamicamente. É definido entre parênteses ( ), onde os itens são separados por vírgulas."
   ]
  },
  {
   "cell_type": "code",
   "execution_count": 99,
   "metadata": {
    "ExecuteTime": {
     "end_time": "2020-11-27T13:32:53.797889Z",
     "start_time": "2020-11-27T13:32:53.790903Z"
    }
   },
   "outputs": [
    {
     "name": "stdout",
     "output_type": "stream",
     "text": [
      "média entre 3,5,8,13: 7.25\n",
      "tupla[0] = 5\n",
      "tupla[1] = Python\n",
      "tupla[0:4] = (5, 'Python', (1+3j), (3, 5, 8, 13))\n"
     ]
    }
   ],
   "source": [
    "# Esta é uma tupla\n",
    "a = (3,5,8,13)\n",
    "print('média entre 3,5,8,13:', np.mean(a))\n",
    "\n",
    "# Vamos definir outra tupla que contém uma tupla\n",
    "tupla = (5,'Python', 1+3j, a)\n",
    "\n",
    "# tupla[0] = 5\n",
    "print('tupla[0] =', tupla[0])\n",
    "\n",
    "# tupla[1] = 'Python'\n",
    "print('tupla[1] =', tupla[1])\n",
    "\n",
    "# tupla[0:4] = (5, 'Python', 1+3j, (3, 5, 8, 13))\n",
    "print('tupla[0:4] =', tupla[0:4])"
   ]
  },
  {
   "cell_type": "code",
   "execution_count": 100,
   "metadata": {
    "ExecuteTime": {
     "end_time": "2020-11-27T13:32:53.855744Z",
     "start_time": "2020-11-27T13:32:53.846732Z"
    }
   },
   "outputs": [
    {
     "ename": "TypeError",
     "evalue": "'tuple' object does not support item assignment",
     "output_type": "error",
     "traceback": [
      "\u001b[1;31m---------------------------------------------------------------------------\u001b[0m",
      "\u001b[1;31mTypeError\u001b[0m                                 Traceback (most recent call last)",
      "\u001b[1;32m<ipython-input-100-9482382a2716>\u001b[0m in \u001b[0;36m<module>\u001b[1;34m\u001b[0m\n\u001b[0;32m      1\u001b[0m \u001b[1;31m# Tuplas são imutáveis, o código abaixo irá gerar um erro\u001b[0m\u001b[1;33m\u001b[0m\u001b[1;33m\u001b[0m\u001b[1;33m\u001b[0m\u001b[0m\n\u001b[1;32m----> 2\u001b[1;33m \u001b[0mtupla\u001b[0m\u001b[1;33m[\u001b[0m\u001b[1;36m0\u001b[0m\u001b[1;33m]\u001b[0m \u001b[1;33m=\u001b[0m \u001b[1;36m1\u001b[0m\u001b[1;33m\u001b[0m\u001b[1;33m\u001b[0m\u001b[0m\n\u001b[0m",
      "\u001b[1;31mTypeError\u001b[0m: 'tuple' object does not support item assignment"
     ]
    }
   ],
   "source": [
    "# Tuplas são imutáveis, o código abaixo irá gerar um erro\n",
    "tupla[0] = 1"
   ]
  },
  {
   "cell_type": "markdown",
   "metadata": {},
   "source": [
    "## Strings\n",
    "\n",
    "String é uma sequência de caracteres Unicode. Podemos usar aspas simples ou duplas para representar strings. As strings de várias linhas podem ser denotadas com aspas triplas '' 'ou \"\" \"."
   ]
  },
  {
   "cell_type": "code",
   "execution_count": 101,
   "metadata": {
    "ExecuteTime": {
     "end_time": "2020-11-27T13:33:17.335960Z",
     "start_time": "2020-11-27T13:33:17.331973Z"
    }
   },
   "outputs": [
    {
     "name": "stdout",
     "output_type": "stream",
     "text": [
      "s[4] =  o\n",
      "s[6:11] =  world\n"
     ]
    }
   ],
   "source": [
    "s = 'Hello world!'\n",
    "\n",
    "# s[4] = 'o'\n",
    "print(\"s[4] = \", s[4])\n",
    "\n",
    "# s[6:11] = 'world'\n",
    "print(\"s[6:11] = \", s[6:11])"
   ]
  },
  {
   "cell_type": "code",
   "execution_count": 102,
   "metadata": {
    "ExecuteTime": {
     "end_time": "2020-11-27T13:33:17.818012Z",
     "start_time": "2020-11-27T13:33:17.810001Z"
    }
   },
   "outputs": [
    {
     "ename": "TypeError",
     "evalue": "'str' object does not support item assignment",
     "output_type": "error",
     "traceback": [
      "\u001b[1;31m---------------------------------------------------------------------------\u001b[0m",
      "\u001b[1;31mTypeError\u001b[0m                                 Traceback (most recent call last)",
      "\u001b[1;32m<ipython-input-102-847caacc9895>\u001b[0m in \u001b[0;36m<module>\u001b[1;34m\u001b[0m\n\u001b[0;32m      1\u001b[0m \u001b[1;31m# Strings também são imutáveis em Python, não conseguimos passar outro valor\u001b[0m\u001b[1;33m\u001b[0m\u001b[1;33m\u001b[0m\u001b[1;33m\u001b[0m\u001b[0m\n\u001b[0;32m      2\u001b[0m \u001b[1;31m# em uma string, logo o código abaixo irá gerar um erro, analogamente à tupla.\u001b[0m\u001b[1;33m\u001b[0m\u001b[1;33m\u001b[0m\u001b[1;33m\u001b[0m\u001b[0m\n\u001b[1;32m----> 3\u001b[1;33m \u001b[0ms\u001b[0m\u001b[1;33m[\u001b[0m\u001b[1;36m5\u001b[0m\u001b[1;33m]\u001b[0m \u001b[1;33m=\u001b[0m\u001b[1;34m'd'\u001b[0m\u001b[1;33m\u001b[0m\u001b[1;33m\u001b[0m\u001b[0m\n\u001b[0m",
      "\u001b[1;31mTypeError\u001b[0m: 'str' object does not support item assignment"
     ]
    }
   ],
   "source": [
    "# Strings também são imutáveis em Python, não conseguimos passar outro valor\n",
    "# em uma string, logo o código abaixo irá gerar um erro, analogamente à tupla.\n",
    "s[5] ='d'"
   ]
  },
  {
   "cell_type": "markdown",
   "metadata": {},
   "source": [
    "## Set (conjunto)\n",
    "\n",
    "Set é uma coleção não ordenada de itens exclusivos. O conjunto é definido por valores separados por vírgula entre chaves { }. Os itens em um conjunto não são ordenados."
   ]
  },
  {
   "cell_type": "code",
   "execution_count": 103,
   "metadata": {
    "ExecuteTime": {
     "end_time": "2020-11-27T13:33:19.220812Z",
     "start_time": "2020-11-27T13:33:19.213846Z"
    }
   },
   "outputs": [
    {
     "name": "stdout",
     "output_type": "stream",
     "text": [
      "a =  {1, 2, 3, 4, 5}\n",
      "<class 'set'>\n"
     ]
    }
   ],
   "source": [
    "a = {5,2,3,1,4}\n",
    "\n",
    "print(\"a = \", a)\n",
    "\n",
    "print(type(a))"
   ]
  },
  {
   "cell_type": "code",
   "execution_count": 104,
   "metadata": {
    "ExecuteTime": {
     "end_time": "2020-11-27T13:33:19.767934Z",
     "start_time": "2020-11-27T13:33:19.759957Z"
    }
   },
   "outputs": [
    {
     "ename": "TypeError",
     "evalue": "'set' object is not subscriptable",
     "output_type": "error",
     "traceback": [
      "\u001b[1;31m---------------------------------------------------------------------------\u001b[0m",
      "\u001b[1;31mTypeError\u001b[0m                                 Traceback (most recent call last)",
      "\u001b[1;32m<ipython-input-104-c67442756933>\u001b[0m in \u001b[0;36m<module>\u001b[1;34m\u001b[0m\n\u001b[0;32m      1\u001b[0m \u001b[1;31m# O objeto set do Python não possui ordem nem indexação, logo chamar um elemento de\u001b[0m\u001b[1;33m\u001b[0m\u001b[1;33m\u001b[0m\u001b[1;33m\u001b[0m\u001b[0m\n\u001b[0;32m      2\u001b[0m \u001b[1;31m# um conjunto através de índices em um conjunto irá gerar um erro de comando.\u001b[0m\u001b[1;33m\u001b[0m\u001b[1;33m\u001b[0m\u001b[1;33m\u001b[0m\u001b[0m\n\u001b[1;32m----> 3\u001b[1;33m \u001b[0ma\u001b[0m\u001b[1;33m[\u001b[0m\u001b[1;36m1\u001b[0m\u001b[1;33m]\u001b[0m\u001b[1;33m\u001b[0m\u001b[1;33m\u001b[0m\u001b[0m\n\u001b[0m",
      "\u001b[1;31mTypeError\u001b[0m: 'set' object is not subscriptable"
     ]
    }
   ],
   "source": [
    "# O objeto set do Python não possui ordem nem indexação, logo chamar um elemento de \n",
    "# um conjunto através de índices em um conjunto irá gerar um erro de comando.\n",
    "a[1]"
   ]
  },
  {
   "cell_type": "markdown",
   "metadata": {},
   "source": [
    "## Dicionário Python\n",
    "\n",
    "Dicionário é uma coleção não ordenada de pares chave-valor. Geralmente é usado quando temos uma grande quantidade de dados. Os dicionários são otimizados para recuperar dados. Devemos saber a chave para recuperar o valor. Em Python, os dicionários são definidos entre colchetes { } com cada item sendo um par na forma chave: valor. A chave e o valor podem ser de qualquer tipo."
   ]
  },
  {
   "cell_type": "code",
   "execution_count": 105,
   "metadata": {
    "ExecuteTime": {
     "end_time": "2020-11-27T13:33:20.765963Z",
     "start_time": "2020-11-27T13:33:20.760979Z"
    }
   },
   "outputs": [
    {
     "name": "stdout",
     "output_type": "stream",
     "text": [
      "<class 'dict'>\n",
      "d[1] =  valor\n",
      "d['chave'] =  2\n"
     ]
    }
   ],
   "source": [
    "d = {1:'valor','chave':2}\n",
    "print(type(d))\n",
    "\n",
    "print(\"d[1] = \", d[1])\n",
    "\n",
    "print(\"d['chave'] = \", d['chave'])"
   ]
  },
  {
   "cell_type": "code",
   "execution_count": 106,
   "metadata": {
    "ExecuteTime": {
     "end_time": "2020-11-27T13:33:21.453118Z",
     "start_time": "2020-11-27T13:33:21.439113Z"
    }
   },
   "outputs": [
    {
     "ename": "KeyError",
     "evalue": "2",
     "output_type": "error",
     "traceback": [
      "\u001b[1;31m---------------------------------------------------------------------------\u001b[0m",
      "\u001b[1;31mKeyError\u001b[0m                                  Traceback (most recent call last)",
      "\u001b[1;32m<ipython-input-106-de635ad1e830>\u001b[0m in \u001b[0;36m<module>\u001b[1;34m\u001b[0m\n\u001b[0;32m      1\u001b[0m \u001b[1;31m# O código abaixo gera um erro, pois 2 é o nome do elemento 'chave' do dicionário d.\u001b[0m\u001b[1;33m\u001b[0m\u001b[1;33m\u001b[0m\u001b[1;33m\u001b[0m\u001b[0m\n\u001b[1;32m----> 2\u001b[1;33m \u001b[0mprint\u001b[0m\u001b[1;33m(\u001b[0m\u001b[1;34m\"d[2] = \"\u001b[0m\u001b[1;33m,\u001b[0m \u001b[0md\u001b[0m\u001b[1;33m[\u001b[0m\u001b[1;36m2\u001b[0m\u001b[1;33m]\u001b[0m\u001b[1;33m)\u001b[0m\u001b[1;33m\u001b[0m\u001b[1;33m\u001b[0m\u001b[0m\n\u001b[0m",
      "\u001b[1;31mKeyError\u001b[0m: 2"
     ]
    }
   ],
   "source": [
    "# O código abaixo gera um erro, pois 2 é o nome do elemento 'chave' do dicionário d.\n",
    "print(\"d[2] = \", d[2])"
   ]
  },
  {
   "cell_type": "code",
   "execution_count": 107,
   "metadata": {
    "ExecuteTime": {
     "end_time": "2020-11-27T13:33:22.331955Z",
     "start_time": "2020-11-27T13:33:22.326973Z"
    }
   },
   "outputs": [
    {
     "data": {
      "text/plain": [
       "5"
      ]
     },
     "execution_count": 107,
     "metadata": {},
     "output_type": "execute_result"
    }
   ],
   "source": [
    "# É possível passar novos valores em um dicionário Python.\n",
    "d['chave'] =  5\n",
    "\n",
    "d['chave']"
   ]
  },
  {
   "cell_type": "markdown",
   "metadata": {},
   "source": [
    "## Trocando de variáveis"
   ]
  },
  {
   "cell_type": "code",
   "execution_count": 108,
   "metadata": {
    "ExecuteTime": {
     "end_time": "2020-11-27T13:33:23.466635Z",
     "start_time": "2020-11-27T13:33:23.454634Z"
    }
   },
   "outputs": [
    {
     "name": "stdout",
     "output_type": "stream",
     "text": [
      "lista: ['abacate', 'banana', 'caqui', 'damasco', 'embaúba', 'figo']\n",
      "tupla: (1, 2, 3, 4, 5, 6, 7)\n",
      "dicionario: {'a': 'abacaxi', 'b': 'bola', 'c': 'cachorro', 'd': 'dado'}\n",
      "conjunto: {'u', 'e', 'a', 'o', 'i'}\n",
      "string: Hello World!\n"
     ]
    }
   ],
   "source": [
    "# Exemplo de lista\n",
    "lista = ['abacate','banana','caqui','damasco', 'embaúba','figo'] \n",
    "print('lista:',lista)\n",
    "\n",
    "# Exemplo de tupla\n",
    "tupla = (1, 2, 3, 4, 5, 6, 7)\n",
    "print('tupla:',tupla)\n",
    "\n",
    "# Exemplo de dicionário\n",
    "dicionario = {'a':'abacaxi', 'b':'bola', 'c':'cachorro', 'd':'dado'} \n",
    "print('dicionario:',dicionario)\n",
    "\n",
    "# Exemplo de conjunto (set)\n",
    "conjunto = {'a', 'e', 'i' , 'o', 'u'} \n",
    "print('conjunto:',conjunto)\n",
    "\n",
    "# Exemplo de string\n",
    "string = 'Hello World!'\n",
    "print('string:',string)"
   ]
  },
  {
   "cell_type": "code",
   "execution_count": 109,
   "metadata": {
    "ExecuteTime": {
     "end_time": "2020-11-27T13:33:24.082061Z",
     "start_time": "2020-11-27T13:33:24.076078Z"
    }
   },
   "outputs": [
    {
     "name": "stdout",
     "output_type": "stream",
     "text": [
      "<class 'list'>\n",
      "<class 'set'>\n"
     ]
    },
    {
     "data": {
      "text/plain": [
       "{'abacate', 'banana', 'caqui', 'damasco', 'embaúba', 'figo'}"
      ]
     },
     "execution_count": 109,
     "metadata": {},
     "output_type": "execute_result"
    }
   ],
   "source": [
    "# Transformando uma lista em um conjunto\n",
    "lista_em_conjunto = set(lista)\n",
    "\n",
    "print(type(lista))\n",
    "\n",
    "print(type(lista_em_conjunto))\n",
    "\n",
    "lista_em_conjunto"
   ]
  },
  {
   "cell_type": "code",
   "execution_count": 110,
   "metadata": {
    "ExecuteTime": {
     "end_time": "2020-11-27T13:33:24.551398Z",
     "start_time": "2020-11-27T13:33:24.545449Z"
    }
   },
   "outputs": [
    {
     "name": "stdout",
     "output_type": "stream",
     "text": [
      "<class 'set'>\n",
      "<class 'tuple'>\n"
     ]
    },
    {
     "data": {
      "text/plain": [
       "('u', 'e', 'a', 'o', 'i')"
      ]
     },
     "execution_count": 110,
     "metadata": {},
     "output_type": "execute_result"
    }
   ],
   "source": [
    "# Transformando conjunto em uma tupla\n",
    "conjunto_em_tupla = tuple(conjunto)\n",
    "\n",
    "print(type(conjunto))\n",
    "\n",
    "print(type(conjunto_em_tupla))\n",
    "\n",
    "conjunto_em_tupla"
   ]
  },
  {
   "cell_type": "code",
   "execution_count": 111,
   "metadata": {
    "ExecuteTime": {
     "end_time": "2020-11-27T13:33:25.218766Z",
     "start_time": "2020-11-27T13:33:25.211761Z"
    }
   },
   "outputs": [
    {
     "data": {
      "text/plain": [
       "['H', 'e', 'l', 'l', 'o', ' ', 'W', 'o', 'r', 'l', 'd', '!']"
      ]
     },
     "execution_count": 111,
     "metadata": {},
     "output_type": "execute_result"
    }
   ],
   "source": [
    "# Transformando uma string em uma lista\n",
    "string_em_lista = list(string)\n",
    "\n",
    "string_em_lista"
   ]
  },
  {
   "cell_type": "code",
   "execution_count": 112,
   "metadata": {
    "ExecuteTime": {
     "end_time": "2020-11-27T13:33:25.645743Z",
     "start_time": "2020-11-27T13:33:25.638735Z"
    }
   },
   "outputs": [
    {
     "name": "stdout",
     "output_type": "stream",
     "text": [
      "dicionario_forma_comum = {1: 'abacaxi', 2: 'banana', 3: 'caqui'}\n"
     ]
    },
    {
     "data": {
      "text/plain": [
       "{1: 'abacaxi', 2: 'banana', 3: 'caqui'}"
      ]
     },
     "execution_count": 112,
     "metadata": {},
     "output_type": "execute_result"
    }
   ],
   "source": [
    "lista_1 = [1,'abacaxi']\n",
    "lista_2 = [2,'banana']\n",
    "lista_3 = [3,'caqui']\n",
    "\n",
    "# Para converter para um dicionário é necessário sempre trabalhar com pares\n",
    "dicionario_forma_comum = {1:'abacaxi', 2:'banana', 3:'caqui'}\n",
    "\n",
    "print('dicionario_forma_comum =',dicionario_forma_comum)\n",
    "\n",
    "dicionario_forma_comum"
   ]
  },
  {
   "cell_type": "code",
   "execution_count": 113,
   "metadata": {
    "ExecuteTime": {
     "end_time": "2020-11-27T13:33:26.321818Z",
     "start_time": "2020-11-27T13:33:26.311847Z"
    }
   },
   "outputs": [
    {
     "ename": "NameError",
     "evalue": "name 'conjunto_listas_em_dicionario' is not defined",
     "output_type": "error",
     "traceback": [
      "\u001b[1;31m---------------------------------------------------------------------------\u001b[0m",
      "\u001b[1;31mNameError\u001b[0m                                 Traceback (most recent call last)",
      "\u001b[1;32m<ipython-input-113-9dae5891712e>\u001b[0m in \u001b[0;36m<module>\u001b[1;34m\u001b[0m\n\u001b[0;32m      2\u001b[0m \u001b[0mlistas_em_dicionario\u001b[0m \u001b[1;33m=\u001b[0m \u001b[0mdict\u001b[0m\u001b[1;33m(\u001b[0m\u001b[1;33m[\u001b[0m\u001b[0mlista_1\u001b[0m\u001b[1;33m,\u001b[0m \u001b[0mlista_2\u001b[0m\u001b[1;33m,\u001b[0m \u001b[0mlista_3\u001b[0m\u001b[1;33m]\u001b[0m\u001b[1;33m)\u001b[0m\u001b[1;33m\u001b[0m\u001b[1;33m\u001b[0m\u001b[0m\n\u001b[0;32m      3\u001b[0m \u001b[1;33m\u001b[0m\u001b[0m\n\u001b[1;32m----> 4\u001b[1;33m \u001b[0mprint\u001b[0m\u001b[1;33m(\u001b[0m\u001b[1;34m'tipo de listas_em_dicionario:'\u001b[0m\u001b[1;33m,\u001b[0m \u001b[0mtype\u001b[0m\u001b[1;33m(\u001b[0m\u001b[0mconjunto_listas_em_dicionario\u001b[0m\u001b[1;33m)\u001b[0m\u001b[1;33m)\u001b[0m\u001b[1;33m\u001b[0m\u001b[1;33m\u001b[0m\u001b[0m\n\u001b[0m\u001b[0;32m      5\u001b[0m \u001b[1;33m\u001b[0m\u001b[0m\n\u001b[0;32m      6\u001b[0m \u001b[0mlistas_em_dicionario\u001b[0m\u001b[1;33m\u001b[0m\u001b[1;33m\u001b[0m\u001b[0m\n",
      "\u001b[1;31mNameError\u001b[0m: name 'conjunto_listas_em_dicionario' is not defined"
     ]
    }
   ],
   "source": [
    "# Transformando conjunto de listas com dois elementos em um dicionário\n",
    "listas_em_dicionario = dict([lista_1, lista_2, lista_3])\n",
    "\n",
    "print('tipo de listas_em_dicionario:', type(conjunto_listas_em_dicionario))\n",
    "\n",
    "listas_em_dicionario"
   ]
  },
  {
   "cell_type": "code",
   "execution_count": 114,
   "metadata": {
    "ExecuteTime": {
     "end_time": "2020-11-27T13:33:26.907372Z",
     "start_time": "2020-11-27T13:33:26.898366Z"
    }
   },
   "outputs": [
    {
     "name": "stdout",
     "output_type": "stream",
     "text": [
      "tipo de outra_forma_dicionario: <class 'dict'>\n",
      "Qual a melhor linguagem? Resposta = Python\n"
     ]
    },
    {
     "data": {
      "text/plain": [
       "{1: 'Python', 2: 'R'}"
      ]
     },
     "execution_count": 114,
     "metadata": {},
     "output_type": "execute_result"
    }
   ],
   "source": [
    "# Outra maneira de definir um dicionário\n",
    "outra_forma_dicionario = dict([[1,'Python'],[2,'R']])\n",
    "\n",
    "print('tipo de outra_forma_dicionario:', type(outra_forma_dicionario))\n",
    "\n",
    "print('Qual a melhor linguagem? Resposta =', outra_forma_dicionario[1])\n",
    "\n",
    "outra_forma_dicionario"
   ]
  }
 ],
 "metadata": {
  "hide_input": false,
  "kernelspec": {
   "display_name": "Python 3 (ipykernel)",
   "language": "python",
   "name": "python3"
  },
  "language_info": {
   "codemirror_mode": {
    "name": "ipython",
    "version": 3
   },
   "file_extension": ".py",
   "mimetype": "text/x-python",
   "name": "python",
   "nbconvert_exporter": "python",
   "pygments_lexer": "ipython3",
   "version": "3.9.13"
  },
  "latex_envs": {
   "LaTeX_envs_menu_present": true,
   "autoclose": false,
   "autocomplete": true,
   "bibliofile": "biblio.bib",
   "cite_by": "apalike",
   "current_citInitial": 1,
   "eqLabelWithNumbers": true,
   "eqNumInitial": 1,
   "hotkeys": {
    "equation": "Ctrl-E",
    "itemize": "Ctrl-I"
   },
   "labels_anchors": false,
   "latex_user_defs": false,
   "report_style_numbering": false,
   "user_envs_cfg": false
  },
  "toc": {
   "base_numbering": 1,
   "nav_menu": {},
   "number_sections": true,
   "sideBar": true,
   "skip_h1_title": false,
   "title_cell": "Table of Contents",
   "title_sidebar": "Contents",
   "toc_cell": false,
   "toc_position": {},
   "toc_section_display": true,
   "toc_window_display": true
  },
  "varInspector": {
   "cols": {
    "lenName": 16,
    "lenType": 16,
    "lenVar": 40
   },
   "kernels_config": {
    "python": {
     "delete_cmd_postfix": "",
     "delete_cmd_prefix": "del ",
     "library": "var_list.py",
     "varRefreshCmd": "print(var_dic_list())"
    },
    "r": {
     "delete_cmd_postfix": ") ",
     "delete_cmd_prefix": "rm(",
     "library": "var_list.r",
     "varRefreshCmd": "cat(var_dic_list()) "
    }
   },
   "types_to_exclude": [
    "module",
    "function",
    "builtin_function_or_method",
    "instance",
    "_Feature"
   ],
   "window_display": false
  }
 },
 "nbformat": 4,
 "nbformat_minor": 4
}
