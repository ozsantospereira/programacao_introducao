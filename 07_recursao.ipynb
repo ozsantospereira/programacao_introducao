{
 "cells": [
  {
   "cell_type": "markdown",
   "metadata": {},
   "source": [
    "# Recursão\n",
    "\n",
    "## Método para cálculo de fatorial usando iteração"
   ]
  },
  {
   "cell_type": "code",
   "execution_count": 23,
   "metadata": {
    "ExecuteTime": {
     "end_time": "2020-11-28T20:37:18.532892Z",
     "start_time": "2020-11-28T20:37:16.153721Z"
    }
   },
   "outputs": [
    {
     "name": "stdout",
     "output_type": "stream",
     "text": [
      "digite um número para n: 6\n",
      "6 ! =  720\n"
     ]
    }
   ],
   "source": [
    "def fatorial_it(n) :\n",
    "    k = 1\n",
    "    for i in range(1,n+1):\n",
    "        k = k * i\n",
    "    return k\n",
    "\n",
    "n = int(input('digite um número para n: '))\n",
    "print(n,'! = ',fatorial_it(n))"
   ]
  },
  {
   "cell_type": "markdown",
   "metadata": {},
   "source": [
    "## Fatorial"
   ]
  },
  {
   "cell_type": "code",
   "execution_count": 19,
   "metadata": {
    "ExecuteTime": {
     "end_time": "2020-11-28T20:35:12.556970Z",
     "start_time": "2020-11-28T20:35:10.785745Z"
    }
   },
   "outputs": [
    {
     "name": "stdout",
     "output_type": "stream",
     "text": [
      "digite um valor para n:5\n",
      "120\n"
     ]
    }
   ],
   "source": [
    "def fatorial_1(n):\n",
    "    if n <= 1:\n",
    "        return 1\n",
    "    else: \n",
    "        x = n-1\n",
    "        fat = fatorial_1(x)\n",
    "        return n*fat\n",
    "\n",
    "n = int(input('digite um valor para n:'))\n",
    "print(fatorial_1(n))"
   ]
  },
  {
   "cell_type": "code",
   "execution_count": 20,
   "metadata": {
    "ExecuteTime": {
     "end_time": "2020-11-28T20:35:28.531567Z",
     "start_time": "2020-11-28T20:35:26.689125Z"
    }
   },
   "outputs": [
    {
     "name": "stdout",
     "output_type": "stream",
     "text": [
      "digite um valor para n: 6\n",
      "720\n"
     ]
    }
   ],
   "source": [
    "def fatorial_2(n):\n",
    "    if n <= 1:\n",
    "        return 1\n",
    "    else: \n",
    "        return n * fatorial_2(n-1)\n",
    "\n",
    "n = int(input('digite um valor para n: '))\n",
    "print(fatorial_2(n))"
   ]
  },
  {
   "cell_type": "code",
   "execution_count": 50,
   "metadata": {
    "ExecuteTime": {
     "end_time": "2020-11-28T20:58:58.590793Z",
     "start_time": "2020-11-28T20:58:54.869131Z"
    }
   },
   "outputs": [
    {
     "name": "stdout",
     "output_type": "stream",
     "text": [
      "digite um valor para n: 6\n",
      "720\n"
     ]
    }
   ],
   "source": [
    "def fatorial_3(x):\n",
    "    fat = 1\n",
    "    for i in range(1, x + 1):\n",
    "        fat = fat * i\n",
    "    return fat\n",
    "\n",
    "n = int(input('digite um valor para n: '))\n",
    "print(fatorial_3(n))"
   ]
  },
  {
   "cell_type": "markdown",
   "metadata": {},
   "source": [
    "## Simples exemplo de recursão (soma acumulada)\n",
    "\n",
    "Python também aceita recursão de função, o que significa que uma função definida pode chamar a si mesma. A recursão é um conceito matemático e de programação comum. Isso significa que uma função chama a si mesma. O desenvolvedor deve ter muito cuidado com a recursão, pois pode ser muito fácil escrever uma função que nunca termina, ou que usa uma quantidade excessiva de memória ou potência do processador. No entanto, quando escrito corretamente, a recursão pode ser uma abordagem de programação muito eficiente e matematicamente elegante. Neste exemplo, recursao() é uma função que definimos para chamar a si mesma. Usamos a variável k como os dados, que diminui (-1) toda vez que recursamos. A recursão termina quando for igual a 0."
   ]
  },
  {
   "cell_type": "code",
   "execution_count": 32,
   "metadata": {
    "ExecuteTime": {
     "end_time": "2020-11-28T20:46:10.731912Z",
     "start_time": "2020-11-28T20:46:10.723969Z"
    }
   },
   "outputs": [
    {
     "name": "stdout",
     "output_type": "stream",
     "text": [
      "1\n",
      "3\n",
      "6\n",
      "10\n",
      "15\n",
      "21\n"
     ]
    },
    {
     "data": {
      "text/plain": [
       "21"
      ]
     },
     "execution_count": 32,
     "metadata": {},
     "output_type": "execute_result"
    }
   ],
   "source": [
    "def recursao(k):\n",
    "    if(k > 0):\n",
    "        acumulado = k + recursao(k - 1)\n",
    "        print(acumulado)\n",
    "    else:\n",
    "        acumulado = 0\n",
    "    return acumulado\n",
    "\n",
    "recursao(6)"
   ]
  },
  {
   "cell_type": "markdown",
   "metadata": {},
   "source": [
    "## Calcula o mdc entre x e y"
   ]
  },
  {
   "cell_type": "code",
   "execution_count": 40,
   "metadata": {
    "ExecuteTime": {
     "end_time": "2020-11-28T20:51:30.756209Z",
     "start_time": "2020-11-28T20:51:30.751198Z"
    }
   },
   "outputs": [
    {
     "data": {
      "text/plain": [
       "5"
      ]
     },
     "execution_count": 40,
     "metadata": {},
     "output_type": "execute_result"
    }
   ],
   "source": [
    "def mdc1(x, y):\n",
    "    while (y != 0):\n",
    "        (x, y) = (y, x % y)\n",
    "    return x\n",
    "\n",
    "mdc1(120, 25)"
   ]
  },
  {
   "cell_type": "code",
   "execution_count": 41,
   "metadata": {
    "ExecuteTime": {
     "end_time": "2020-11-28T20:51:40.012484Z",
     "start_time": "2020-11-28T20:51:40.006468Z"
    }
   },
   "outputs": [
    {
     "data": {
      "text/plain": [
       "5"
      ]
     },
     "execution_count": 41,
     "metadata": {},
     "output_type": "execute_result"
    }
   ],
   "source": [
    "def mdc2(x, y):\n",
    "    while (y != 0):\n",
    "        r = x % y\n",
    "        x = y\n",
    "        y = r\n",
    "    return x\n",
    "\n",
    "mdc2(120, 25)"
   ]
  },
  {
   "cell_type": "markdown",
   "metadata": {},
   "source": [
    "## Calcula o mmc entre x e y"
   ]
  },
  {
   "cell_type": "code",
   "execution_count": 45,
   "metadata": {
    "ExecuteTime": {
     "end_time": "2020-11-28T20:53:47.295685Z",
     "start_time": "2020-11-28T20:53:47.286706Z"
    }
   },
   "outputs": [
    {
     "data": {
      "text/plain": [
       "750"
      ]
     },
     "execution_count": 45,
     "metadata": {},
     "output_type": "execute_result"
    }
   ],
   "source": [
    "def mmc1(x, y):\n",
    "    resultado = 1\n",
    "    while (resultado % x != 0) or (resultado % y != 0):\n",
    "        resultado = resultado + 1\n",
    "    return resultado\n",
    "\n",
    "mmc1(150, 125)"
   ]
  },
  {
   "cell_type": "code",
   "execution_count": 46,
   "metadata": {
    "ExecuteTime": {
     "end_time": "2020-11-28T20:54:28.165497Z",
     "start_time": "2020-11-28T20:54:28.160537Z"
    }
   },
   "outputs": [
    {
     "data": {
      "text/plain": [
       "750"
      ]
     },
     "execution_count": 46,
     "metadata": {},
     "output_type": "execute_result"
    }
   ],
   "source": [
    "def mmc2(x, y):\n",
    "    resultado = x\n",
    "    while resultado % y != 0:\n",
    "        resultado = resultado + x\n",
    "    return resultado\n",
    "\n",
    "mmc2(150, 125)"
   ]
  },
  {
   "cell_type": "code",
   "execution_count": 47,
   "metadata": {
    "ExecuteTime": {
     "end_time": "2020-11-28T20:55:04.914757Z",
     "start_time": "2020-11-28T20:55:04.904784Z"
    }
   },
   "outputs": [
    {
     "data": {
      "text/plain": [
       "750"
      ]
     },
     "execution_count": 47,
     "metadata": {},
     "output_type": "execute_result"
    }
   ],
   "source": [
    "def mmc3(x, y):\n",
    "    resultado = max(x, y)\n",
    "    while resultado % min(x, y) != 0:\n",
    "        resultado = resultado + max(x, y)\n",
    "    return resultado\n",
    "\n",
    "mmc3(150, 125)"
   ]
  },
  {
   "cell_type": "code",
   "execution_count": 48,
   "metadata": {
    "ExecuteTime": {
     "end_time": "2020-11-28T20:56:29.922218Z",
     "start_time": "2020-11-28T20:56:29.916234Z"
    }
   },
   "outputs": [
    {
     "data": {
      "text/plain": [
       "750"
      ]
     },
     "execution_count": 48,
     "metadata": {},
     "output_type": "execute_result"
    }
   ],
   "source": [
    "def mmc4(x, y):\n",
    "    return int((x * y) / mdc2(x, y))\n",
    "\n",
    "mmc4(150, 125)"
   ]
  },
  {
   "cell_type": "code",
   "execution_count": 49,
   "metadata": {
    "ExecuteTime": {
     "end_time": "2020-11-28T20:57:21.294535Z",
     "start_time": "2020-11-28T20:57:21.284562Z"
    }
   },
   "outputs": [
    {
     "data": {
      "text/plain": [
       "750"
      ]
     },
     "execution_count": 49,
     "metadata": {},
     "output_type": "execute_result"
    }
   ],
   "source": [
    "def mmc5(x, y):\n",
    "    if (x < y):\n",
    "        (x, y) = (y, x)\n",
    "    resultado = x\n",
    "    while resultado % y != 0:\n",
    "        resultado = resultado + x\n",
    "    return resultado\n",
    "\n",
    "mmc5(150, 125)"
   ]
  },
  {
   "cell_type": "markdown",
   "metadata": {},
   "source": [
    "## Função reverso de um número"
   ]
  },
  {
   "cell_type": "code",
   "execution_count": 72,
   "metadata": {
    "ExecuteTime": {
     "end_time": "2020-11-28T21:14:54.248247Z",
     "start_time": "2020-11-28T21:14:46.781723Z"
    }
   },
   "outputs": [
    {
     "name": "stdout",
     "output_type": "stream",
     "text": [
      "123456\n",
      "654321\n"
     ]
    }
   ],
   "source": [
    "def reverso(x):\n",
    "    rev = 0\n",
    "    while x >0:\n",
    "        rest = x % 10\n",
    "        x = x // 10\n",
    "        rev = rev * 10 + rest\n",
    "    return rev\n",
    "\n",
    "n = int(input())\n",
    "print(reverso(n))"
   ]
  },
  {
   "cell_type": "markdown",
   "metadata": {},
   "source": [
    "## Soma dos n primeiro naturais"
   ]
  },
  {
   "cell_type": "code",
   "execution_count": 73,
   "metadata": {
    "ExecuteTime": {
     "end_time": "2020-11-28T21:16:01.837617Z",
     "start_time": "2020-11-28T21:16:01.831634Z"
    }
   },
   "outputs": [
    {
     "data": {
      "text/plain": [
       "5050"
      ]
     },
     "execution_count": 73,
     "metadata": {},
     "output_type": "execute_result"
    }
   ],
   "source": [
    "def soma_n(n):\n",
    "    total, k = 0, 1\n",
    "    while k <= n:\n",
    "        total, k = total + k, k + 1\n",
    "    return total\n",
    "\n",
    "soma_n(100)"
   ]
  },
  {
   "cell_type": "markdown",
   "metadata": {},
   "source": [
    "## Sequência de Fibonacci\n",
    "\n",
    "A sequência de Fibonacci foi descoberta por Leonardo de Pisa em 1202 ao investigar a já famosa\n",
    "razão de ouro $(\\varphi)$. Neste trabalho ele descobriu a seguinte sequência de números:\n",
    "\n",
    "\\begin{equation}\n",
    "\\nonumber 1,\\;1,\\;2,\\;3,\\;5,\\;8,\\;13,\\;21,\\;34,\\;55,\\;89,\\;144,\\;\\ldots \n",
    "\\end{equation}\n",
    "\n",
    "A sequência acima é gerada recursivamente pela sequinte equação funcional.\n",
    "\n",
    "\\begin{equation}\n",
    "\\nonumber F(n+2) = F(n + 1) + F(n).\n",
    "\\end{equation}\n",
    "\n",
    "Obs.: A sequência de Fibonacci é usualmente iniciada com n = 1 e as condições de que F(1) = 1 \n",
    "e que F(2) = 1, porém muitas pessoas iniciam a sequência com n = 0 e que F(0) = 1 e que F(1) = 1.\n",
    "Nenhum dos dois modos está errado. Essa divergência acontece devido ao interminável debate se o\n",
    "número 0 faz parte ou não dos números naturais."
   ]
  },
  {
   "cell_type": "code",
   "execution_count": 21,
   "metadata": {
    "ExecuteTime": {
     "end_time": "2020-11-28T20:35:48.292966Z",
     "start_time": "2020-11-28T20:35:39.137375Z"
    }
   },
   "outputs": [
    {
     "name": "stdout",
     "output_type": "stream",
     "text": [
      "digite um número para n: 8\n",
      "Sequência de Fibonacci para n =  8\n",
      "1\n",
      "1\n",
      "2\n",
      "3\n",
      "5\n",
      "8\n",
      "13\n",
      "21\n"
     ]
    }
   ],
   "source": [
    "def fibo(n):\n",
    "    if n <= 1:\n",
    "        return 1\n",
    "    else:\n",
    "        return(fibo(n-1) + fibo(n-2))\n",
    "n = int(input('digite um número para n: '))\n",
    "if n <= 0:\n",
    "    print('Insira um número inteiro maior que zero.')\n",
    "else:\n",
    "    print('Sequência de Fibonacci para n = ', n)\n",
    "    for i in range(n):\n",
    "        print(fibo(i))"
   ]
  },
  {
   "cell_type": "markdown",
   "metadata": {},
   "source": [
    "## Razão de ouro\n",
    "\n",
    "A razão de ouro, representada comumente pela letra grega $\\varphi$ é definida pela seguinte expressão\n",
    "\n",
    "\\begin{equation}\n",
    "\\nonumber \\varphi = \\frac{1+{\\sqrt{5}}}{2} = 1.6180339887\\ldots \n",
    "\\end{equation}\n",
    "\n",
    "O valor acima pode ser encontrado encontrando as raízes da seguinte equação do segundo grau:\n",
    "\n",
    "\\begin{equation}\n",
    "\\nonumber \\varphi^{2} - \\varphi - 1 = 0.\n",
    "\\end{equation}\n",
    "\n",
    "Porém nesta seção mostraremos como calcular a razão de ouro em termos dos números de\n",
    "Fibonacci. O cálculo da razão é dada pela razão entre números de Fibonacci consecutivos\n",
    "e a razão de ouro é encontrada quando estes números consecutivos se tornam muito grandes.\n",
    "\n",
    "\\begin{equation}\n",
    "\\nonumber \\varphi_n = \\frac{F(n+1)}{F(n)}.\n",
    "\\end{equation}\n",
    "\n",
    "Abaixo o código para calcular a razão de ouro através da sequência de Fibonacci. Note\n",
    "que neste código estamos usando uma mescla de recursão para o cálculo de Fibonacci e\n",
    "uma iteração para o cálculo do número de ouro. \n",
    "\n",
    "**Obs.:** O código abaixo possui um problema grave de consumo de memória. Como dever de casa procure uma maneira de melhorar o código abaixo."
   ]
  },
  {
   "cell_type": "code",
   "execution_count": 22,
   "metadata": {
    "ExecuteTime": {
     "end_time": "2020-11-28T20:36:25.533018Z",
     "start_time": "2020-11-28T20:36:23.570897Z"
    }
   },
   "outputs": [
    {
     "name": "stdout",
     "output_type": "stream",
     "text": [
      "digite um número para n: 5\n",
      "Sequência de Fibonacci para n =  5\n",
      "1.0\n",
      "1.0\n",
      "3.0\n",
      "1.6666666666666667\n",
      "1.6\n"
     ]
    }
   ],
   "source": [
    "def fibo_ouro(n):\n",
    "    if n <= 2:\n",
    "        return 1\n",
    "    else:\n",
    "        return(fibo(n-1) + fibo(n-2))\n",
    "n = int(input('digite um número para n: '))\n",
    "if n <= 0:\n",
    "    print('Insira um número inteiro maior que zero.')\n",
    "else:\n",
    "    print('Sequência de Fibonacci para n = ', n)\n",
    "    for i in range(n):\n",
    "        print(fibo_ouro(i+1)/fibo_ouro(i))"
   ]
  }
 ],
 "metadata": {
  "hide_input": false,
  "kernelspec": {
   "display_name": "Python 3 (ipykernel)",
   "language": "python",
   "name": "python3"
  },
  "language_info": {
   "codemirror_mode": {
    "name": "ipython",
    "version": 3
   },
   "file_extension": ".py",
   "mimetype": "text/x-python",
   "name": "python",
   "nbconvert_exporter": "python",
   "pygments_lexer": "ipython3",
   "version": "3.9.13"
  },
  "latex_envs": {
   "LaTeX_envs_menu_present": true,
   "autoclose": false,
   "autocomplete": true,
   "bibliofile": "biblio.bib",
   "cite_by": "apalike",
   "current_citInitial": 1,
   "eqLabelWithNumbers": true,
   "eqNumInitial": 1,
   "hotkeys": {
    "equation": "Ctrl-E",
    "itemize": "Ctrl-I"
   },
   "labels_anchors": false,
   "latex_user_defs": false,
   "report_style_numbering": false,
   "user_envs_cfg": false
  },
  "toc": {
   "base_numbering": 1,
   "nav_menu": {},
   "number_sections": true,
   "sideBar": true,
   "skip_h1_title": false,
   "title_cell": "Table of Contents",
   "title_sidebar": "Contents",
   "toc_cell": false,
   "toc_position": {
    "height": "calc(100% - 180px)",
    "left": "10px",
    "top": "150px",
    "width": "349.091px"
   },
   "toc_section_display": true,
   "toc_window_display": true
  },
  "varInspector": {
   "cols": {
    "lenName": 16,
    "lenType": 16,
    "lenVar": 40
   },
   "kernels_config": {
    "python": {
     "delete_cmd_postfix": "",
     "delete_cmd_prefix": "del ",
     "library": "var_list.py",
     "varRefreshCmd": "print(var_dic_list())"
    },
    "r": {
     "delete_cmd_postfix": ") ",
     "delete_cmd_prefix": "rm(",
     "library": "var_list.r",
     "varRefreshCmd": "cat(var_dic_list()) "
    }
   },
   "types_to_exclude": [
    "module",
    "function",
    "builtin_function_or_method",
    "instance",
    "_Feature"
   ],
   "window_display": false
  }
 },
 "nbformat": 4,
 "nbformat_minor": 4
}
