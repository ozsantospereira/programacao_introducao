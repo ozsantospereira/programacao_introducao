{
 "cells": [
  {
   "cell_type": "markdown",
   "id": "06010428",
   "metadata": {},
   "source": [
    "# Verificação de Sequência Crescente\n",
    "Desenvolva um programa que lê um número 𝑛 e, em seguida, uma sequência de 𝑛 números. O programa deve verificar e indicar se a sequência está ordenada de forma crescente."
   ]
  },
  {
   "cell_type": "code",
   "execution_count": 1,
   "id": "b3a188bf",
   "metadata": {
    "ExecuteTime": {
     "end_time": "2025-02-08T17:05:38.445094Z",
     "start_time": "2025-02-08T17:05:27.370095Z"
    }
   },
   "outputs": [
    {
     "name": "stdout",
     "output_type": "stream",
     "text": [
      "Digite o número de elementos: 4\n",
      "1\n",
      "4\n",
      "77\n",
      "11\n",
      "A sequência NÃO está ordenada.\n"
     ]
    }
   ],
   "source": [
    "def verifica_crescente():\n",
    "    n = int(input(\"Digite o número de elementos: \"))\n",
    "    lista = [int(input()) for _ in range(n)]\n",
    "    \n",
    "    if lista == sorted(lista):\n",
    "        print(\"A sequência está ordenada em ordem crescente.\")\n",
    "    else:\n",
    "        print(\"A sequência NÃO está ordenada.\")\n",
    "\n",
    "verifica_crescente()"
   ]
  },
  {
   "cell_type": "markdown",
   "id": "51412516",
   "metadata": {},
   "source": [
    "# Cálculo do Máximo Divisor Comum (MDC)\n",
    "Escreva um programa que lê dois números m e 𝑛 e calcula o MDC entre eles utilizando o Algoritmo de Euclides."
   ]
  },
  {
   "cell_type": "code",
   "execution_count": 2,
   "id": "0b19dda0",
   "metadata": {
    "ExecuteTime": {
     "end_time": "2025-02-08T17:07:26.052093Z",
     "start_time": "2025-02-08T17:07:21.231093Z"
    }
   },
   "outputs": [
    {
     "name": "stdout",
     "output_type": "stream",
     "text": [
      "Digite m: 15\n",
      "Digite n: 45\n",
      "MDC: 15\n"
     ]
    }
   ],
   "source": [
    "def mdc(m, n):\n",
    "    while n:\n",
    "        m, n = n, m % n\n",
    "    return m\n",
    "\n",
    "m = int(input(\"Digite m: \"))\n",
    "n = int(input(\"Digite n: \"))\n",
    "print(\"MDC:\", mdc(m, n))\n"
   ]
  },
  {
   "cell_type": "markdown",
   "id": "7ec3319d",
   "metadata": {},
   "source": [
    "#  Números Primos Próximos\n",
    "\n",
    "Escreva um programa que lê um número n e imprime o menor número primo maior ou igual a n e o maior número primo menor ou igual a n."
   ]
  },
  {
   "cell_type": "code",
   "execution_count": 3,
   "id": "b37eb8db",
   "metadata": {
    "ExecuteTime": {
     "end_time": "2025-02-08T17:09:16.867094Z",
     "start_time": "2025-02-08T17:09:12.472092Z"
    }
   },
   "outputs": [
    {
     "name": "stdout",
     "output_type": "stream",
     "text": [
      "Digite n: 8\n",
      "Maior primo ≤ 8: 7\n",
      "Menor primo ≥ 8: 11\n"
     ]
    }
   ],
   "source": [
    "def eh_primo(num):\n",
    "    if num < 2:\n",
    "        return False\n",
    "    for i in range(2, int(num**0.5) + 1):\n",
    "        if num % i == 0:\n",
    "            return False\n",
    "    return True\n",
    "\n",
    "def primo_proximo(n):\n",
    "    menor = n\n",
    "    while not eh_primo(menor):\n",
    "        menor -= 1\n",
    "    \n",
    "    maior = n\n",
    "    while not eh_primo(maior):\n",
    "        maior += 1\n",
    "    \n",
    "    print(f\"Maior primo ≤ {n}: {menor}\")\n",
    "    print(f\"Menor primo ≥ {n}: {maior}\")\n",
    "\n",
    "n = int(input(\"Digite n: \"))\n",
    "primo_proximo(n)\n"
   ]
  },
  {
   "cell_type": "markdown",
   "id": "2a3fcd1f",
   "metadata": {},
   "source": [
    "# Contagem em Intervalos: \n",
    "\n",
    "Desenvolva um programa que lê 𝑛 n números inteiros e conta quantos deles estão nos intervalos [0, 25], [26, 50], [51, 75] e [76, 100]."
   ]
  },
  {
   "cell_type": "code",
   "execution_count": 4,
   "id": "d6f45d4e",
   "metadata": {
    "ExecuteTime": {
     "end_time": "2025-02-08T17:11:44.887092Z",
     "start_time": "2025-02-08T17:11:27.156092Z"
    }
   },
   "outputs": [
    {
     "name": "stdout",
     "output_type": "stream",
     "text": [
      "Digite a quantidade de números: 9\n",
      "1\n",
      "33\n",
      "44\n",
      "55\n",
      "77\n",
      "66\n",
      "88\n",
      "99\n",
      "111\n",
      "Intervalos:\n",
      "[0,25]: 1\n",
      "[26,50]: 2\n",
      "[51,75]: 2\n",
      "[76,100]: 3\n"
     ]
    }
   ],
   "source": [
    "def contagem_intervalos():\n",
    "    n = int(input(\"Digite a quantidade de números: \"))\n",
    "    valores = [int(input()) for _ in range(n)]\n",
    "    \n",
    "    contadores = [0] * 4\n",
    "    for v in valores:\n",
    "        if 0 <= v <= 25:\n",
    "            contadores[0] += 1\n",
    "        elif 26 <= v <= 50:\n",
    "            contadores[1] += 1\n",
    "        elif 51 <= v <= 75:\n",
    "            contadores[2] += 1\n",
    "        elif 76 <= v <= 100:\n",
    "            contadores[3] += 1\n",
    "\n",
    "    print(\"Intervalos:\")\n",
    "    print(f\"[0,25]: {contadores[0]}\")\n",
    "    print(f\"[26,50]: {contadores[1]}\")\n",
    "    print(f\"[51,75]: {contadores[2]}\")\n",
    "    print(f\"[76,100]: {contadores[3]}\")\n",
    "\n",
    "contagem_intervalos()\n"
   ]
  },
  {
   "cell_type": "markdown",
   "id": "3823f97b",
   "metadata": {},
   "source": [
    "# Cálculo da Raiz Quadrada\n",
    "Implemente um programa que calcula a raiz quadrada de um número positivo utilizando o método de aproximações sucessivas de Newton, imprimindo o valor da vigésima aproximação."
   ]
  },
  {
   "cell_type": "code",
   "execution_count": 6,
   "id": "c860bae5",
   "metadata": {
    "ExecuteTime": {
     "end_time": "2025-02-08T17:12:39.465093Z",
     "start_time": "2025-02-08T17:12:36.213092Z"
    }
   },
   "outputs": [
    {
     "name": "stdout",
     "output_type": "stream",
     "text": [
      "Digite um número: 101\n",
      "A raiz quadrada aproximada é: 10.04987562112089\n"
     ]
    }
   ],
   "source": [
    "def raiz_quadrada(n):\n",
    "    x = n\n",
    "    for _ in range(20):  # 20 iterações de Newton\n",
    "        x = 0.5 * (x + n / x)\n",
    "    return x\n",
    "\n",
    "n = float(input(\"Digite um número: \"))\n",
    "print(f\"A raiz quadrada aproximada é: {raiz_quadrada(n)}\")"
   ]
  },
  {
   "cell_type": "markdown",
   "id": "30d3eb93",
   "metadata": {},
   "source": [
    "# "
   ]
  },
  {
   "cell_type": "code",
   "execution_count": 7,
   "id": "ded9decd",
   "metadata": {
    "ExecuteTime": {
     "end_time": "2025-02-08T17:13:03.461093Z",
     "start_time": "2025-02-08T17:13:00.110092Z"
    }
   },
   "outputs": [
    {
     "name": "stdout",
     "output_type": "stream",
     "text": [
      "Digite C: 10\n",
      "(0, 0, 10)\n",
      "(0, 1, 9)\n",
      "(0, 2, 8)\n",
      "(0, 3, 7)\n",
      "(0, 4, 6)\n",
      "(0, 5, 5)\n",
      "(0, 6, 4)\n",
      "(0, 7, 3)\n",
      "(0, 8, 2)\n",
      "(0, 9, 1)\n",
      "(0, 10, 0)\n",
      "(1, 0, 9)\n",
      "(1, 1, 8)\n",
      "(1, 2, 7)\n",
      "(1, 3, 6)\n",
      "(1, 4, 5)\n",
      "(1, 5, 4)\n",
      "(1, 6, 3)\n",
      "(1, 7, 2)\n",
      "(1, 8, 1)\n",
      "(1, 9, 0)\n",
      "(2, 0, 8)\n",
      "(2, 1, 7)\n",
      "(2, 2, 6)\n",
      "(2, 3, 5)\n",
      "(2, 4, 4)\n",
      "(2, 5, 3)\n",
      "(2, 6, 2)\n",
      "(2, 7, 1)\n",
      "(2, 8, 0)\n",
      "(3, 0, 7)\n",
      "(3, 1, 6)\n",
      "(3, 2, 5)\n",
      "(3, 3, 4)\n",
      "(3, 4, 3)\n",
      "(3, 5, 2)\n",
      "(3, 6, 1)\n",
      "(3, 7, 0)\n",
      "(4, 0, 6)\n",
      "(4, 1, 5)\n",
      "(4, 2, 4)\n",
      "(4, 3, 3)\n",
      "(4, 4, 2)\n",
      "(4, 5, 1)\n",
      "(4, 6, 0)\n",
      "(5, 0, 5)\n",
      "(5, 1, 4)\n",
      "(5, 2, 3)\n",
      "(5, 3, 2)\n",
      "(5, 4, 1)\n",
      "(5, 5, 0)\n",
      "(6, 0, 4)\n",
      "(6, 1, 3)\n",
      "(6, 2, 2)\n",
      "(6, 3, 1)\n",
      "(6, 4, 0)\n",
      "(7, 0, 3)\n",
      "(7, 1, 2)\n",
      "(7, 2, 1)\n",
      "(7, 3, 0)\n",
      "(8, 0, 2)\n",
      "(8, 1, 1)\n",
      "(8, 2, 0)\n",
      "(9, 0, 1)\n",
      "(9, 1, 0)\n",
      "(10, 0, 0)\n"
     ]
    }
   ],
   "source": [
    "def solucoes_equacao(C):\n",
    "    for x1 in range(C + 1):\n",
    "        for x2 in range(C + 1 - x1):\n",
    "            x3 = C - x1 - x2\n",
    "            print(f\"({x1}, {x2}, {x3})\")\n",
    "\n",
    "C = int(input(\"Digite C: \"))\n",
    "solucoes_equacao(C)\n"
   ]
  },
  {
   "cell_type": "markdown",
   "id": "caabb505",
   "metadata": {},
   "source": [
    "# Conversão para Binário\n",
    "Desenvolva um programa que lê um número na base decimal e o imprime na base binária."
   ]
  },
  {
   "cell_type": "code",
   "execution_count": 8,
   "id": "49d655e9",
   "metadata": {
    "ExecuteTime": {
     "end_time": "2025-02-08T17:15:14.137093Z",
     "start_time": "2025-02-08T17:15:12.050092Z"
    }
   },
   "outputs": [
    {
     "name": "stdout",
     "output_type": "stream",
     "text": [
      "Digite um número: 5\n",
      "Representação binária: 101\n"
     ]
    }
   ],
   "source": [
    "def decimal_para_binario(n):\n",
    "    return bin(n)[2:]\n",
    "\n",
    "n = int(input(\"Digite um número: \"))\n",
    "print(f\"Representação binária: {decimal_para_binario(n)}\")\n"
   ]
  },
  {
   "cell_type": "markdown",
   "id": "1b2986d4",
   "metadata": {},
   "source": [
    "# Impressão de Padrão Numérico I\n",
    "Crie um programa que lê um número inteiro positivo 𝑛 n e imprime 𝑛 linhas seguindo um padrão numérico específico à um triângulo retângulo."
   ]
  },
  {
   "cell_type": "code",
   "execution_count": 10,
   "id": "cdc2b2b1",
   "metadata": {
    "ExecuteTime": {
     "end_time": "2025-02-08T17:15:31.419092Z",
     "start_time": "2025-02-08T17:15:28.026092Z"
    }
   },
   "outputs": [
    {
     "name": "stdout",
     "output_type": "stream",
     "text": [
      "Digite n: 11\n",
      "1\n",
      "1 2\n",
      "1 2 3\n",
      "1 2 3 4\n",
      "1 2 3 4 5\n",
      "1 2 3 4 5 6\n",
      "1 2 3 4 5 6 7\n",
      "1 2 3 4 5 6 7 8\n",
      "1 2 3 4 5 6 7 8 9\n",
      "1 2 3 4 5 6 7 8 9 10\n",
      "1 2 3 4 5 6 7 8 9 10 11\n"
     ]
    }
   ],
   "source": [
    "def padrao1(n):\n",
    "    for i in range(1, n + 1):\n",
    "        print(\" \".join(str(x) for x in range(1, i + 1)))\n",
    "\n",
    "n = int(input(\"Digite n: \"))\n",
    "padrao1(n)\n"
   ]
  },
  {
   "cell_type": "markdown",
   "id": "c0f8f0f0",
   "metadata": {},
   "source": [
    "# Impressão de Padrão Numérico II\n",
    "Escreva um programa que lê um número n e imprime n linhas seguindo outro padrão numérico específico  à um triângulo retângulo invertido."
   ]
  },
  {
   "cell_type": "code",
   "execution_count": 11,
   "id": "6827bf84",
   "metadata": {
    "ExecuteTime": {
     "end_time": "2025-02-08T17:15:56.477094Z",
     "start_time": "2025-02-08T17:15:54.811094Z"
    }
   },
   "outputs": [
    {
     "name": "stdout",
     "output_type": "stream",
     "text": [
      "Digite n: 11\n",
      "11 10 9 8 7 6 5 4 3 2 1\n",
      "10 9 8 7 6 5 4 3 2 1\n",
      "9 8 7 6 5 4 3 2 1\n",
      "8 7 6 5 4 3 2 1\n",
      "7 6 5 4 3 2 1\n",
      "6 5 4 3 2 1\n",
      "5 4 3 2 1\n",
      "4 3 2 1\n",
      "3 2 1\n",
      "2 1\n",
      "1\n"
     ]
    }
   ],
   "source": [
    "def padrao2(n):\n",
    "    for i in range(n, 0, -1):\n",
    "        print(\" \".join(str(x) for x in range(i, 0, -1)))\n",
    "\n",
    "n = int(input(\"Digite n: \"))\n",
    "padrao2(n)\n"
   ]
  },
  {
   "cell_type": "markdown",
   "id": "bb648447",
   "metadata": {},
   "source": [
    "# Impressão de Padrão com Símbolos\n",
    "Desenvolva um programa que lê um número n e imprime n linhas seguindo um padrão que combina números e símbolos, em um formato de um quadrado de lado n, cuja diagonal contém $+$ o resto contém $*$."
   ]
  },
  {
   "cell_type": "code",
   "execution_count": 13,
   "id": "d9ea6fab",
   "metadata": {
    "ExecuteTime": {
     "end_time": "2025-02-08T17:19:41.015254Z",
     "start_time": "2025-02-08T17:19:38.409251Z"
    }
   },
   "outputs": [
    {
     "name": "stdout",
     "output_type": "stream",
     "text": [
      "Digite o valor de n: 5\n",
      "+ * * * *\n",
      "* + * * *\n",
      "* * + * *\n",
      "* * * + *\n",
      "* * * * +\n"
     ]
    }
   ],
   "source": [
    "def padrao_simbolos(n):\n",
    "    for i in range(n):\n",
    "        linha = [\"*\"] * n  # Começa com todos os caracteres sendo '*'\n",
    "        linha[i] = \"+\"  # Define a posição correspondente como '+'\n",
    "        print(\" \".join(linha))  # Junta e imprime a linha formatada\n",
    "\n",
    "n = int(input(\"Digite o valor de n: \"))\n",
    "padrao_simbolos(n)"
   ]
  },
  {
   "cell_type": "markdown",
   "id": "e40ed958",
   "metadata": {},
   "source": [
    "# Geração de Jogos da Mega-Sena\n",
    "Implemente um programa que gera todas as combinações possíveis de jogos da Mega-Sena seguindo uma regra específica de alternância entre números pares e ímpares."
   ]
  },
  {
   "cell_type": "code",
   "execution_count": 17,
   "id": "b679ec77",
   "metadata": {
    "ExecuteTime": {
     "end_time": "2025-02-08T17:23:42.784741Z",
     "start_time": "2025-02-08T17:23:42.768739Z"
    }
   },
   "outputs": [
    {
     "name": "stdout",
     "output_type": "stream",
     "text": [
      "Exibindo os primeiros 10 jogos:\n",
      "(2, 1, 2, 1, 2, 1)\n",
      "(2, 1, 2, 1, 2, 3)\n",
      "(2, 1, 2, 1, 2, 5)\n",
      "(2, 1, 2, 1, 2, 7)\n",
      "(2, 1, 2, 1, 2, 9)\n",
      "(2, 1, 2, 1, 2, 11)\n",
      "(2, 1, 2, 1, 2, 13)\n",
      "(2, 1, 2, 1, 2, 15)\n",
      "(2, 1, 2, 1, 2, 17)\n",
      "(2, 1, 2, 1, 2, 19)\n",
      "(2, 1, 2, 1, 2, 21)\n",
      "(2, 1, 2, 1, 2, 23)\n",
      "(2, 1, 2, 1, 2, 25)\n",
      "(2, 1, 2, 1, 2, 27)\n",
      "(2, 1, 2, 1, 2, 29)\n",
      "(2, 1, 2, 1, 2, 31)\n",
      "(2, 1, 2, 1, 2, 33)\n",
      "(2, 1, 2, 1, 2, 35)\n",
      "(2, 1, 2, 1, 2, 37)\n",
      "(2, 1, 2, 1, 2, 39)\n",
      "\n",
      "Total de jogos possíveis: 729000000\n"
     ]
    }
   ],
   "source": [
    "import itertools\n",
    "\n",
    "def jogos_supersticiosos(n):\n",
    "    # Lista de números disponíveis na Mega-Sena (1 a 60)\n",
    "    numeros = range(1, 61)\n",
    "\n",
    "    # Filtrando os números pares e ímpares\n",
    "    pares = [num for num in numeros if num % 2 == 0]\n",
    "    impares = [num for num in numeros if num % 2 == 1]\n",
    "\n",
    "    # O padrão é (P, I, P, I, P, I), então podemos usar itertools.product\n",
    "    jogos_iter = itertools.product(pares, impares, pares, impares, pares, impares)\n",
    "\n",
    "    # Exibir os primeiros 10 jogos gerados\n",
    "    print(\"Exibindo os primeiros 10 jogos:\")\n",
    "    for jogo in itertools.islice(jogos_iter, n):\n",
    "        print(jogo)\n",
    "\n",
    "    # Calculando o total de jogos possíveis sem gerá-los todos\n",
    "    total_jogos = (len(pares) * len(impares)) ** 3  # pois 3 pares e 3 ímpares\n",
    "    print(f\"\\nTotal de jogos possíveis: {total_jogos}\")\n",
    "\n",
    "n = 20\n",
    "jogos_supersticiosos(n)"
   ]
  }
 ],
 "metadata": {
  "hide_input": false,
  "kernelspec": {
   "display_name": "Python 3 (ipykernel)",
   "language": "python",
   "name": "python3"
  },
  "language_info": {
   "codemirror_mode": {
    "name": "ipython",
    "version": 3
   },
   "file_extension": ".py",
   "mimetype": "text/x-python",
   "name": "python",
   "nbconvert_exporter": "python",
   "pygments_lexer": "ipython3",
   "version": "3.9.13"
  },
  "toc": {
   "base_numbering": 1,
   "nav_menu": {},
   "number_sections": true,
   "sideBar": true,
   "skip_h1_title": false,
   "title_cell": "Table of Contents",
   "title_sidebar": "Contents",
   "toc_cell": false,
   "toc_position": {},
   "toc_section_display": true,
   "toc_window_display": false
  },
  "varInspector": {
   "cols": {
    "lenName": 16,
    "lenType": 16,
    "lenVar": 40
   },
   "kernels_config": {
    "python": {
     "delete_cmd_postfix": "",
     "delete_cmd_prefix": "del ",
     "library": "var_list.py",
     "varRefreshCmd": "print(var_dic_list())"
    },
    "r": {
     "delete_cmd_postfix": ") ",
     "delete_cmd_prefix": "rm(",
     "library": "var_list.r",
     "varRefreshCmd": "cat(var_dic_list()) "
    }
   },
   "types_to_exclude": [
    "module",
    "function",
    "builtin_function_or_method",
    "instance",
    "_Feature"
   ],
   "window_display": false
  }
 },
 "nbformat": 4,
 "nbformat_minor": 5
}
